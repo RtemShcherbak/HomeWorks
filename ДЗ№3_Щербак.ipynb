{
  "nbformat": 4,
  "nbformat_minor": 0,
  "metadata": {
    "colab": {
      "provenance": [],
      "toc_visible": true,
      "authorship_tag": "ABX9TyNY9zebhjtzH9N6Y4VZVMjf",
      "include_colab_link": true
    },
    "kernelspec": {
      "name": "python3",
      "display_name": "Python 3"
    },
    "language_info": {
      "name": "python"
    }
  },
  "cells": [
    {
      "cell_type": "markdown",
      "metadata": {
        "id": "view-in-github",
        "colab_type": "text"
      },
      "source": [
        "<a href=\"https://colab.research.google.com/github/RtemShcherbak/Homeworks/blob/main/%D0%94%D0%97%E2%84%963_%D0%A9%D0%B5%D1%80%D0%B1%D0%B0%D0%BA.ipynb\" target=\"_parent\"><img src=\"https://colab.research.google.com/assets/colab-badge.svg\" alt=\"Open In Colab\"/></a>"
      ]
    },
    {
      "cell_type": "markdown",
      "source": [
        "# 1.Загрузка данных"
      ],
      "metadata": {
        "id": "1zmtI_gttn1x"
      }
    },
    {
      "cell_type": "markdown",
      "source": [
        "## 1.1 Установка ключа и скачивание данных"
      ],
      "metadata": {
        "id": "G_UZRBa0t3XI"
      }
    },
    {
      "cell_type": "code",
      "execution_count": null,
      "metadata": {
        "colab": {
          "base_uri": "https://localhost:8080/"
        },
        "id": "qq-SvY-V33Sm",
        "outputId": "bfb2877b-5183-40a8-c4d7-282090c29bca"
      },
      "outputs": [
        {
          "output_type": "stream",
          "name": "stdout",
          "text": [
            "Looking in indexes: https://pypi.org/simple, https://us-python.pkg.dev/colab-wheels/public/simple/\n",
            "Requirement already satisfied: kaggle in /usr/local/lib/python3.9/dist-packages (1.5.13)\n",
            "Requirement already satisfied: python-dateutil in /usr/local/lib/python3.9/dist-packages (from kaggle) (2.8.2)\n",
            "Requirement already satisfied: tqdm in /usr/local/lib/python3.9/dist-packages (from kaggle) (4.65.0)\n",
            "Requirement already satisfied: urllib3 in /usr/local/lib/python3.9/dist-packages (from kaggle) (1.26.15)\n",
            "Requirement already satisfied: six>=1.10 in /usr/local/lib/python3.9/dist-packages (from kaggle) (1.16.0)\n",
            "Requirement already satisfied: requests in /usr/local/lib/python3.9/dist-packages (from kaggle) (2.27.1)\n",
            "Requirement already satisfied: python-slugify in /usr/local/lib/python3.9/dist-packages (from kaggle) (8.0.1)\n",
            "Requirement already satisfied: certifi in /usr/local/lib/python3.9/dist-packages (from kaggle) (2022.12.7)\n",
            "Requirement already satisfied: text-unidecode>=1.3 in /usr/local/lib/python3.9/dist-packages (from python-slugify->kaggle) (1.3)\n",
            "Requirement already satisfied: idna<4,>=2.5 in /usr/local/lib/python3.9/dist-packages (from requests->kaggle) (3.4)\n",
            "Requirement already satisfied: charset-normalizer~=2.0.0 in /usr/local/lib/python3.9/dist-packages (from requests->kaggle) (2.0.12)\n"
          ]
        }
      ],
      "source": [
        "! pip install kaggle"
      ]
    },
    {
      "cell_type": "code",
      "source": [
        "! mkdir ~/.kaggle.json"
      ],
      "metadata": {
        "id": "tQKUbWUu5DIB",
        "colab": {
          "base_uri": "https://localhost:8080/"
        },
        "outputId": "26b35c8c-8d37-4df5-a61c-b25c65abcf89"
      },
      "execution_count": null,
      "outputs": [
        {
          "output_type": "stream",
          "name": "stdout",
          "text": [
            "mkdir: cannot create directory ‘/root/.kaggle.json’: File exists\n"
          ]
        }
      ]
    },
    {
      "cell_type": "code",
      "source": [
        "! cp kaggle.json ~/.kaggle/"
      ],
      "metadata": {
        "id": "e3rTYq_n5Lxj"
      },
      "execution_count": null,
      "outputs": []
    },
    {
      "cell_type": "code",
      "source": [
        "! chmod 600 ~/.kaggle/kaggle.json"
      ],
      "metadata": {
        "id": "mUTFHEZ352SP"
      },
      "execution_count": null,
      "outputs": []
    },
    {
      "cell_type": "code",
      "source": [
        "! kaggle datasets download digit-recognizer/data"
      ],
      "metadata": {
        "colab": {
          "base_uri": "https://localhost:8080/"
        },
        "id": "NO5JTitA65H3",
        "outputId": "11c9b0cc-5d22-41f9-d2db-3b72eb5e670b"
      },
      "execution_count": null,
      "outputs": [
        {
          "output_type": "stream",
          "name": "stdout",
          "text": [
            "Traceback (most recent call last):\n",
            "  File \"/usr/local/bin/kaggle\", line 5, in <module>\n",
            "    from kaggle.cli import main\n",
            "  File \"/usr/local/lib/python3.9/dist-packages/kaggle/__init__.py\", line 23, in <module>\n",
            "    api.authenticate()\n",
            "  File \"/usr/local/lib/python3.9/dist-packages/kaggle/api/kaggle_api_extended.py\", line 164, in authenticate\n",
            "    raise IOError('Could not find {}. Make sure it\\'s located in'\n",
            "OSError: Could not find kaggle.json. Make sure it's located in /root/.kaggle. Or use the environment method.\n"
          ]
        }
      ]
    },
    {
      "cell_type": "code",
      "source": [
        "!unzip twitter-sentiment-analysis-hatred-speech.zip"
      ],
      "metadata": {
        "colab": {
          "base_uri": "https://localhost:8080/"
        },
        "id": "k0ZyRXBgL5gS",
        "outputId": "0677c25d-cead-45b3-935b-3cb1cb710fb7"
      },
      "execution_count": null,
      "outputs": [
        {
          "output_type": "stream",
          "name": "stdout",
          "text": [
            "Archive:  twitter-sentiment-analysis-hatred-speech.zip\n",
            "replace test.csv? [y]es, [n]o, [A]ll, [N]one, [r]ename: n\n",
            "replace train.csv? [y]es, [n]o, [A]ll, [N]one, [r]ename: n\n"
          ]
        }
      ]
    },
    {
      "cell_type": "markdown",
      "source": [
        "## 1.2 Библиотеки"
      ],
      "metadata": {
        "id": "FHd6IaeMuBH-"
      }
    },
    {
      "cell_type": "code",
      "source": [
        "! pip install catboost"
      ],
      "metadata": {
        "colab": {
          "base_uri": "https://localhost:8080/"
        },
        "id": "g24scV-eFCoP",
        "outputId": "ccfa22c8-9e99-45a5-8087-43cb5758a502"
      },
      "execution_count": null,
      "outputs": [
        {
          "output_type": "stream",
          "name": "stdout",
          "text": [
            "Looking in indexes: https://pypi.org/simple, https://us-python.pkg.dev/colab-wheels/public/simple/\n",
            "Requirement already satisfied: catboost in /usr/local/lib/python3.9/dist-packages (1.1.1)\n",
            "Requirement already satisfied: six in /usr/local/lib/python3.9/dist-packages (from catboost) (1.16.0)\n",
            "Requirement already satisfied: plotly in /usr/local/lib/python3.9/dist-packages (from catboost) (5.13.1)\n",
            "Requirement already satisfied: pandas>=0.24.0 in /usr/local/lib/python3.9/dist-packages (from catboost) (1.4.4)\n",
            "Requirement already satisfied: graphviz in /usr/local/lib/python3.9/dist-packages (from catboost) (0.20.1)\n",
            "Requirement already satisfied: matplotlib in /usr/local/lib/python3.9/dist-packages (from catboost) (3.7.1)\n",
            "Requirement already satisfied: numpy>=1.16.0 in /usr/local/lib/python3.9/dist-packages (from catboost) (1.22.4)\n",
            "Requirement already satisfied: scipy in /usr/local/lib/python3.9/dist-packages (from catboost) (1.10.1)\n",
            "Requirement already satisfied: pytz>=2020.1 in /usr/local/lib/python3.9/dist-packages (from pandas>=0.24.0->catboost) (2022.7.1)\n",
            "Requirement already satisfied: python-dateutil>=2.8.1 in /usr/local/lib/python3.9/dist-packages (from pandas>=0.24.0->catboost) (2.8.2)\n",
            "Requirement already satisfied: fonttools>=4.22.0 in /usr/local/lib/python3.9/dist-packages (from matplotlib->catboost) (4.39.3)\n",
            "Requirement already satisfied: pyparsing>=2.3.1 in /usr/local/lib/python3.9/dist-packages (from matplotlib->catboost) (3.0.9)\n",
            "Requirement already satisfied: cycler>=0.10 in /usr/local/lib/python3.9/dist-packages (from matplotlib->catboost) (0.11.0)\n",
            "Requirement already satisfied: kiwisolver>=1.0.1 in /usr/local/lib/python3.9/dist-packages (from matplotlib->catboost) (1.4.4)\n",
            "Requirement already satisfied: contourpy>=1.0.1 in /usr/local/lib/python3.9/dist-packages (from matplotlib->catboost) (1.0.7)\n",
            "Requirement already satisfied: importlib-resources>=3.2.0 in /usr/local/lib/python3.9/dist-packages (from matplotlib->catboost) (5.12.0)\n",
            "Requirement already satisfied: packaging>=20.0 in /usr/local/lib/python3.9/dist-packages (from matplotlib->catboost) (23.0)\n",
            "Requirement already satisfied: pillow>=6.2.0 in /usr/local/lib/python3.9/dist-packages (from matplotlib->catboost) (8.4.0)\n",
            "Requirement already satisfied: tenacity>=6.2.0 in /usr/local/lib/python3.9/dist-packages (from plotly->catboost) (8.2.2)\n",
            "Requirement already satisfied: zipp>=3.1.0 in /usr/local/lib/python3.9/dist-packages (from importlib-resources>=3.2.0->matplotlib->catboost) (3.15.0)\n"
          ]
        }
      ]
    },
    {
      "cell_type": "code",
      "source": [
        "import matplotlib.pyplot as plt\n",
        "import numpy as np\n",
        "import pandas as pd\n",
        "import seaborn as sns\n",
        "\n",
        "# Metrics\n",
        "from sklearn.metrics import classification_report, roc_curve, auc\n",
        "\n",
        "\n",
        "# Models\n",
        "from catboost import CatBoostClassifier\n",
        "from sklearn.naive_bayes import ComplementNB, MultinomialNB, BernoulliNB\n",
        "\n",
        "#Vectorizer\n",
        "from sklearn.feature_extraction.text import TfidfVectorizer\n",
        "\n",
        "# Train Test Split\n",
        "from sklearn.model_selection import train_test_split\n",
        "from sklearn.model_selection import GridSearchCV\n",
        "\n"
      ],
      "metadata": {
        "id": "XiNIL7pOLMvL"
      },
      "execution_count": null,
      "outputs": []
    },
    {
      "cell_type": "markdown",
      "source": [
        "##1.3 Загрузка датасета в pandas dataframe"
      ],
      "metadata": {
        "id": "-MFNouFJmd28"
      }
    },
    {
      "cell_type": "code",
      "source": [
        "init_data_train = pd.read_csv('/content/train.csv')\n",
        "init_data_test = pd.read_csv('/content/test.csv')"
      ],
      "metadata": {
        "id": "MLx887CTmm5S"
      },
      "execution_count": null,
      "outputs": []
    },
    {
      "cell_type": "markdown",
      "source": [
        "# 2.Первичная проверка данных"
      ],
      "metadata": {
        "id": "W3zGbWURuRup"
      }
    },
    {
      "cell_type": "markdown",
      "source": [
        "  Для проверки корректности загрузки посмотрим на первые 10 и последние 10 значений"
      ],
      "metadata": {
        "id": "PZTdReeOuXZ0"
      }
    },
    {
      "cell_type": "code",
      "source": [
        "init_data_train.head(10)"
      ],
      "metadata": {
        "colab": {
          "base_uri": "https://localhost:8080/",
          "height": 363
        },
        "id": "EvZYmynV9nvW",
        "outputId": "12396d59-f8d0-4f7e-c197-59f5fcc3994c"
      },
      "execution_count": null,
      "outputs": [
        {
          "output_type": "execute_result",
          "data": {
            "text/plain": [
              "   id  label                                              tweet\n",
              "0   1      0   @user when a father is dysfunctional and is s...\n",
              "1   2      0  @user @user thanks for #lyft credit i can't us...\n",
              "2   3      0                                bihday your majesty\n",
              "3   4      0  #model   i love u take with u all the time in ...\n",
              "4   5      0             factsguide: society now    #motivation\n",
              "5   6      0  [2/2] huge fan fare and big talking before the...\n",
              "6   7      0   @user camping tomorrow @user @user @user @use...\n",
              "7   8      0  the next school year is the year for exams.ð...\n",
              "8   9      0  we won!!! love the land!!! #allin #cavs #champ...\n",
              "9  10      0   @user @user welcome here !  i'm   it's so #gr..."
            ],
            "text/html": [
              "\n",
              "  <div id=\"df-d0dae06a-7e6d-41e4-aedd-41af3148b4ca\">\n",
              "    <div class=\"colab-df-container\">\n",
              "      <div>\n",
              "<style scoped>\n",
              "    .dataframe tbody tr th:only-of-type {\n",
              "        vertical-align: middle;\n",
              "    }\n",
              "\n",
              "    .dataframe tbody tr th {\n",
              "        vertical-align: top;\n",
              "    }\n",
              "\n",
              "    .dataframe thead th {\n",
              "        text-align: right;\n",
              "    }\n",
              "</style>\n",
              "<table border=\"1\" class=\"dataframe\">\n",
              "  <thead>\n",
              "    <tr style=\"text-align: right;\">\n",
              "      <th></th>\n",
              "      <th>id</th>\n",
              "      <th>label</th>\n",
              "      <th>tweet</th>\n",
              "    </tr>\n",
              "  </thead>\n",
              "  <tbody>\n",
              "    <tr>\n",
              "      <th>0</th>\n",
              "      <td>1</td>\n",
              "      <td>0</td>\n",
              "      <td>@user when a father is dysfunctional and is s...</td>\n",
              "    </tr>\n",
              "    <tr>\n",
              "      <th>1</th>\n",
              "      <td>2</td>\n",
              "      <td>0</td>\n",
              "      <td>@user @user thanks for #lyft credit i can't us...</td>\n",
              "    </tr>\n",
              "    <tr>\n",
              "      <th>2</th>\n",
              "      <td>3</td>\n",
              "      <td>0</td>\n",
              "      <td>bihday your majesty</td>\n",
              "    </tr>\n",
              "    <tr>\n",
              "      <th>3</th>\n",
              "      <td>4</td>\n",
              "      <td>0</td>\n",
              "      <td>#model   i love u take with u all the time in ...</td>\n",
              "    </tr>\n",
              "    <tr>\n",
              "      <th>4</th>\n",
              "      <td>5</td>\n",
              "      <td>0</td>\n",
              "      <td>factsguide: society now    #motivation</td>\n",
              "    </tr>\n",
              "    <tr>\n",
              "      <th>5</th>\n",
              "      <td>6</td>\n",
              "      <td>0</td>\n",
              "      <td>[2/2] huge fan fare and big talking before the...</td>\n",
              "    </tr>\n",
              "    <tr>\n",
              "      <th>6</th>\n",
              "      <td>7</td>\n",
              "      <td>0</td>\n",
              "      <td>@user camping tomorrow @user @user @user @use...</td>\n",
              "    </tr>\n",
              "    <tr>\n",
              "      <th>7</th>\n",
              "      <td>8</td>\n",
              "      <td>0</td>\n",
              "      <td>the next school year is the year for exams.ð...</td>\n",
              "    </tr>\n",
              "    <tr>\n",
              "      <th>8</th>\n",
              "      <td>9</td>\n",
              "      <td>0</td>\n",
              "      <td>we won!!! love the land!!! #allin #cavs #champ...</td>\n",
              "    </tr>\n",
              "    <tr>\n",
              "      <th>9</th>\n",
              "      <td>10</td>\n",
              "      <td>0</td>\n",
              "      <td>@user @user welcome here !  i'm   it's so #gr...</td>\n",
              "    </tr>\n",
              "  </tbody>\n",
              "</table>\n",
              "</div>\n",
              "      <button class=\"colab-df-convert\" onclick=\"convertToInteractive('df-d0dae06a-7e6d-41e4-aedd-41af3148b4ca')\"\n",
              "              title=\"Convert this dataframe to an interactive table.\"\n",
              "              style=\"display:none;\">\n",
              "        \n",
              "  <svg xmlns=\"http://www.w3.org/2000/svg\" height=\"24px\"viewBox=\"0 0 24 24\"\n",
              "       width=\"24px\">\n",
              "    <path d=\"M0 0h24v24H0V0z\" fill=\"none\"/>\n",
              "    <path d=\"M18.56 5.44l.94 2.06.94-2.06 2.06-.94-2.06-.94-.94-2.06-.94 2.06-2.06.94zm-11 1L8.5 8.5l.94-2.06 2.06-.94-2.06-.94L8.5 2.5l-.94 2.06-2.06.94zm10 10l.94 2.06.94-2.06 2.06-.94-2.06-.94-.94-2.06-.94 2.06-2.06.94z\"/><path d=\"M17.41 7.96l-1.37-1.37c-.4-.4-.92-.59-1.43-.59-.52 0-1.04.2-1.43.59L10.3 9.45l-7.72 7.72c-.78.78-.78 2.05 0 2.83L4 21.41c.39.39.9.59 1.41.59.51 0 1.02-.2 1.41-.59l7.78-7.78 2.81-2.81c.8-.78.8-2.07 0-2.86zM5.41 20L4 18.59l7.72-7.72 1.47 1.35L5.41 20z\"/>\n",
              "  </svg>\n",
              "      </button>\n",
              "      \n",
              "  <style>\n",
              "    .colab-df-container {\n",
              "      display:flex;\n",
              "      flex-wrap:wrap;\n",
              "      gap: 12px;\n",
              "    }\n",
              "\n",
              "    .colab-df-convert {\n",
              "      background-color: #E8F0FE;\n",
              "      border: none;\n",
              "      border-radius: 50%;\n",
              "      cursor: pointer;\n",
              "      display: none;\n",
              "      fill: #1967D2;\n",
              "      height: 32px;\n",
              "      padding: 0 0 0 0;\n",
              "      width: 32px;\n",
              "    }\n",
              "\n",
              "    .colab-df-convert:hover {\n",
              "      background-color: #E2EBFA;\n",
              "      box-shadow: 0px 1px 2px rgba(60, 64, 67, 0.3), 0px 1px 3px 1px rgba(60, 64, 67, 0.15);\n",
              "      fill: #174EA6;\n",
              "    }\n",
              "\n",
              "    [theme=dark] .colab-df-convert {\n",
              "      background-color: #3B4455;\n",
              "      fill: #D2E3FC;\n",
              "    }\n",
              "\n",
              "    [theme=dark] .colab-df-convert:hover {\n",
              "      background-color: #434B5C;\n",
              "      box-shadow: 0px 1px 3px 1px rgba(0, 0, 0, 0.15);\n",
              "      filter: drop-shadow(0px 1px 2px rgba(0, 0, 0, 0.3));\n",
              "      fill: #FFFFFF;\n",
              "    }\n",
              "  </style>\n",
              "\n",
              "      <script>\n",
              "        const buttonEl =\n",
              "          document.querySelector('#df-d0dae06a-7e6d-41e4-aedd-41af3148b4ca button.colab-df-convert');\n",
              "        buttonEl.style.display =\n",
              "          google.colab.kernel.accessAllowed ? 'block' : 'none';\n",
              "\n",
              "        async function convertToInteractive(key) {\n",
              "          const element = document.querySelector('#df-d0dae06a-7e6d-41e4-aedd-41af3148b4ca');\n",
              "          const dataTable =\n",
              "            await google.colab.kernel.invokeFunction('convertToInteractive',\n",
              "                                                     [key], {});\n",
              "          if (!dataTable) return;\n",
              "\n",
              "          const docLinkHtml = 'Like what you see? Visit the ' +\n",
              "            '<a target=\"_blank\" href=https://colab.research.google.com/notebooks/data_table.ipynb>data table notebook</a>'\n",
              "            + ' to learn more about interactive tables.';\n",
              "          element.innerHTML = '';\n",
              "          dataTable['output_type'] = 'display_data';\n",
              "          await google.colab.output.renderOutput(dataTable, element);\n",
              "          const docLink = document.createElement('div');\n",
              "          docLink.innerHTML = docLinkHtml;\n",
              "          element.appendChild(docLink);\n",
              "        }\n",
              "      </script>\n",
              "    </div>\n",
              "  </div>\n",
              "  "
            ]
          },
          "metadata": {},
          "execution_count": 10
        }
      ]
    },
    {
      "cell_type": "code",
      "source": [
        "init_data_test.head(10)"
      ],
      "metadata": {
        "colab": {
          "base_uri": "https://localhost:8080/",
          "height": 363
        },
        "id": "SaVree-xlaSA",
        "outputId": "09624245-d65b-4702-b129-258af9b0c2a0"
      },
      "execution_count": null,
      "outputs": [
        {
          "output_type": "execute_result",
          "data": {
            "text/plain": [
              "      id                                              tweet\n",
              "0  31963  #studiolife #aislife #requires #passion #dedic...\n",
              "1  31964   @user #white #supremacists want everyone to s...\n",
              "2  31965  safe ways to heal your #acne!!    #altwaystohe...\n",
              "3  31966  is the hp and the cursed child book up for res...\n",
              "4  31967    3rd #bihday to my amazing, hilarious #nephew...\n",
              "5  31968                        choose to be   :) #momtips \n",
              "6  31969  something inside me dies ð¦ð¿â¨  eyes nes...\n",
              "7  31970  #finished#tattoo#inked#ink#loveitâ¤ï¸ #â¤ï¸...\n",
              "8  31971   @user @user @user i will never understand why...\n",
              "9  31972  #delicious   #food #lovelife #capetown mannaep..."
            ],
            "text/html": [
              "\n",
              "  <div id=\"df-614172e5-1692-4a18-9896-cfdc841747ba\">\n",
              "    <div class=\"colab-df-container\">\n",
              "      <div>\n",
              "<style scoped>\n",
              "    .dataframe tbody tr th:only-of-type {\n",
              "        vertical-align: middle;\n",
              "    }\n",
              "\n",
              "    .dataframe tbody tr th {\n",
              "        vertical-align: top;\n",
              "    }\n",
              "\n",
              "    .dataframe thead th {\n",
              "        text-align: right;\n",
              "    }\n",
              "</style>\n",
              "<table border=\"1\" class=\"dataframe\">\n",
              "  <thead>\n",
              "    <tr style=\"text-align: right;\">\n",
              "      <th></th>\n",
              "      <th>id</th>\n",
              "      <th>tweet</th>\n",
              "    </tr>\n",
              "  </thead>\n",
              "  <tbody>\n",
              "    <tr>\n",
              "      <th>0</th>\n",
              "      <td>31963</td>\n",
              "      <td>#studiolife #aislife #requires #passion #dedic...</td>\n",
              "    </tr>\n",
              "    <tr>\n",
              "      <th>1</th>\n",
              "      <td>31964</td>\n",
              "      <td>@user #white #supremacists want everyone to s...</td>\n",
              "    </tr>\n",
              "    <tr>\n",
              "      <th>2</th>\n",
              "      <td>31965</td>\n",
              "      <td>safe ways to heal your #acne!!    #altwaystohe...</td>\n",
              "    </tr>\n",
              "    <tr>\n",
              "      <th>3</th>\n",
              "      <td>31966</td>\n",
              "      <td>is the hp and the cursed child book up for res...</td>\n",
              "    </tr>\n",
              "    <tr>\n",
              "      <th>4</th>\n",
              "      <td>31967</td>\n",
              "      <td>3rd #bihday to my amazing, hilarious #nephew...</td>\n",
              "    </tr>\n",
              "    <tr>\n",
              "      <th>5</th>\n",
              "      <td>31968</td>\n",
              "      <td>choose to be   :) #momtips</td>\n",
              "    </tr>\n",
              "    <tr>\n",
              "      <th>6</th>\n",
              "      <td>31969</td>\n",
              "      <td>something inside me dies ð¦ð¿â¨  eyes nes...</td>\n",
              "    </tr>\n",
              "    <tr>\n",
              "      <th>7</th>\n",
              "      <td>31970</td>\n",
              "      <td>#finished#tattoo#inked#ink#loveitâ¤ï¸ #â¤ï¸...</td>\n",
              "    </tr>\n",
              "    <tr>\n",
              "      <th>8</th>\n",
              "      <td>31971</td>\n",
              "      <td>@user @user @user i will never understand why...</td>\n",
              "    </tr>\n",
              "    <tr>\n",
              "      <th>9</th>\n",
              "      <td>31972</td>\n",
              "      <td>#delicious   #food #lovelife #capetown mannaep...</td>\n",
              "    </tr>\n",
              "  </tbody>\n",
              "</table>\n",
              "</div>\n",
              "      <button class=\"colab-df-convert\" onclick=\"convertToInteractive('df-614172e5-1692-4a18-9896-cfdc841747ba')\"\n",
              "              title=\"Convert this dataframe to an interactive table.\"\n",
              "              style=\"display:none;\">\n",
              "        \n",
              "  <svg xmlns=\"http://www.w3.org/2000/svg\" height=\"24px\"viewBox=\"0 0 24 24\"\n",
              "       width=\"24px\">\n",
              "    <path d=\"M0 0h24v24H0V0z\" fill=\"none\"/>\n",
              "    <path d=\"M18.56 5.44l.94 2.06.94-2.06 2.06-.94-2.06-.94-.94-2.06-.94 2.06-2.06.94zm-11 1L8.5 8.5l.94-2.06 2.06-.94-2.06-.94L8.5 2.5l-.94 2.06-2.06.94zm10 10l.94 2.06.94-2.06 2.06-.94-2.06-.94-.94-2.06-.94 2.06-2.06.94z\"/><path d=\"M17.41 7.96l-1.37-1.37c-.4-.4-.92-.59-1.43-.59-.52 0-1.04.2-1.43.59L10.3 9.45l-7.72 7.72c-.78.78-.78 2.05 0 2.83L4 21.41c.39.39.9.59 1.41.59.51 0 1.02-.2 1.41-.59l7.78-7.78 2.81-2.81c.8-.78.8-2.07 0-2.86zM5.41 20L4 18.59l7.72-7.72 1.47 1.35L5.41 20z\"/>\n",
              "  </svg>\n",
              "      </button>\n",
              "      \n",
              "  <style>\n",
              "    .colab-df-container {\n",
              "      display:flex;\n",
              "      flex-wrap:wrap;\n",
              "      gap: 12px;\n",
              "    }\n",
              "\n",
              "    .colab-df-convert {\n",
              "      background-color: #E8F0FE;\n",
              "      border: none;\n",
              "      border-radius: 50%;\n",
              "      cursor: pointer;\n",
              "      display: none;\n",
              "      fill: #1967D2;\n",
              "      height: 32px;\n",
              "      padding: 0 0 0 0;\n",
              "      width: 32px;\n",
              "    }\n",
              "\n",
              "    .colab-df-convert:hover {\n",
              "      background-color: #E2EBFA;\n",
              "      box-shadow: 0px 1px 2px rgba(60, 64, 67, 0.3), 0px 1px 3px 1px rgba(60, 64, 67, 0.15);\n",
              "      fill: #174EA6;\n",
              "    }\n",
              "\n",
              "    [theme=dark] .colab-df-convert {\n",
              "      background-color: #3B4455;\n",
              "      fill: #D2E3FC;\n",
              "    }\n",
              "\n",
              "    [theme=dark] .colab-df-convert:hover {\n",
              "      background-color: #434B5C;\n",
              "      box-shadow: 0px 1px 3px 1px rgba(0, 0, 0, 0.15);\n",
              "      filter: drop-shadow(0px 1px 2px rgba(0, 0, 0, 0.3));\n",
              "      fill: #FFFFFF;\n",
              "    }\n",
              "  </style>\n",
              "\n",
              "      <script>\n",
              "        const buttonEl =\n",
              "          document.querySelector('#df-614172e5-1692-4a18-9896-cfdc841747ba button.colab-df-convert');\n",
              "        buttonEl.style.display =\n",
              "          google.colab.kernel.accessAllowed ? 'block' : 'none';\n",
              "\n",
              "        async function convertToInteractive(key) {\n",
              "          const element = document.querySelector('#df-614172e5-1692-4a18-9896-cfdc841747ba');\n",
              "          const dataTable =\n",
              "            await google.colab.kernel.invokeFunction('convertToInteractive',\n",
              "                                                     [key], {});\n",
              "          if (!dataTable) return;\n",
              "\n",
              "          const docLinkHtml = 'Like what you see? Visit the ' +\n",
              "            '<a target=\"_blank\" href=https://colab.research.google.com/notebooks/data_table.ipynb>data table notebook</a>'\n",
              "            + ' to learn more about interactive tables.';\n",
              "          element.innerHTML = '';\n",
              "          dataTable['output_type'] = 'display_data';\n",
              "          await google.colab.output.renderOutput(dataTable, element);\n",
              "          const docLink = document.createElement('div');\n",
              "          docLink.innerHTML = docLinkHtml;\n",
              "          element.appendChild(docLink);\n",
              "        }\n",
              "      </script>\n",
              "    </div>\n",
              "  </div>\n",
              "  "
            ]
          },
          "metadata": {},
          "execution_count": 11
        }
      ]
    },
    {
      "cell_type": "code",
      "source": [
        "train = init_data_train.copy(deep=True)\n",
        "test = init_data_test.copy(deep=True)"
      ],
      "metadata": {
        "id": "Qut5VlePlbeg"
      },
      "execution_count": null,
      "outputs": []
    },
    {
      "cell_type": "code",
      "source": [
        "train.shape, test.shape"
      ],
      "metadata": {
        "colab": {
          "base_uri": "https://localhost:8080/"
        },
        "id": "OV1Bs5OolnwR",
        "outputId": "f98ed961-2b85-4777-a8f7-fd838d7a6d3b"
      },
      "execution_count": null,
      "outputs": [
        {
          "output_type": "execute_result",
          "data": {
            "text/plain": [
              "((31962, 3), (17197, 2))"
            ]
          },
          "metadata": {},
          "execution_count": 13
        }
      ]
    },
    {
      "cell_type": "code",
      "source": [
        "train.isnull().sum()"
      ],
      "metadata": {
        "colab": {
          "base_uri": "https://localhost:8080/"
        },
        "id": "TmfluB7PlrzK",
        "outputId": "343aabdc-302d-4198-afe6-f0bb337e075c"
      },
      "execution_count": null,
      "outputs": [
        {
          "output_type": "execute_result",
          "data": {
            "text/plain": [
              "id       0\n",
              "label    0\n",
              "tweet    0\n",
              "dtype: int64"
            ]
          },
          "metadata": {},
          "execution_count": 14
        }
      ]
    },
    {
      "cell_type": "code",
      "source": [
        "test.isnull().sum()"
      ],
      "metadata": {
        "colab": {
          "base_uri": "https://localhost:8080/"
        },
        "id": "Z0goPBVJl7CM",
        "outputId": "c1dd221f-c0a3-4eed-85ee-61d4f784e7b8"
      },
      "execution_count": null,
      "outputs": [
        {
          "output_type": "execute_result",
          "data": {
            "text/plain": [
              "id       0\n",
              "tweet    0\n",
              "dtype: int64"
            ]
          },
          "metadata": {},
          "execution_count": 15
        }
      ]
    },
    {
      "cell_type": "code",
      "source": [
        "train['label'].value_counts()"
      ],
      "metadata": {
        "colab": {
          "base_uri": "https://localhost:8080/"
        },
        "id": "MsLG0oJXmBWT",
        "outputId": "41037d5e-ef88-4a91-c160-b5908497ca86"
      },
      "execution_count": null,
      "outputs": [
        {
          "output_type": "execute_result",
          "data": {
            "text/plain": [
              "0    29720\n",
              "1     2242\n",
              "Name: label, dtype: int64"
            ]
          },
          "metadata": {},
          "execution_count": 16
        }
      ]
    },
    {
      "cell_type": "markdown",
      "source": [
        "# 3.Основное исследование"
      ],
      "metadata": {
        "id": "xoxpP3GOpbCV"
      }
    },
    {
      "cell_type": "code",
      "source": [
        "train['label'].value_counts().plot.bar(color='b' , figsize=(8,8))"
      ],
      "metadata": {
        "colab": {
          "base_uri": "https://localhost:8080/",
          "height": 688
        },
        "id": "RqR8dQPzpd72",
        "outputId": "7c3dc55d-6c46-48c7-998c-d9332087b951"
      },
      "execution_count": null,
      "outputs": [
        {
          "output_type": "execute_result",
          "data": {
            "text/plain": [
              "<Axes: >"
            ]
          },
          "metadata": {},
          "execution_count": 17
        },
        {
          "output_type": "display_data",
          "data": {
            "text/plain": [
              "<Figure size 800x800 with 1 Axes>"
            ],
            "image/png": "[encoded data removed]"
          },
          "metadata": {}
        }
      ]
    },
    {
      "cell_type": "code",
      "source": [
        "length_train = train['tweet'].str.len().plot.hist(color = 'g' , figsize = (8,8))\n",
        "length_test = test['tweet'].str.len().plot.hist(color = 'r' , figsize = (8,8))"
      ],
      "metadata": {
        "colab": {
          "base_uri": "https://localhost:8080/",
          "height": 676
        },
        "id": "wJ6VVFT1qm4o",
        "outputId": "0c883306-6bc1-4cbd-b326-d68a52acede2"
      },
      "execution_count": null,
      "outputs": [
        {
          "output_type": "display_data",
          "data": {
            "text/plain": [
              "<Figure size 800x800 with 1 Axes>"
            ],
            "image/png": "[encoded data removed]"
          },
          "metadata": {}
        }
      ]
    },
    {
      "cell_type": "code",
      "source": [
        "train['tweet'].str.len().mean()"
      ],
      "metadata": {
        "colab": {
          "base_uri": "https://localhost:8080/"
        },
        "id": "iKjouuv0qye2",
        "outputId": "e98e8fcf-3f27-4ee9-c110-682e8d3960a4"
      },
      "execution_count": null,
      "outputs": [
        {
          "output_type": "execute_result",
          "data": {
            "text/plain": [
              "84.73962830861649"
            ]
          },
          "metadata": {},
          "execution_count": 19
        }
      ]
    },
    {
      "cell_type": "code",
      "source": [
        "test['tweet'].str.len().mean()"
      ],
      "metadata": {
        "colab": {
          "base_uri": "https://localhost:8080/"
        },
        "id": "Rvu0kbforBbO",
        "outputId": "773cdf0b-efb7-4e9f-f53f-6a97a2523693"
      },
      "execution_count": null,
      "outputs": [
        {
          "output_type": "execute_result",
          "data": {
            "text/plain": [
              "84.54637436762226"
            ]
          },
          "metadata": {},
          "execution_count": 20
        }
      ]
    },
    {
      "cell_type": "code",
      "source": [
        "sns.displot(x = train['tweet'].str.len(),\n",
        "            hue = \"label\",\n",
        "            kind = \"kde\",\n",
        "            data = train[train['label'] == 1]\n",
        "            );"
      ],
      "metadata": {
        "colab": {
          "base_uri": "https://localhost:8080/",
          "height": 506
        },
        "id": "epyz5LfxrDXX",
        "outputId": "7c8fc654-8b70-49bb-c14c-e76ff28f5209"
      },
      "execution_count": null,
      "outputs": [
        {
          "output_type": "display_data",
          "data": {
            "text/plain": [
              "<Figure size 572x500 with 1 Axes>"
            ],
            "image/png": "[encoded data removed]"
          },
          "metadata": {}
        }
      ]
    },
    {
      "cell_type": "code",
      "source": [
        "sns.displot(x = train['tweet'].str.len(),\n",
        "            hue = \"label\",\n",
        "            kind = \"kde\",\n",
        "            data = train[train['label'] == 0]\n",
        "            )"
      ],
      "metadata": {
        "colab": {
          "base_uri": "https://localhost:8080/",
          "height": 523
        },
        "id": "2Cpw_ddxtBZ4",
        "outputId": "0e2cb17e-871b-4ad8-8a07-02b2e7f9f0be"
      },
      "execution_count": null,
      "outputs": [
        {
          "output_type": "execute_result",
          "data": {
            "text/plain": [
              "<seaborn.axisgrid.FacetGrid at 0x7f1d3ca97370>"
            ]
          },
          "metadata": {},
          "execution_count": 22
        },
        {
          "output_type": "display_data",
          "data": {
            "text/plain": [
              "<Figure size 571.875x500 with 1 Axes>"
            ],
            "image/png": "[encoded data removed]"
          },
          "metadata": {}
        }
      ]
    },
    {
      "cell_type": "code",
      "source": [
        "len_pos_twee_mean = train['tweet'][train['label'] == 0].str.len().mean()\n",
        "len_neg_twee_mean = train['tweet'][train['label'] == 1].str.len().mean()\n",
        "len_pos_twee_median = train['tweet'][train['label'] == 0].str.len().median()\n",
        "len_neg_twee_median = train['tweet'][train['label'] == 1].str.len().median()\n",
        "print(f'len positive tweet: mean = {len_pos_twee_mean}, median = {len_pos_twee_median}\\n'\\\n",
        "      f'len negative tweet: mean = {len_neg_twee_mean}, median = {len_neg_twee_median}')"
      ],
      "metadata": {
        "colab": {
          "base_uri": "https://localhost:8080/"
        },
        "id": "jcuXl0ddtTot",
        "outputId": "3c47b7dc-fcc7-4a30-d63e-1c7ba0521e20"
      },
      "execution_count": null,
      "outputs": [
        {
          "output_type": "stream",
          "name": "stdout",
          "text": [
            "len positive tweet: mean = 84.32863391655451, median = 88.0\n",
            "len negative tweet: mean = 90.18777876895629, median = 96.0\n"
          ]
        }
      ]
    },
    {
      "cell_type": "code",
      "source": [
        "!pip install --user -U nltk"
      ],
      "metadata": {
        "colab": {
          "base_uri": "https://localhost:8080/"
        },
        "id": "9Bxah-xryKlH",
        "outputId": "d1df54f1-a6ab-49aa-eeb4-1bca6575233f"
      },
      "execution_count": null,
      "outputs": [
        {
          "output_type": "stream",
          "name": "stdout",
          "text": [
            "Looking in indexes: https://pypi.org/simple, https://us-python.pkg.dev/colab-wheels/public/simple/\n",
            "Requirement already satisfied: nltk in /usr/local/lib/python3.9/dist-packages (3.8.1)\n",
            "Requirement already satisfied: tqdm in /usr/local/lib/python3.9/dist-packages (from nltk) (4.65.0)\n",
            "Requirement already satisfied: click in /usr/local/lib/python3.9/dist-packages (from nltk) (8.1.3)\n",
            "Requirement already satisfied: regex>=2021.8.3 in /usr/local/lib/python3.9/dist-packages (from nltk) (2022.10.31)\n",
            "Requirement already satisfied: joblib in /usr/local/lib/python3.9/dist-packages (from nltk) (1.1.1)\n"
          ]
        }
      ]
    },
    {
      "cell_type": "code",
      "source": [
        "import nltk\n",
        "from sklearn.feature_extraction.text import CountVectorizer\n",
        "from nltk.corpus import stopwords\n"
      ],
      "metadata": {
        "id": "ScKUycJTyLog"
      },
      "execution_count": null,
      "outputs": []
    },
    {
      "cell_type": "code",
      "source": [
        "nltk.download(\"stopwords\")\n",
        "stopWords = stopwords.words('english')\n",
        "# stopWords.append('user')"
      ],
      "metadata": {
        "colab": {
          "base_uri": "https://localhost:8080/"
        },
        "id": "s-5QC8UAyqCb",
        "outputId": "c42f0bae-c495-4f4e-d623-61b427dc7de3"
      },
      "execution_count": null,
      "outputs": [
        {
          "output_type": "stream",
          "name": "stderr",
          "text": [
            "[nltk_data] Downloading package stopwords to /root/nltk_data...\n",
            "[nltk_data]   Package stopwords is already up-to-date!\n"
          ]
        }
      ]
    },
    {
      "cell_type": "code",
      "source": [
        "cv = CountVectorizer(stop_words = stopWords)\n",
        "words = cv.fit_transform(train[train['label'] == 0].tweet)\n",
        "\n",
        "sum_words = words.sum(axis = 0)\n",
        "\n",
        "words_freq = [(word, sum_words[0,i]) for word, i in cv.vocabulary_.items()]\n",
        "words_freq = sorted(words_freq, key = lambda x: x[1], reverse = True)\n",
        "\n",
        "frequency = pd.DataFrame(words_freq, columns=['word', 'freq'])\n",
        "\n",
        "frequency.head(30).plot(x='word', y='freq', kind='bar', figsize=(15,7), color= \"blue\")\n",
        "plt.title(\"Positive words - Top 30\")\n",
        "plt.xlabel(\"Words\")\n",
        "plt.ylabel(\"Frequency\")\n",
        "plt.show()"
      ],
      "metadata": {
        "colab": {
          "base_uri": "https://localhost:8080/",
          "height": 592
        },
        "id": "gLoF866dthXT",
        "outputId": "58eb5b75-ce19-43f5-8348-c3e13f4f6152"
      },
      "execution_count": null,
      "outputs": [
        {
          "output_type": "display_data",
          "data": {
            "text/plain": [
              "<Figure size 1500x700 with 1 Axes>"
            ],
            "image/png": "[encoded data removed]"
          },
          "metadata": {}
        }
      ]
    },
    {
      "cell_type": "code",
      "source": [
        "cv = CountVectorizer(stop_words = stopWords)\n",
        "words = cv.fit_transform(train[train['label'] == 1].tweet)\n",
        "\n",
        "sum_words = words.sum(axis = 0)\n",
        "\n",
        "words_freq = [(word, sum_words[0,i]) for word, i in cv.vocabulary_.items()]\n",
        "words_freq = sorted(words_freq, key = lambda x: x[1], reverse = True)\n",
        "\n",
        "frequency = pd.DataFrame(words_freq, columns=['word', 'freq'])\n",
        "\n",
        "frequency.head(30).plot(x='word', y='freq', kind='bar', figsize=(15,7), color= \"red\")\n",
        "plt.title(\"Negative words - Top 30\")\n",
        "plt.xlabel(\"Words\")\n",
        "plt.ylabel(\"Frequency\")\n",
        "plt.show()"
      ],
      "metadata": {
        "colab": {
          "base_uri": "https://localhost:8080/",
          "height": 598
        },
        "id": "d4nTJAZYxkmc",
        "outputId": "930de5d0-6e51-473f-f9d2-a3ced40abc61"
      },
      "execution_count": null,
      "outputs": [
        {
          "output_type": "display_data",
          "data": {
            "text/plain": [
              "<Figure size 1500x700 with 1 Axes>"
            ],
            "image/png": "[encoded data removed]"
          },
          "metadata": {}
        }
      ]
    },
    {
      "cell_type": "code",
      "source": [
        "train['tweet'][0]"
      ],
      "metadata": {
        "colab": {
          "base_uri": "https://localhost:8080/",
          "height": 36
        },
        "id": "6EsPFlM7fmVK",
        "outputId": "445873c1-942e-4ba6-c831-f803dfcb47c2"
      },
      "execution_count": null,
      "outputs": [
        {
          "output_type": "execute_result",
          "data": {
            "text/plain": [
              "' @user when a father is dysfunctional and is so selfish he drags his kids into his dysfunction.   #run'"
            ],
            "application/vnd.google.colaboratory.intrinsic+json": {
              "type": "string"
            }
          },
          "metadata": {},
          "execution_count": 29
        }
      ]
    },
    {
      "cell_type": "code",
      "source": [
        "data_proba = train.copy(deep=True)\n",
        "data_proba['tweet'] = data_proba['tweet'].str.replace('[^\\w\\s]', '', regex=True)\n",
        "data_proba['tweet'] = data_proba['tweet'].str.replace('ð', '', regex=True)"
      ],
      "metadata": {
        "id": "PjaENE1E8S5w"
      },
      "execution_count": null,
      "outputs": []
    },
    {
      "cell_type": "code",
      "source": [
        "data_proba['tweet'][0]"
      ],
      "metadata": {
        "colab": {
          "base_uri": "https://localhost:8080/",
          "height": 36
        },
        "id": "257eut_i8pML",
        "outputId": "8196c8f7-03a4-4b9e-b9ab-1c8faea7c221"
      },
      "execution_count": null,
      "outputs": [
        {
          "output_type": "execute_result",
          "data": {
            "text/plain": [
              "' user when a father is dysfunctional and is so selfish he drags his kids into his dysfunction   run'"
            ],
            "application/vnd.google.colaboratory.intrinsic+json": {
              "type": "string"
            }
          },
          "metadata": {},
          "execution_count": 32
        }
      ]
    },
    {
      "cell_type": "markdown",
      "source": [
        "## Вывод\n",
        "1) Классы сильно несбаласированны;\n",
        "\n",
        "2) В целом, судя по различию наборов наиболее популярных слов в каждом классе, классы должны быть различимы;\n",
        "\n",
        "3) В среднем, человек тратит на 6-8 символов больше, если пишет негативный комментарий;\n",
        "\n",
        "4) В твитах присутствует значительное количество небуквенных символов. Т.к нет чёткой уверенности в том, что количество и/или комбинации этих симоволов не будут влиять на эмоциональную окраску твита, необходимо провести эксперименты как с очищенными данными, так и с первоначальными данными, содержащими все эти символы."
      ],
      "metadata": {
        "id": "x8ylDMejHNVa"
      }
    },
    {
      "cell_type": "markdown",
      "source": [
        "# 4.Моделирование"
      ],
      "metadata": {
        "id": "SwMp0KeaFspv"
      }
    },
    {
      "cell_type": "markdown",
      "source": [
        "## Вспомогательные функции"
      ],
      "metadata": {
        "id": "rzRUdCU_Mlk6"
      }
    },
    {
      "cell_type": "code",
      "source": [
        "def drop_data_points(dataframe: pd.DataFrame, percent: float):\n",
        "  \"\"\"\n",
        "    Эта функция \"проредит\" данные, уберёт те точки, у которых target = 0,\n",
        "    причём количество выбрасываемых строк не может больше максимального, того,\n",
        "    которое сделает несбалансрованным уже 1 класс\n",
        "\n",
        "    :param percent: percent of dropped rows\n",
        "    :type percent: float\n",
        "\n",
        "    :param dataframe: init data\n",
        "    :type dataframe: pandas.DataFrame\n",
        "\n",
        "    :raises None\n",
        "\n",
        "    :rtype: pandas.DataFrame\n",
        "\n",
        "    :return: thinned dataframe\n",
        "    \"\"\"\n",
        "  dataframe = dataframe.sample(frac=1)\n",
        "  dct_value_counts = dict(dataframe['label'].value_counts())\n",
        "  slc = int((percent / 100) * dataframe.shape[0])\n",
        "  if slc > dataframe.shape[0] - dct_value_counts[1] * 2:\n",
        "    print('Число отбрасываемых строк превышает максимально допустимое')\n",
        "    slc = dataframe.shape[0] - dct_value_counts[1] * 2\n",
        "  return dataframe.sort_values(by='label')[slc:]"
      ],
      "metadata": {
        "id": "OTkqnTRJMqcs"
      },
      "execution_count": null,
      "outputs": []
    },
    {
      "cell_type": "code",
      "source": [
        "def plot_roc_curve(model, test_labels):\n",
        "  y_pred_proba = model.predict_proba(X_test_vectors)[::, 1]\n",
        "  fpr, tpr, _ = roc_curve(test_labels,  y_pred_proba)\n",
        "  auc = roc_auc_score(test_labels, y_pred_proba)\n",
        "  plt.plot(fpr, tpr, label=\"data 1, auc=\" + str(auc))\n",
        "  plt.plot([0, 1], [0, 1], 'k--')\n",
        "  plt.legend(loc=4)\n",
        "  plt.ylabel(\"True Positive Rate\", fontsize=20)\n",
        "  plt.xlabel(\"False Positive Rate\", fontsize=20)\n",
        "  plt.show()"
      ],
      "metadata": {
        "id": "hUo7KrmFm0Rz"
      },
      "execution_count": null,
      "outputs": []
    },
    {
      "cell_type": "code",
      "source": [
        "results = []"
      ],
      "metadata": {
        "id": "icg40mE5ZGIX"
      },
      "execution_count": null,
      "outputs": []
    },
    {
      "cell_type": "markdown",
      "source": [
        "## 4.1 Tf-idf"
      ],
      "metadata": {
        "id": "ZCySZ4ZxMwWV"
      }
    },
    {
      "cell_type": "code",
      "source": [
        "train_train, train_test = train_test_split(train,\n",
        "                                           test_size=0.2,\n",
        "                                           stratify=train['label'],\n",
        "                                           random_state=42\n",
        "                                           )"
      ],
      "metadata": {
        "id": "JcrA7sByFyvL"
      },
      "execution_count": null,
      "outputs": []
    },
    {
      "cell_type": "code",
      "source": [
        "train_train['label'].value_counts()"
      ],
      "metadata": {
        "colab": {
          "base_uri": "https://localhost:8080/"
        },
        "id": "pBNaDvNQN6g-",
        "outputId": "408319ad-d0a6-4158-e878-1fd8dd6451ac"
      },
      "execution_count": null,
      "outputs": [
        {
          "output_type": "execute_result",
          "data": {
            "text/plain": [
              "0    23775\n",
              "1     1794\n",
              "Name: label, dtype: int64"
            ]
          },
          "metadata": {},
          "execution_count": 193
        }
      ]
    },
    {
      "cell_type": "code",
      "source": [
        "train_test['label'].value_counts()"
      ],
      "metadata": {
        "colab": {
          "base_uri": "https://localhost:8080/"
        },
        "id": "0Dea5NNoOBG5",
        "outputId": "3263805f-0f55-4816-960e-f39920ac1843"
      },
      "execution_count": null,
      "outputs": [
        {
          "output_type": "execute_result",
          "data": {
            "text/plain": [
              "0    5945\n",
              "1     448\n",
              "Name: label, dtype: int64"
            ]
          },
          "metadata": {},
          "execution_count": 194
        }
      ]
    },
    {
      "cell_type": "code",
      "source": [
        "vectorizer = TfidfVectorizer(stop_words=stopWords[:20])\n",
        "vectorizer = vectorizer.fit(train['tweet'])"
      ],
      "metadata": {
        "id": "U5Ma8AQsFwDV"
      },
      "execution_count": null,
      "outputs": []
    },
    {
      "cell_type": "code",
      "source": [
        "X_train_vectors = vectorizer.transform(train_train['tweet'])\n",
        "Y_train_labels = train_train['label'].to_numpy()\n",
        "\n",
        "X_test_vectors = vectorizer.transform(train_test['tweet'])\n",
        "Y_test_labels = train_test['label'].to_numpy()"
      ],
      "metadata": {
        "id": "NPTipGjaIPHR"
      },
      "execution_count": null,
      "outputs": []
    },
    {
      "cell_type": "code",
      "source": [
        "clf = MultinomialNB().fit(X_train_vectors, Y_train_labels)"
      ],
      "metadata": {
        "id": "G70x5-0sKMcb"
      },
      "execution_count": null,
      "outputs": []
    },
    {
      "cell_type": "code",
      "source": [
        "predicts = clf.predict(X_test_vectors)\n",
        "print(classification_report(Y_test_labels, predicts))"
      ],
      "metadata": {
        "colab": {
          "base_uri": "https://localhost:8080/"
        },
        "id": "b4ESG-OrhgJC",
        "outputId": "a85d160d-5343-460c-f076-c72d00aa4a65"
      },
      "execution_count": null,
      "outputs": [
        {
          "output_type": "stream",
          "name": "stdout",
          "text": [
            "              precision    recall  f1-score   support\n",
            "\n",
            "           0       0.94      1.00      0.97      5945\n",
            "           1       1.00      0.12      0.21       448\n",
            "\n",
            "    accuracy                           0.94      6393\n",
            "   macro avg       0.97      0.56      0.59      6393\n",
            "weighted avg       0.94      0.94      0.91      6393\n",
            "\n"
          ]
        }
      ]
    },
    {
      "cell_type": "code",
      "source": [
        "plot_roc_curve(clf, Y_test_labels)"
      ],
      "metadata": {
        "colab": {
          "base_uri": "https://localhost:8080/",
          "height": 463
        },
        "id": "AqZIFJA1n8PI",
        "outputId": "7d78e1d7-d9a8-4d23-bee2-9f326889114e"
      },
      "execution_count": null,
      "outputs": [
        {
          "output_type": "display_data",
          "data": {
            "text/plain": [
              "<Figure size 640x480 with 1 Axes>"
            ],
            "image/png": "[encoded data removed]"
          },
          "metadata": {}
        }
      ]
    },
    {
      "cell_type": "code",
      "source": [
        "results.append({'model': 'MultinomialNB',\n",
        "                'auc': 0.86,\n",
        "                'data': None,\n",
        "                'f1_macro': 0.59,\n",
        "                'recall_1': 0.12,\n",
        "                'precision_1': 1.00})"
      ],
      "metadata": {
        "id": "k-REbLvnZJsG"
      },
      "execution_count": null,
      "outputs": []
    },
    {
      "cell_type": "code",
      "source": [
        "cat = CatBoostClassifier(iterations=1000,\n",
        "                         devices='0:1',\n",
        "                         )\n",
        "cat.fit(X_train_vectors, Y_train_labels)"
      ],
      "metadata": {
        "colab": {
          "base_uri": "https://localhost:8080/"
        },
        "id": "7vdyYpjtLEFC",
        "outputId": "42d89b63-dfb8-4bdb-91c7-c1be9fe4d7c0"
      },
      "execution_count": null,
      "outputs": [
        {
          "output_type": "stream",
          "name": "stdout",
          "text": [
            "Learning rate set to 0.041118\n",
            "0:\tlearn: 0.6483398\ttotal: 553ms\tremaining: 9m 12s\n",
            "1:\tlearn: 0.6076705\ttotal: 991ms\tremaining: 8m 14s\n",
            "2:\tlearn: 0.5717376\ttotal: 1.42s\tremaining: 7m 50s\n",
            "3:\tlearn: 0.5394269\ttotal: 1.83s\tremaining: 7m 34s\n",
            "4:\tlearn: 0.5095453\ttotal: 2.21s\tremaining: 7m 20s\n",
            "5:\tlearn: 0.4821207\ttotal: 2.65s\tremaining: 7m 19s\n",
            "6:\tlearn: 0.4584824\ttotal: 3.1s\tremaining: 7m 19s\n",
            "7:\tlearn: 0.4368974\ttotal: 3.57s\tremaining: 7m 22s\n",
            "8:\tlearn: 0.4174617\ttotal: 3.97s\tremaining: 7m 17s\n",
            "9:\tlearn: 0.3994495\ttotal: 4.41s\tremaining: 7m 16s\n",
            "10:\tlearn: 0.3818222\ttotal: 4.87s\tremaining: 7m 17s\n",
            "11:\tlearn: 0.3673598\ttotal: 5.35s\tremaining: 7m 20s\n",
            "12:\tlearn: 0.3530243\ttotal: 5.8s\tremaining: 7m 20s\n",
            "13:\tlearn: 0.3403031\ttotal: 6.26s\tremaining: 7m 21s\n",
            "14:\tlearn: 0.3284541\ttotal: 6.72s\tremaining: 7m 21s\n",
            "15:\tlearn: 0.3187170\ttotal: 7.16s\tremaining: 7m 20s\n",
            "16:\tlearn: 0.3088665\ttotal: 7.67s\tremaining: 7m 23s\n",
            "17:\tlearn: 0.3007415\ttotal: 8.13s\tremaining: 7m 23s\n",
            "18:\tlearn: 0.2934448\ttotal: 8.59s\tremaining: 7m 23s\n",
            "19:\tlearn: 0.2860851\ttotal: 9.09s\tremaining: 7m 25s\n",
            "20:\tlearn: 0.2798091\ttotal: 9.57s\tremaining: 7m 26s\n",
            "21:\tlearn: 0.2744302\ttotal: 10.2s\tremaining: 7m 32s\n",
            "22:\tlearn: 0.2686573\ttotal: 10.9s\tremaining: 7m 45s\n",
            "23:\tlearn: 0.2637454\ttotal: 11.6s\tremaining: 7m 52s\n",
            "24:\tlearn: 0.2589445\ttotal: 12.4s\tremaining: 8m 1s\n",
            "25:\tlearn: 0.2550828\ttotal: 12.9s\tremaining: 8m 2s\n",
            "26:\tlearn: 0.2510828\ttotal: 13.2s\tremaining: 7m 54s\n",
            "27:\tlearn: 0.2472741\ttotal: 13.6s\tremaining: 7m 53s\n",
            "28:\tlearn: 0.2440793\ttotal: 13.9s\tremaining: 7m 45s\n",
            "29:\tlearn: 0.2412657\ttotal: 14.2s\tremaining: 7m 38s\n",
            "30:\tlearn: 0.2384246\ttotal: 14.4s\tremaining: 7m 31s\n",
            "31:\tlearn: 0.2355135\ttotal: 14.7s\tremaining: 7m 24s\n",
            "32:\tlearn: 0.2330437\ttotal: 15s\tremaining: 7m 19s\n",
            "33:\tlearn: 0.2311668\ttotal: 15.3s\tremaining: 7m 13s\n",
            "34:\tlearn: 0.2291351\ttotal: 15.5s\tremaining: 7m 8s\n",
            "35:\tlearn: 0.2270186\ttotal: 15.8s\tremaining: 7m 2s\n",
            "36:\tlearn: 0.2252443\ttotal: 16.1s\tremaining: 6m 58s\n",
            "37:\tlearn: 0.2235592\ttotal: 16.3s\tremaining: 6m 53s\n",
            "38:\tlearn: 0.2220056\ttotal: 16.6s\tremaining: 6m 49s\n",
            "39:\tlearn: 0.2204267\ttotal: 16.9s\tremaining: 6m 45s\n",
            "40:\tlearn: 0.2190232\ttotal: 17.2s\tremaining: 6m 41s\n",
            "41:\tlearn: 0.2177948\ttotal: 17.4s\tremaining: 6m 37s\n",
            "42:\tlearn: 0.2165698\ttotal: 17.7s\tremaining: 6m 33s\n",
            "43:\tlearn: 0.2153547\ttotal: 18s\tremaining: 6m 30s\n",
            "44:\tlearn: 0.2142651\ttotal: 18.2s\tremaining: 6m 26s\n",
            "45:\tlearn: 0.2132378\ttotal: 18.5s\tremaining: 6m 23s\n",
            "46:\tlearn: 0.2123303\ttotal: 18.8s\tremaining: 6m 20s\n",
            "47:\tlearn: 0.2113216\ttotal: 19s\tremaining: 6m 17s\n",
            "48:\tlearn: 0.2103503\ttotal: 19.3s\tremaining: 6m 14s\n",
            "49:\tlearn: 0.2092986\ttotal: 19.6s\tremaining: 6m 12s\n",
            "50:\tlearn: 0.2084506\ttotal: 20.1s\tremaining: 6m 13s\n",
            "51:\tlearn: 0.2076608\ttotal: 20.5s\tremaining: 6m 14s\n",
            "52:\tlearn: 0.2069307\ttotal: 21s\tremaining: 6m 14s\n",
            "53:\tlearn: 0.2061793\ttotal: 21.4s\tremaining: 6m 14s\n",
            "54:\tlearn: 0.2054164\ttotal: 21.8s\tremaining: 6m 14s\n",
            "55:\tlearn: 0.2047005\ttotal: 22.3s\tremaining: 6m 15s\n",
            "56:\tlearn: 0.2038690\ttotal: 22.8s\tremaining: 6m 16s\n",
            "57:\tlearn: 0.2032027\ttotal: 23.1s\tremaining: 6m 14s\n",
            "58:\tlearn: 0.2025794\ttotal: 23.5s\tremaining: 6m 14s\n",
            "59:\tlearn: 0.2020242\ttotal: 24.1s\tremaining: 6m 17s\n",
            "60:\tlearn: 0.2014481\ttotal: 24.8s\tremaining: 6m 21s\n",
            "61:\tlearn: 0.2009546\ttotal: 25.4s\tremaining: 6m 23s\n",
            "62:\tlearn: 0.2003324\ttotal: 26s\tremaining: 6m 26s\n",
            "63:\tlearn: 0.1997933\ttotal: 26.4s\tremaining: 6m 26s\n",
            "64:\tlearn: 0.1992808\ttotal: 26.9s\tremaining: 6m 26s\n",
            "65:\tlearn: 0.1987537\ttotal: 27.3s\tremaining: 6m 26s\n",
            "66:\tlearn: 0.1981285\ttotal: 27.7s\tremaining: 6m 25s\n",
            "67:\tlearn: 0.1975638\ttotal: 28s\tremaining: 6m 23s\n",
            "68:\tlearn: 0.1971063\ttotal: 28.3s\tremaining: 6m 22s\n",
            "69:\tlearn: 0.1966447\ttotal: 28.9s\tremaining: 6m 23s\n",
            "70:\tlearn: 0.1961958\ttotal: 29.3s\tremaining: 6m 23s\n",
            "71:\tlearn: 0.1957988\ttotal: 29.7s\tremaining: 6m 22s\n",
            "72:\tlearn: 0.1952986\ttotal: 30.3s\tremaining: 6m 24s\n",
            "73:\tlearn: 0.1948642\ttotal: 30.6s\tremaining: 6m 23s\n",
            "74:\tlearn: 0.1944489\ttotal: 31s\tremaining: 6m 21s\n",
            "75:\tlearn: 0.1940730\ttotal: 31.3s\tremaining: 6m 20s\n",
            "76:\tlearn: 0.1936425\ttotal: 31.6s\tremaining: 6m 19s\n",
            "77:\tlearn: 0.1929343\ttotal: 32s\tremaining: 6m 18s\n",
            "78:\tlearn: 0.1924467\ttotal: 32.4s\tremaining: 6m 18s\n",
            "79:\tlearn: 0.1918920\ttotal: 32.8s\tremaining: 6m 17s\n",
            "80:\tlearn: 0.1915107\ttotal: 33.2s\tremaining: 6m 16s\n",
            "81:\tlearn: 0.1911001\ttotal: 33.6s\tremaining: 6m 16s\n",
            "82:\tlearn: 0.1907428\ttotal: 34.1s\tremaining: 6m 16s\n",
            "83:\tlearn: 0.1903616\ttotal: 34.4s\tremaining: 6m 15s\n",
            "84:\tlearn: 0.1898455\ttotal: 34.8s\tremaining: 6m 15s\n",
            "85:\tlearn: 0.1894899\ttotal: 35.3s\tremaining: 6m 15s\n",
            "86:\tlearn: 0.1891448\ttotal: 35.8s\tremaining: 6m 15s\n",
            "87:\tlearn: 0.1888354\ttotal: 36.2s\tremaining: 6m 15s\n",
            "88:\tlearn: 0.1884952\ttotal: 36.9s\tremaining: 6m 17s\n",
            "89:\tlearn: 0.1880619\ttotal: 37.5s\tremaining: 6m 19s\n",
            "90:\tlearn: 0.1876674\ttotal: 38.2s\tremaining: 6m 21s\n",
            "91:\tlearn: 0.1872900\ttotal: 38.8s\tremaining: 6m 23s\n",
            "92:\tlearn: 0.1869079\ttotal: 39.7s\tremaining: 6m 26s\n",
            "93:\tlearn: 0.1865814\ttotal: 40.3s\tremaining: 6m 27s\n",
            "94:\tlearn: 0.1862654\ttotal: 41s\tremaining: 6m 30s\n",
            "95:\tlearn: 0.1859867\ttotal: 41.6s\tremaining: 6m 31s\n",
            "96:\tlearn: 0.1856339\ttotal: 42.2s\tremaining: 6m 32s\n",
            "97:\tlearn: 0.1852849\ttotal: 42.7s\tremaining: 6m 33s\n",
            "98:\tlearn: 0.1849743\ttotal: 43.4s\tremaining: 6m 34s\n",
            "99:\tlearn: 0.1846450\ttotal: 44.1s\tremaining: 6m 36s\n",
            "100:\tlearn: 0.1841179\ttotal: 44.5s\tremaining: 6m 36s\n",
            "101:\tlearn: 0.1838714\ttotal: 45s\tremaining: 6m 36s\n",
            "102:\tlearn: 0.1836075\ttotal: 45.5s\tremaining: 6m 35s\n",
            "103:\tlearn: 0.1833332\ttotal: 45.9s\tremaining: 6m 35s\n",
            "104:\tlearn: 0.1829370\ttotal: 46.4s\tremaining: 6m 35s\n",
            "105:\tlearn: 0.1826745\ttotal: 46.8s\tremaining: 6m 34s\n",
            "106:\tlearn: 0.1824103\ttotal: 47.2s\tremaining: 6m 33s\n",
            "107:\tlearn: 0.1821453\ttotal: 47.6s\tremaining: 6m 33s\n",
            "108:\tlearn: 0.1818606\ttotal: 48.1s\tremaining: 6m 32s\n",
            "109:\tlearn: 0.1816178\ttotal: 48.5s\tremaining: 6m 32s\n",
            "110:\tlearn: 0.1813427\ttotal: 49.1s\tremaining: 6m 32s\n",
            "111:\tlearn: 0.1809386\ttotal: 50.2s\tremaining: 6m 38s\n",
            "112:\tlearn: 0.1806857\ttotal: 51.3s\tremaining: 6m 42s\n",
            "113:\tlearn: 0.1804183\ttotal: 52s\tremaining: 6m 44s\n",
            "114:\tlearn: 0.1801466\ttotal: 52.7s\tremaining: 6m 45s\n",
            "115:\tlearn: 0.1798489\ttotal: 53.3s\tremaining: 6m 45s\n",
            "116:\tlearn: 0.1795999\ttotal: 53.6s\tremaining: 6m 44s\n",
            "117:\tlearn: 0.1793263\ttotal: 54.1s\tremaining: 6m 44s\n",
            "118:\tlearn: 0.1790696\ttotal: 54.5s\tremaining: 6m 43s\n",
            "119:\tlearn: 0.1787701\ttotal: 54.8s\tremaining: 6m 42s\n",
            "120:\tlearn: 0.1785651\ttotal: 55.1s\tremaining: 6m 40s\n",
            "121:\tlearn: 0.1783336\ttotal: 55.4s\tremaining: 6m 38s\n",
            "122:\tlearn: 0.1780980\ttotal: 55.6s\tremaining: 6m 36s\n",
            "123:\tlearn: 0.1778727\ttotal: 55.9s\tremaining: 6m 35s\n",
            "124:\tlearn: 0.1776382\ttotal: 56.2s\tremaining: 6m 33s\n",
            "125:\tlearn: 0.1774338\ttotal: 56.5s\tremaining: 6m 31s\n",
            "126:\tlearn: 0.1771731\ttotal: 56.7s\tremaining: 6m 29s\n",
            "127:\tlearn: 0.1769408\ttotal: 57s\tremaining: 6m 28s\n",
            "128:\tlearn: 0.1767079\ttotal: 57.3s\tremaining: 6m 26s\n",
            "129:\tlearn: 0.1764866\ttotal: 57.5s\tremaining: 6m 25s\n",
            "130:\tlearn: 0.1762617\ttotal: 57.8s\tremaining: 6m 23s\n",
            "131:\tlearn: 0.1760563\ttotal: 58.1s\tremaining: 6m 21s\n",
            "132:\tlearn: 0.1757732\ttotal: 58.4s\tremaining: 6m 20s\n",
            "133:\tlearn: 0.1755573\ttotal: 58.6s\tremaining: 6m 18s\n",
            "134:\tlearn: 0.1753715\ttotal: 58.9s\tremaining: 6m 17s\n",
            "135:\tlearn: 0.1751473\ttotal: 59.2s\tremaining: 6m 15s\n",
            "136:\tlearn: 0.1749262\ttotal: 59.4s\tremaining: 6m 14s\n",
            "137:\tlearn: 0.1747351\ttotal: 59.7s\tremaining: 6m 12s\n",
            "138:\tlearn: 0.1745130\ttotal: 60s\tremaining: 6m 11s\n",
            "139:\tlearn: 0.1742956\ttotal: 1m\tremaining: 6m 10s\n",
            "140:\tlearn: 0.1740852\ttotal: 1m\tremaining: 6m 8s\n",
            "141:\tlearn: 0.1735518\ttotal: 1m\tremaining: 6m 7s\n",
            "142:\tlearn: 0.1733632\ttotal: 1m 1s\tremaining: 6m 5s\n",
            "143:\tlearn: 0.1732135\ttotal: 1m 1s\tremaining: 6m 4s\n",
            "144:\tlearn: 0.1730233\ttotal: 1m 1s\tremaining: 6m 3s\n",
            "145:\tlearn: 0.1727998\ttotal: 1m 1s\tremaining: 6m 1s\n",
            "146:\tlearn: 0.1726095\ttotal: 1m 2s\tremaining: 6m\n",
            "147:\tlearn: 0.1724374\ttotal: 1m 2s\tremaining: 5m 59s\n",
            "148:\tlearn: 0.1722518\ttotal: 1m 2s\tremaining: 5m 57s\n",
            "149:\tlearn: 0.1720779\ttotal: 1m 2s\tremaining: 5m 56s\n",
            "150:\tlearn: 0.1717672\ttotal: 1m 3s\tremaining: 5m 55s\n",
            "151:\tlearn: 0.1715870\ttotal: 1m 3s\tremaining: 5m 55s\n",
            "152:\tlearn: 0.1713356\ttotal: 1m 4s\tremaining: 5m 55s\n",
            "153:\tlearn: 0.1711640\ttotal: 1m 4s\tremaining: 5m 55s\n",
            "154:\tlearn: 0.1709610\ttotal: 1m 5s\tremaining: 5m 54s\n",
            "155:\tlearn: 0.1707696\ttotal: 1m 5s\tremaining: 5m 54s\n",
            "156:\tlearn: 0.1705445\ttotal: 1m 6s\tremaining: 5m 54s\n",
            "157:\tlearn: 0.1703821\ttotal: 1m 6s\tremaining: 5m 53s\n",
            "158:\tlearn: 0.1702117\ttotal: 1m 6s\tremaining: 5m 51s\n",
            "159:\tlearn: 0.1700763\ttotal: 1m 6s\tremaining: 5m 50s\n",
            "160:\tlearn: 0.1698862\ttotal: 1m 7s\tremaining: 5m 49s\n",
            "161:\tlearn: 0.1696866\ttotal: 1m 7s\tremaining: 5m 48s\n",
            "162:\tlearn: 0.1695279\ttotal: 1m 7s\tremaining: 5m 47s\n",
            "163:\tlearn: 0.1693402\ttotal: 1m 7s\tremaining: 5m 46s\n",
            "164:\tlearn: 0.1691235\ttotal: 1m 8s\tremaining: 5m 44s\n",
            "165:\tlearn: 0.1689007\ttotal: 1m 8s\tremaining: 5m 43s\n",
            "166:\tlearn: 0.1687072\ttotal: 1m 8s\tremaining: 5m 42s\n",
            "167:\tlearn: 0.1685364\ttotal: 1m 8s\tremaining: 5m 41s\n",
            "168:\tlearn: 0.1683556\ttotal: 1m 9s\tremaining: 5m 40s\n",
            "169:\tlearn: 0.1682104\ttotal: 1m 9s\tremaining: 5m 39s\n",
            "170:\tlearn: 0.1680803\ttotal: 1m 9s\tremaining: 5m 38s\n",
            "171:\tlearn: 0.1679015\ttotal: 1m 10s\tremaining: 5m 37s\n",
            "172:\tlearn: 0.1677221\ttotal: 1m 10s\tremaining: 5m 36s\n",
            "173:\tlearn: 0.1675521\ttotal: 1m 10s\tremaining: 5m 35s\n",
            "174:\tlearn: 0.1673711\ttotal: 1m 10s\tremaining: 5m 34s\n",
            "175:\tlearn: 0.1672224\ttotal: 1m 11s\tremaining: 5m 33s\n",
            "176:\tlearn: 0.1670314\ttotal: 1m 11s\tremaining: 5m 32s\n",
            "177:\tlearn: 0.1667264\ttotal: 1m 11s\tremaining: 5m 31s\n",
            "178:\tlearn: 0.1665092\ttotal: 1m 11s\tremaining: 5m 30s\n",
            "179:\tlearn: 0.1663408\ttotal: 1m 12s\tremaining: 5m 29s\n",
            "180:\tlearn: 0.1662096\ttotal: 1m 12s\tremaining: 5m 28s\n",
            "181:\tlearn: 0.1658668\ttotal: 1m 12s\tremaining: 5m 27s\n",
            "182:\tlearn: 0.1657061\ttotal: 1m 13s\tremaining: 5m 26s\n",
            "183:\tlearn: 0.1655460\ttotal: 1m 13s\tremaining: 5m 25s\n",
            "184:\tlearn: 0.1653927\ttotal: 1m 13s\tremaining: 5m 24s\n",
            "185:\tlearn: 0.1652122\ttotal: 1m 13s\tremaining: 5m 23s\n",
            "186:\tlearn: 0.1649863\ttotal: 1m 14s\tremaining: 5m 22s\n",
            "187:\tlearn: 0.1648215\ttotal: 1m 14s\tremaining: 5m 21s\n",
            "188:\tlearn: 0.1646725\ttotal: 1m 14s\tremaining: 5m 20s\n",
            "189:\tlearn: 0.1643808\ttotal: 1m 14s\tremaining: 5m 19s\n",
            "190:\tlearn: 0.1642436\ttotal: 1m 15s\tremaining: 5m 18s\n",
            "191:\tlearn: 0.1640584\ttotal: 1m 15s\tremaining: 5m 17s\n",
            "192:\tlearn: 0.1639024\ttotal: 1m 15s\tremaining: 5m 16s\n",
            "193:\tlearn: 0.1637536\ttotal: 1m 15s\tremaining: 5m 15s\n",
            "194:\tlearn: 0.1635977\ttotal: 1m 16s\tremaining: 5m 15s\n",
            "195:\tlearn: 0.1634454\ttotal: 1m 16s\tremaining: 5m 15s\n",
            "196:\tlearn: 0.1631492\ttotal: 1m 17s\tremaining: 5m 14s\n",
            "197:\tlearn: 0.1630015\ttotal: 1m 17s\tremaining: 5m 14s\n",
            "198:\tlearn: 0.1628870\ttotal: 1m 18s\tremaining: 5m 14s\n",
            "199:\tlearn: 0.1626192\ttotal: 1m 18s\tremaining: 5m 14s\n",
            "200:\tlearn: 0.1624747\ttotal: 1m 19s\tremaining: 5m 14s\n",
            "201:\tlearn: 0.1623300\ttotal: 1m 19s\tremaining: 5m 13s\n",
            "202:\tlearn: 0.1621838\ttotal: 1m 19s\tremaining: 5m 12s\n",
            "203:\tlearn: 0.1620462\ttotal: 1m 19s\tremaining: 5m 11s\n",
            "204:\tlearn: 0.1618657\ttotal: 1m 20s\tremaining: 5m 10s\n",
            "205:\tlearn: 0.1617188\ttotal: 1m 20s\tremaining: 5m 9s\n",
            "206:\tlearn: 0.1615264\ttotal: 1m 20s\tremaining: 5m 9s\n",
            "207:\tlearn: 0.1614098\ttotal: 1m 20s\tremaining: 5m 8s\n",
            "208:\tlearn: 0.1612664\ttotal: 1m 21s\tremaining: 5m 7s\n",
            "209:\tlearn: 0.1611239\ttotal: 1m 21s\tremaining: 5m 6s\n",
            "210:\tlearn: 0.1607956\ttotal: 1m 21s\tremaining: 5m 5s\n",
            "211:\tlearn: 0.1606285\ttotal: 1m 22s\tremaining: 5m 4s\n",
            "212:\tlearn: 0.1604911\ttotal: 1m 22s\tremaining: 5m 4s\n",
            "213:\tlearn: 0.1603580\ttotal: 1m 22s\tremaining: 5m 3s\n",
            "214:\tlearn: 0.1602381\ttotal: 1m 22s\tremaining: 5m 2s\n",
            "215:\tlearn: 0.1601181\ttotal: 1m 23s\tremaining: 5m 1s\n",
            "216:\tlearn: 0.1598982\ttotal: 1m 23s\tremaining: 5m\n",
            "217:\tlearn: 0.1597431\ttotal: 1m 23s\tremaining: 5m\n",
            "218:\tlearn: 0.1596039\ttotal: 1m 23s\tremaining: 4m 59s\n",
            "219:\tlearn: 0.1594887\ttotal: 1m 24s\tremaining: 4m 58s\n",
            "220:\tlearn: 0.1593503\ttotal: 1m 24s\tremaining: 4m 57s\n",
            "221:\tlearn: 0.1592259\ttotal: 1m 24s\tremaining: 4m 56s\n",
            "222:\tlearn: 0.1591078\ttotal: 1m 25s\tremaining: 4m 56s\n",
            "223:\tlearn: 0.1589810\ttotal: 1m 25s\tremaining: 4m 55s\n",
            "224:\tlearn: 0.1588750\ttotal: 1m 25s\tremaining: 4m 54s\n",
            "225:\tlearn: 0.1587584\ttotal: 1m 25s\tremaining: 4m 53s\n",
            "226:\tlearn: 0.1586096\ttotal: 1m 26s\tremaining: 4m 53s\n",
            "227:\tlearn: 0.1584686\ttotal: 1m 26s\tremaining: 4m 52s\n",
            "228:\tlearn: 0.1583495\ttotal: 1m 26s\tremaining: 4m 51s\n",
            "229:\tlearn: 0.1582303\ttotal: 1m 26s\tremaining: 4m 50s\n",
            "230:\tlearn: 0.1580767\ttotal: 1m 27s\tremaining: 4m 50s\n",
            "231:\tlearn: 0.1579601\ttotal: 1m 27s\tremaining: 4m 49s\n",
            "232:\tlearn: 0.1578446\ttotal: 1m 27s\tremaining: 4m 48s\n",
            "233:\tlearn: 0.1577117\ttotal: 1m 27s\tremaining: 4m 48s\n",
            "234:\tlearn: 0.1575876\ttotal: 1m 28s\tremaining: 4m 47s\n",
            "235:\tlearn: 0.1574838\ttotal: 1m 28s\tremaining: 4m 46s\n",
            "236:\tlearn: 0.1571790\ttotal: 1m 28s\tremaining: 4m 45s\n",
            "237:\tlearn: 0.1570456\ttotal: 1m 29s\tremaining: 4m 45s\n",
            "238:\tlearn: 0.1569091\ttotal: 1m 29s\tremaining: 4m 45s\n",
            "239:\tlearn: 0.1567283\ttotal: 1m 30s\tremaining: 4m 45s\n",
            "240:\tlearn: 0.1564137\ttotal: 1m 30s\tremaining: 4m 44s\n",
            "241:\tlearn: 0.1563056\ttotal: 1m 30s\tremaining: 4m 44s\n",
            "242:\tlearn: 0.1561699\ttotal: 1m 31s\tremaining: 4m 44s\n",
            "243:\tlearn: 0.1560342\ttotal: 1m 31s\tremaining: 4m 44s\n",
            "244:\tlearn: 0.1558844\ttotal: 1m 32s\tremaining: 4m 43s\n",
            "245:\tlearn: 0.1557668\ttotal: 1m 32s\tremaining: 4m 42s\n",
            "246:\tlearn: 0.1556617\ttotal: 1m 32s\tremaining: 4m 42s\n",
            "247:\tlearn: 0.1554227\ttotal: 1m 32s\tremaining: 4m 41s\n",
            "248:\tlearn: 0.1552919\ttotal: 1m 33s\tremaining: 4m 40s\n",
            "249:\tlearn: 0.1551465\ttotal: 1m 33s\tremaining: 4m 40s\n",
            "250:\tlearn: 0.1550372\ttotal: 1m 33s\tremaining: 4m 39s\n",
            "251:\tlearn: 0.1549158\ttotal: 1m 33s\tremaining: 4m 38s\n",
            "252:\tlearn: 0.1548009\ttotal: 1m 34s\tremaining: 4m 38s\n",
            "253:\tlearn: 0.1546883\ttotal: 1m 34s\tremaining: 4m 37s\n",
            "254:\tlearn: 0.1545668\ttotal: 1m 34s\tremaining: 4m 36s\n",
            "255:\tlearn: 0.1544654\ttotal: 1m 35s\tremaining: 4m 36s\n",
            "256:\tlearn: 0.1543050\ttotal: 1m 35s\tremaining: 4m 35s\n",
            "257:\tlearn: 0.1541955\ttotal: 1m 35s\tremaining: 4m 34s\n",
            "258:\tlearn: 0.1540456\ttotal: 1m 35s\tremaining: 4m 34s\n",
            "259:\tlearn: 0.1539191\ttotal: 1m 36s\tremaining: 4m 33s\n",
            "260:\tlearn: 0.1538107\ttotal: 1m 36s\tremaining: 4m 32s\n",
            "261:\tlearn: 0.1537176\ttotal: 1m 36s\tremaining: 4m 32s\n",
            "262:\tlearn: 0.1535360\ttotal: 1m 36s\tremaining: 4m 31s\n",
            "263:\tlearn: 0.1533339\ttotal: 1m 37s\tremaining: 4m 30s\n",
            "264:\tlearn: 0.1532293\ttotal: 1m 37s\tremaining: 4m 30s\n",
            "265:\tlearn: 0.1531179\ttotal: 1m 37s\tremaining: 4m 29s\n",
            "266:\tlearn: 0.1529445\ttotal: 1m 37s\tremaining: 4m 28s\n",
            "267:\tlearn: 0.1528440\ttotal: 1m 38s\tremaining: 4m 28s\n",
            "268:\tlearn: 0.1527380\ttotal: 1m 38s\tremaining: 4m 27s\n",
            "269:\tlearn: 0.1526408\ttotal: 1m 38s\tremaining: 4m 27s\n",
            "270:\tlearn: 0.1525333\ttotal: 1m 39s\tremaining: 4m 26s\n",
            "271:\tlearn: 0.1523595\ttotal: 1m 39s\tremaining: 4m 25s\n",
            "272:\tlearn: 0.1522594\ttotal: 1m 39s\tremaining: 4m 25s\n",
            "273:\tlearn: 0.1521612\ttotal: 1m 39s\tremaining: 4m 24s\n",
            "274:\tlearn: 0.1520118\ttotal: 1m 40s\tremaining: 4m 23s\n",
            "275:\tlearn: 0.1519106\ttotal: 1m 40s\tremaining: 4m 23s\n",
            "276:\tlearn: 0.1517499\ttotal: 1m 40s\tremaining: 4m 22s\n",
            "277:\tlearn: 0.1516502\ttotal: 1m 40s\tremaining: 4m 22s\n",
            "278:\tlearn: 0.1515567\ttotal: 1m 41s\tremaining: 4m 21s\n",
            "279:\tlearn: 0.1514610\ttotal: 1m 41s\tremaining: 4m 20s\n",
            "280:\tlearn: 0.1513718\ttotal: 1m 41s\tremaining: 4m 20s\n",
            "281:\tlearn: 0.1512564\ttotal: 1m 42s\tremaining: 4m 20s\n",
            "282:\tlearn: 0.1510859\ttotal: 1m 42s\tremaining: 4m 19s\n",
            "283:\tlearn: 0.1509287\ttotal: 1m 43s\tremaining: 4m 19s\n",
            "284:\tlearn: 0.1508264\ttotal: 1m 43s\tremaining: 4m 19s\n",
            "285:\tlearn: 0.1507264\ttotal: 1m 43s\tremaining: 4m 19s\n",
            "286:\tlearn: 0.1505911\ttotal: 1m 44s\tremaining: 4m 19s\n",
            "287:\tlearn: 0.1504943\ttotal: 1m 44s\tremaining: 4m 18s\n",
            "288:\tlearn: 0.1502725\ttotal: 1m 45s\tremaining: 4m 18s\n",
            "289:\tlearn: 0.1501857\ttotal: 1m 45s\tremaining: 4m 17s\n",
            "290:\tlearn: 0.1499699\ttotal: 1m 45s\tremaining: 4m 17s\n",
            "291:\tlearn: 0.1497748\ttotal: 1m 45s\tremaining: 4m 16s\n",
            "292:\tlearn: 0.1496448\ttotal: 1m 46s\tremaining: 4m 15s\n",
            "293:\tlearn: 0.1494689\ttotal: 1m 46s\tremaining: 4m 15s\n",
            "294:\tlearn: 0.1493793\ttotal: 1m 46s\tremaining: 4m 14s\n",
            "295:\tlearn: 0.1492850\ttotal: 1m 46s\tremaining: 4m 14s\n",
            "296:\tlearn: 0.1491985\ttotal: 1m 47s\tremaining: 4m 13s\n",
            "297:\tlearn: 0.1491124\ttotal: 1m 47s\tremaining: 4m 13s\n",
            "298:\tlearn: 0.1490094\ttotal: 1m 47s\tremaining: 4m 12s\n",
            "299:\tlearn: 0.1489160\ttotal: 1m 47s\tremaining: 4m 11s\n",
            "300:\tlearn: 0.1488132\ttotal: 1m 48s\tremaining: 4m 11s\n",
            "301:\tlearn: 0.1486121\ttotal: 1m 48s\tremaining: 4m 10s\n",
            "302:\tlearn: 0.1484683\ttotal: 1m 48s\tremaining: 4m 10s\n",
            "303:\tlearn: 0.1483448\ttotal: 1m 49s\tremaining: 4m 9s\n",
            "304:\tlearn: 0.1482647\ttotal: 1m 49s\tremaining: 4m 9s\n",
            "305:\tlearn: 0.1481448\ttotal: 1m 49s\tremaining: 4m 8s\n",
            "306:\tlearn: 0.1480344\ttotal: 1m 49s\tremaining: 4m 7s\n",
            "307:\tlearn: 0.1479546\ttotal: 1m 50s\tremaining: 4m 7s\n",
            "308:\tlearn: 0.1478290\ttotal: 1m 50s\tremaining: 4m 7s\n",
            "309:\tlearn: 0.1477147\ttotal: 1m 50s\tremaining: 4m 6s\n",
            "310:\tlearn: 0.1476206\ttotal: 1m 51s\tremaining: 4m 5s\n",
            "311:\tlearn: 0.1474927\ttotal: 1m 51s\tremaining: 4m 5s\n",
            "312:\tlearn: 0.1473708\ttotal: 1m 51s\tremaining: 4m 4s\n",
            "313:\tlearn: 0.1472703\ttotal: 1m 51s\tremaining: 4m 4s\n",
            "314:\tlearn: 0.1470891\ttotal: 1m 52s\tremaining: 4m 3s\n",
            "315:\tlearn: 0.1470058\ttotal: 1m 52s\tremaining: 4m 3s\n",
            "316:\tlearn: 0.1467714\ttotal: 1m 52s\tremaining: 4m 2s\n",
            "317:\tlearn: 0.1466767\ttotal: 1m 52s\tremaining: 4m 2s\n",
            "318:\tlearn: 0.1465996\ttotal: 1m 53s\tremaining: 4m 1s\n",
            "319:\tlearn: 0.1464918\ttotal: 1m 53s\tremaining: 4m\n",
            "320:\tlearn: 0.1464139\ttotal: 1m 53s\tremaining: 4m\n",
            "321:\tlearn: 0.1462272\ttotal: 1m 53s\tremaining: 3m 59s\n",
            "322:\tlearn: 0.1461420\ttotal: 1m 54s\tremaining: 3m 59s\n",
            "323:\tlearn: 0.1459942\ttotal: 1m 54s\tremaining: 3m 58s\n",
            "324:\tlearn: 0.1458846\ttotal: 1m 54s\tremaining: 3m 58s\n",
            "325:\tlearn: 0.1458097\ttotal: 1m 55s\tremaining: 3m 58s\n",
            "326:\tlearn: 0.1455980\ttotal: 1m 55s\tremaining: 3m 58s\n",
            "327:\tlearn: 0.1454430\ttotal: 1m 56s\tremaining: 3m 58s\n",
            "328:\tlearn: 0.1453536\ttotal: 1m 56s\tremaining: 3m 58s\n",
            "329:\tlearn: 0.1452395\ttotal: 1m 57s\tremaining: 3m 57s\n",
            "330:\tlearn: 0.1450949\ttotal: 1m 57s\tremaining: 3m 57s\n",
            "331:\tlearn: 0.1450121\ttotal: 1m 57s\tremaining: 3m 57s\n",
            "332:\tlearn: 0.1448923\ttotal: 1m 58s\tremaining: 3m 56s\n",
            "333:\tlearn: 0.1448129\ttotal: 1m 58s\tremaining: 3m 56s\n",
            "334:\tlearn: 0.1446974\ttotal: 1m 58s\tremaining: 3m 55s\n",
            "335:\tlearn: 0.1445804\ttotal: 1m 58s\tremaining: 3m 55s\n",
            "336:\tlearn: 0.1445011\ttotal: 1m 59s\tremaining: 3m 54s\n",
            "337:\tlearn: 0.1443679\ttotal: 1m 59s\tremaining: 3m 54s\n",
            "338:\tlearn: 0.1442777\ttotal: 1m 59s\tremaining: 3m 53s\n",
            "339:\tlearn: 0.1441561\ttotal: 2m\tremaining: 3m 53s\n",
            "340:\tlearn: 0.1440767\ttotal: 2m\tremaining: 3m 52s\n",
            "341:\tlearn: 0.1439475\ttotal: 2m\tremaining: 3m 52s\n",
            "342:\tlearn: 0.1437545\ttotal: 2m\tremaining: 3m 51s\n",
            "343:\tlearn: 0.1436703\ttotal: 2m 1s\tremaining: 3m 51s\n",
            "344:\tlearn: 0.1435993\ttotal: 2m 1s\tremaining: 3m 50s\n",
            "345:\tlearn: 0.1435039\ttotal: 2m 1s\tremaining: 3m 50s\n",
            "346:\tlearn: 0.1433764\ttotal: 2m 1s\tremaining: 3m 49s\n",
            "347:\tlearn: 0.1432258\ttotal: 2m 2s\tremaining: 3m 49s\n",
            "348:\tlearn: 0.1431203\ttotal: 2m 2s\tremaining: 3m 48s\n",
            "349:\tlearn: 0.1429763\ttotal: 2m 2s\tremaining: 3m 48s\n",
            "350:\tlearn: 0.1428630\ttotal: 2m 3s\tremaining: 3m 47s\n",
            "351:\tlearn: 0.1427816\ttotal: 2m 3s\tremaining: 3m 47s\n",
            "352:\tlearn: 0.1426853\ttotal: 2m 3s\tremaining: 3m 46s\n",
            "353:\tlearn: 0.1426117\ttotal: 2m 3s\tremaining: 3m 46s\n",
            "354:\tlearn: 0.1425022\ttotal: 2m 4s\tremaining: 3m 45s\n",
            "355:\tlearn: 0.1423188\ttotal: 2m 4s\tremaining: 3m 45s\n",
            "356:\tlearn: 0.1422120\ttotal: 2m 4s\tremaining: 3m 44s\n",
            "357:\tlearn: 0.1421414\ttotal: 2m 4s\tremaining: 3m 44s\n",
            "358:\tlearn: 0.1420557\ttotal: 2m 5s\tremaining: 3m 43s\n",
            "359:\tlearn: 0.1419803\ttotal: 2m 5s\tremaining: 3m 43s\n",
            "360:\tlearn: 0.1419095\ttotal: 2m 5s\tremaining: 3m 42s\n",
            "361:\tlearn: 0.1418334\ttotal: 2m 5s\tremaining: 3m 42s\n",
            "362:\tlearn: 0.1417206\ttotal: 2m 6s\tremaining: 3m 41s\n",
            "363:\tlearn: 0.1416098\ttotal: 2m 6s\tremaining: 3m 41s\n",
            "364:\tlearn: 0.1415396\ttotal: 2m 6s\tremaining: 3m 40s\n",
            "365:\tlearn: 0.1414677\ttotal: 2m 7s\tremaining: 3m 40s\n",
            "366:\tlearn: 0.1413236\ttotal: 2m 7s\tremaining: 3m 39s\n",
            "367:\tlearn: 0.1412140\ttotal: 2m 7s\tremaining: 3m 39s\n",
            "368:\tlearn: 0.1411458\ttotal: 2m 8s\tremaining: 3m 38s\n",
            "369:\tlearn: 0.1410804\ttotal: 2m 8s\tremaining: 3m 38s\n",
            "370:\tlearn: 0.1410092\ttotal: 2m 8s\tremaining: 3m 38s\n",
            "371:\tlearn: 0.1409206\ttotal: 2m 9s\tremaining: 3m 38s\n",
            "372:\tlearn: 0.1408098\ttotal: 2m 9s\tremaining: 3m 38s\n",
            "373:\tlearn: 0.1406875\ttotal: 2m 10s\tremaining: 3m 38s\n",
            "374:\tlearn: 0.1406191\ttotal: 2m 10s\tremaining: 3m 37s\n",
            "375:\tlearn: 0.1404998\ttotal: 2m 10s\tremaining: 3m 37s\n",
            "376:\tlearn: 0.1404317\ttotal: 2m 11s\tremaining: 3m 36s\n",
            "377:\tlearn: 0.1403613\ttotal: 2m 11s\tremaining: 3m 36s\n",
            "378:\tlearn: 0.1402922\ttotal: 2m 11s\tremaining: 3m 35s\n",
            "379:\tlearn: 0.1401938\ttotal: 2m 11s\tremaining: 3m 35s\n",
            "380:\tlearn: 0.1400728\ttotal: 2m 12s\tremaining: 3m 34s\n",
            "381:\tlearn: 0.1399928\ttotal: 2m 12s\tremaining: 3m 34s\n",
            "382:\tlearn: 0.1399255\ttotal: 2m 12s\tremaining: 3m 33s\n",
            "383:\tlearn: 0.1398605\ttotal: 2m 13s\tremaining: 3m 33s\n",
            "384:\tlearn: 0.1397486\ttotal: 2m 13s\tremaining: 3m 32s\n",
            "385:\tlearn: 0.1396294\ttotal: 2m 13s\tremaining: 3m 32s\n",
            "386:\tlearn: 0.1395540\ttotal: 2m 13s\tremaining: 3m 32s\n",
            "387:\tlearn: 0.1394072\ttotal: 2m 14s\tremaining: 3m 31s\n",
            "388:\tlearn: 0.1393404\ttotal: 2m 14s\tremaining: 3m 31s\n",
            "389:\tlearn: 0.1392777\ttotal: 2m 14s\tremaining: 3m 30s\n",
            "390:\tlearn: 0.1392059\ttotal: 2m 14s\tremaining: 3m 30s\n",
            "391:\tlearn: 0.1391403\ttotal: 2m 15s\tremaining: 3m 29s\n",
            "392:\tlearn: 0.1390349\ttotal: 2m 15s\tremaining: 3m 29s\n",
            "393:\tlearn: 0.1389680\ttotal: 2m 15s\tremaining: 3m 28s\n",
            "394:\tlearn: 0.1388939\ttotal: 2m 15s\tremaining: 3m 28s\n",
            "395:\tlearn: 0.1388306\ttotal: 2m 16s\tremaining: 3m 27s\n",
            "396:\tlearn: 0.1387656\ttotal: 2m 16s\tremaining: 3m 27s\n",
            "397:\tlearn: 0.1387033\ttotal: 2m 16s\tremaining: 3m 26s\n",
            "398:\tlearn: 0.1386254\ttotal: 2m 17s\tremaining: 3m 26s\n",
            "399:\tlearn: 0.1384653\ttotal: 2m 17s\tremaining: 3m 25s\n",
            "400:\tlearn: 0.1382874\ttotal: 2m 17s\tremaining: 3m 25s\n",
            "401:\tlearn: 0.1382232\ttotal: 2m 17s\tremaining: 3m 25s\n",
            "402:\tlearn: 0.1381178\ttotal: 2m 18s\tremaining: 3m 24s\n",
            "403:\tlearn: 0.1380541\ttotal: 2m 18s\tremaining: 3m 24s\n",
            "404:\tlearn: 0.1379918\ttotal: 2m 18s\tremaining: 3m 23s\n",
            "405:\tlearn: 0.1379181\ttotal: 2m 18s\tremaining: 3m 23s\n",
            "406:\tlearn: 0.1378578\ttotal: 2m 19s\tremaining: 3m 22s\n",
            "407:\tlearn: 0.1377981\ttotal: 2m 19s\tremaining: 3m 22s\n",
            "408:\tlearn: 0.1376744\ttotal: 2m 19s\tremaining: 3m 21s\n",
            "409:\tlearn: 0.1375586\ttotal: 2m 20s\tremaining: 3m 21s\n",
            "410:\tlearn: 0.1374886\ttotal: 2m 20s\tremaining: 3m 21s\n",
            "411:\tlearn: 0.1374130\ttotal: 2m 20s\tremaining: 3m 20s\n",
            "412:\tlearn: 0.1373559\ttotal: 2m 21s\tremaining: 3m 20s\n",
            "413:\tlearn: 0.1372942\ttotal: 2m 21s\tremaining: 3m 20s\n",
            "414:\tlearn: 0.1372352\ttotal: 2m 21s\tremaining: 3m 19s\n",
            "415:\tlearn: 0.1371393\ttotal: 2m 22s\tremaining: 3m 19s\n",
            "416:\tlearn: 0.1370633\ttotal: 2m 22s\tremaining: 3m 19s\n",
            "417:\tlearn: 0.1369709\ttotal: 2m 23s\tremaining: 3m 19s\n",
            "418:\tlearn: 0.1368730\ttotal: 2m 23s\tremaining: 3m 19s\n",
            "419:\tlearn: 0.1367764\ttotal: 2m 23s\tremaining: 3m 18s\n",
            "420:\tlearn: 0.1367104\ttotal: 2m 24s\tremaining: 3m 18s\n",
            "421:\tlearn: 0.1366521\ttotal: 2m 24s\tremaining: 3m 17s\n",
            "422:\tlearn: 0.1365824\ttotal: 2m 24s\tremaining: 3m 17s\n",
            "423:\tlearn: 0.1365217\ttotal: 2m 24s\tremaining: 3m 16s\n",
            "424:\tlearn: 0.1364188\ttotal: 2m 25s\tremaining: 3m 16s\n",
            "425:\tlearn: 0.1363100\ttotal: 2m 25s\tremaining: 3m 16s\n",
            "426:\tlearn: 0.1362509\ttotal: 2m 25s\tremaining: 3m 15s\n",
            "427:\tlearn: 0.1361399\ttotal: 2m 25s\tremaining: 3m 15s\n",
            "428:\tlearn: 0.1360268\ttotal: 2m 26s\tremaining: 3m 14s\n",
            "429:\tlearn: 0.1359629\ttotal: 2m 26s\tremaining: 3m 14s\n",
            "430:\tlearn: 0.1359034\ttotal: 2m 26s\tremaining: 3m 13s\n",
            "431:\tlearn: 0.1358475\ttotal: 2m 27s\tremaining: 3m 13s\n",
            "432:\tlearn: 0.1357882\ttotal: 2m 27s\tremaining: 3m 12s\n",
            "433:\tlearn: 0.1356629\ttotal: 2m 27s\tremaining: 3m 12s\n",
            "434:\tlearn: 0.1355987\ttotal: 2m 27s\tremaining: 3m 12s\n",
            "435:\tlearn: 0.1355149\ttotal: 2m 28s\tremaining: 3m 11s\n",
            "436:\tlearn: 0.1354458\ttotal: 2m 28s\tremaining: 3m 11s\n",
            "437:\tlearn: 0.1353869\ttotal: 2m 28s\tremaining: 3m 10s\n",
            "438:\tlearn: 0.1353297\ttotal: 2m 28s\tremaining: 3m 10s\n",
            "439:\tlearn: 0.1351901\ttotal: 2m 29s\tremaining: 3m 9s\n",
            "440:\tlearn: 0.1349629\ttotal: 2m 29s\tremaining: 3m 9s\n",
            "441:\tlearn: 0.1348941\ttotal: 2m 29s\tremaining: 3m 9s\n",
            "442:\tlearn: 0.1348361\ttotal: 2m 30s\tremaining: 3m 8s\n",
            "443:\tlearn: 0.1347802\ttotal: 2m 30s\tremaining: 3m 8s\n",
            "444:\tlearn: 0.1347208\ttotal: 2m 30s\tremaining: 3m 7s\n",
            "445:\tlearn: 0.1345903\ttotal: 2m 30s\tremaining: 3m 7s\n",
            "446:\tlearn: 0.1345290\ttotal: 2m 31s\tremaining: 3m 6s\n",
            "447:\tlearn: 0.1344359\ttotal: 2m 31s\tremaining: 3m 6s\n",
            "448:\tlearn: 0.1343691\ttotal: 2m 31s\tremaining: 3m 6s\n",
            "449:\tlearn: 0.1343107\ttotal: 2m 31s\tremaining: 3m 5s\n",
            "450:\tlearn: 0.1342065\ttotal: 2m 32s\tremaining: 3m 5s\n",
            "451:\tlearn: 0.1340966\ttotal: 2m 32s\tremaining: 3m 4s\n",
            "452:\tlearn: 0.1340423\ttotal: 2m 32s\tremaining: 3m 4s\n",
            "453:\tlearn: 0.1339887\ttotal: 2m 32s\tremaining: 3m 3s\n",
            "454:\tlearn: 0.1339335\ttotal: 2m 33s\tremaining: 3m 3s\n",
            "455:\tlearn: 0.1338814\ttotal: 2m 33s\tremaining: 3m 3s\n",
            "456:\tlearn: 0.1337961\ttotal: 2m 33s\tremaining: 3m 2s\n",
            "457:\tlearn: 0.1337432\ttotal: 2m 34s\tremaining: 3m 2s\n",
            "458:\tlearn: 0.1336788\ttotal: 2m 34s\tremaining: 3m 2s\n",
            "459:\tlearn: 0.1336068\ttotal: 2m 35s\tremaining: 3m 2s\n",
            "460:\tlearn: 0.1335507\ttotal: 2m 35s\tremaining: 3m 2s\n",
            "461:\tlearn: 0.1334412\ttotal: 2m 37s\tremaining: 3m 2s\n",
            "462:\tlearn: 0.1333798\ttotal: 2m 37s\tremaining: 3m 2s\n",
            "463:\tlearn: 0.1332330\ttotal: 2m 37s\tremaining: 3m 2s\n",
            "464:\tlearn: 0.1331784\ttotal: 2m 38s\tremaining: 3m 1s\n",
            "465:\tlearn: 0.1331052\ttotal: 2m 38s\tremaining: 3m 1s\n",
            "466:\tlearn: 0.1330503\ttotal: 2m 38s\tremaining: 3m\n",
            "467:\tlearn: 0.1329076\ttotal: 2m 38s\tremaining: 3m\n",
            "468:\tlearn: 0.1328516\ttotal: 2m 39s\tremaining: 3m\n",
            "469:\tlearn: 0.1327500\ttotal: 2m 39s\tremaining: 2m 59s\n",
            "470:\tlearn: 0.1326968\ttotal: 2m 39s\tremaining: 2m 59s\n",
            "471:\tlearn: 0.1326348\ttotal: 2m 39s\tremaining: 2m 58s\n",
            "472:\tlearn: 0.1325009\ttotal: 2m 40s\tremaining: 2m 58s\n",
            "473:\tlearn: 0.1324468\ttotal: 2m 40s\tremaining: 2m 58s\n",
            "474:\tlearn: 0.1323934\ttotal: 2m 40s\tremaining: 2m 57s\n",
            "475:\tlearn: 0.1323192\ttotal: 2m 40s\tremaining: 2m 57s\n",
            "476:\tlearn: 0.1321895\ttotal: 2m 41s\tremaining: 2m 56s\n",
            "477:\tlearn: 0.1321375\ttotal: 2m 41s\tremaining: 2m 56s\n",
            "478:\tlearn: 0.1320848\ttotal: 2m 41s\tremaining: 2m 55s\n",
            "479:\tlearn: 0.1319884\ttotal: 2m 42s\tremaining: 2m 55s\n",
            "480:\tlearn: 0.1319095\ttotal: 2m 42s\tremaining: 2m 55s\n",
            "481:\tlearn: 0.1317982\ttotal: 2m 42s\tremaining: 2m 54s\n",
            "482:\tlearn: 0.1316899\ttotal: 2m 42s\tremaining: 2m 54s\n",
            "483:\tlearn: 0.1316311\ttotal: 2m 43s\tremaining: 2m 54s\n",
            "484:\tlearn: 0.1315237\ttotal: 2m 43s\tremaining: 2m 54s\n",
            "485:\tlearn: 0.1314577\ttotal: 2m 44s\tremaining: 2m 53s\n",
            "486:\tlearn: 0.1314046\ttotal: 2m 44s\tremaining: 2m 53s\n",
            "487:\tlearn: 0.1313501\ttotal: 2m 45s\tremaining: 2m 53s\n",
            "488:\tlearn: 0.1312978\ttotal: 2m 46s\tremaining: 2m 53s\n",
            "489:\tlearn: 0.1312476\ttotal: 2m 46s\tremaining: 2m 53s\n",
            "490:\tlearn: 0.1311961\ttotal: 2m 47s\tremaining: 2m 53s\n",
            "491:\tlearn: 0.1310945\ttotal: 2m 48s\tremaining: 2m 53s\n",
            "492:\tlearn: 0.1310301\ttotal: 2m 49s\tremaining: 2m 54s\n",
            "493:\tlearn: 0.1309799\ttotal: 2m 50s\tremaining: 2m 54s\n",
            "494:\tlearn: 0.1308805\ttotal: 2m 50s\tremaining: 2m 54s\n",
            "495:\tlearn: 0.1308330\ttotal: 2m 51s\tremaining: 2m 53s\n",
            "496:\tlearn: 0.1307443\ttotal: 2m 51s\tremaining: 2m 53s\n",
            "497:\tlearn: 0.1306921\ttotal: 2m 51s\tremaining: 2m 53s\n",
            "498:\tlearn: 0.1306001\ttotal: 2m 52s\tremaining: 2m 53s\n",
            "499:\tlearn: 0.1304957\ttotal: 2m 52s\tremaining: 2m 52s\n",
            "500:\tlearn: 0.1304431\ttotal: 2m 53s\tremaining: 2m 52s\n",
            "501:\tlearn: 0.1303911\ttotal: 2m 53s\tremaining: 2m 52s\n",
            "502:\tlearn: 0.1303051\ttotal: 2m 54s\tremaining: 2m 51s\n",
            "503:\tlearn: 0.1302548\ttotal: 2m 54s\tremaining: 2m 51s\n",
            "504:\tlearn: 0.1301869\ttotal: 2m 54s\tremaining: 2m 51s\n",
            "505:\tlearn: 0.1301002\ttotal: 2m 55s\tremaining: 2m 50s\n",
            "506:\tlearn: 0.1300503\ttotal: 2m 55s\tremaining: 2m 50s\n",
            "507:\tlearn: 0.1299330\ttotal: 2m 55s\tremaining: 2m 50s\n",
            "508:\tlearn: 0.1298842\ttotal: 2m 55s\tremaining: 2m 49s\n",
            "509:\tlearn: 0.1298240\ttotal: 2m 56s\tremaining: 2m 49s\n",
            "510:\tlearn: 0.1297369\ttotal: 2m 56s\tremaining: 2m 48s\n",
            "511:\tlearn: 0.1296858\ttotal: 2m 56s\tremaining: 2m 48s\n",
            "512:\tlearn: 0.1295768\ttotal: 2m 56s\tremaining: 2m 48s\n",
            "513:\tlearn: 0.1295270\ttotal: 2m 57s\tremaining: 2m 47s\n",
            "514:\tlearn: 0.1294799\ttotal: 2m 57s\tremaining: 2m 47s\n",
            "515:\tlearn: 0.1293556\ttotal: 2m 57s\tremaining: 2m 46s\n",
            "516:\tlearn: 0.1292714\ttotal: 2m 58s\tremaining: 2m 46s\n",
            "517:\tlearn: 0.1291800\ttotal: 2m 58s\tremaining: 2m 45s\n",
            "518:\tlearn: 0.1291024\ttotal: 2m 58s\tremaining: 2m 45s\n",
            "519:\tlearn: 0.1290257\ttotal: 2m 58s\tremaining: 2m 45s\n",
            "520:\tlearn: 0.1289752\ttotal: 2m 59s\tremaining: 2m 44s\n",
            "521:\tlearn: 0.1289159\ttotal: 2m 59s\tremaining: 2m 44s\n",
            "522:\tlearn: 0.1288655\ttotal: 2m 59s\tremaining: 2m 43s\n",
            "523:\tlearn: 0.1288158\ttotal: 3m\tremaining: 2m 43s\n",
            "524:\tlearn: 0.1287589\ttotal: 3m\tremaining: 2m 43s\n",
            "525:\tlearn: 0.1287097\ttotal: 3m\tremaining: 2m 43s\n",
            "526:\tlearn: 0.1285988\ttotal: 3m 1s\tremaining: 2m 42s\n",
            "527:\tlearn: 0.1284191\ttotal: 3m 1s\tremaining: 2m 42s\n",
            "528:\tlearn: 0.1283717\ttotal: 3m 2s\tremaining: 2m 42s\n",
            "529:\tlearn: 0.1283231\ttotal: 3m 2s\tremaining: 2m 42s\n",
            "530:\tlearn: 0.1282742\ttotal: 3m 2s\tremaining: 2m 41s\n",
            "531:\tlearn: 0.1281817\ttotal: 3m 3s\tremaining: 2m 41s\n",
            "532:\tlearn: 0.1281334\ttotal: 3m 3s\tremaining: 2m 40s\n",
            "533:\tlearn: 0.1280645\ttotal: 3m 3s\tremaining: 2m 40s\n",
            "534:\tlearn: 0.1280076\ttotal: 3m 4s\tremaining: 2m 39s\n",
            "535:\tlearn: 0.1279216\ttotal: 3m 4s\tremaining: 2m 39s\n",
            "536:\tlearn: 0.1278753\ttotal: 3m 4s\tremaining: 2m 39s\n",
            "537:\tlearn: 0.1278280\ttotal: 3m 4s\tremaining: 2m 38s\n",
            "538:\tlearn: 0.1277175\ttotal: 3m 5s\tremaining: 2m 38s\n",
            "539:\tlearn: 0.1276476\ttotal: 3m 5s\tremaining: 2m 37s\n",
            "540:\tlearn: 0.1275463\ttotal: 3m 5s\tremaining: 2m 37s\n",
            "541:\tlearn: 0.1274690\ttotal: 3m 5s\tremaining: 2m 37s\n",
            "542:\tlearn: 0.1274203\ttotal: 3m 6s\tremaining: 2m 36s\n",
            "543:\tlearn: 0.1273562\ttotal: 3m 6s\tremaining: 2m 36s\n",
            "544:\tlearn: 0.1273083\ttotal: 3m 6s\tremaining: 2m 35s\n",
            "545:\tlearn: 0.1272602\ttotal: 3m 7s\tremaining: 2m 35s\n",
            "546:\tlearn: 0.1272148\ttotal: 3m 7s\tremaining: 2m 35s\n",
            "547:\tlearn: 0.1271601\ttotal: 3m 7s\tremaining: 2m 34s\n",
            "548:\tlearn: 0.1271133\ttotal: 3m 7s\tremaining: 2m 34s\n",
            "549:\tlearn: 0.1270669\ttotal: 3m 8s\tremaining: 2m 33s\n",
            "550:\tlearn: 0.1270192\ttotal: 3m 8s\tremaining: 2m 33s\n",
            "551:\tlearn: 0.1269214\ttotal: 3m 8s\tremaining: 2m 33s\n",
            "552:\tlearn: 0.1268193\ttotal: 3m 8s\tremaining: 2m 32s\n",
            "553:\tlearn: 0.1267726\ttotal: 3m 9s\tremaining: 2m 32s\n",
            "554:\tlearn: 0.1267278\ttotal: 3m 9s\tremaining: 2m 31s\n",
            "555:\tlearn: 0.1266843\ttotal: 3m 9s\tremaining: 2m 31s\n",
            "556:\tlearn: 0.1266400\ttotal: 3m 9s\tremaining: 2m 31s\n",
            "557:\tlearn: 0.1265490\ttotal: 3m 10s\tremaining: 2m 30s\n",
            "558:\tlearn: 0.1264937\ttotal: 3m 10s\tremaining: 2m 30s\n",
            "559:\tlearn: 0.1264244\ttotal: 3m 10s\tremaining: 2m 29s\n",
            "560:\tlearn: 0.1262244\ttotal: 3m 11s\tremaining: 2m 29s\n",
            "561:\tlearn: 0.1261505\ttotal: 3m 11s\tremaining: 2m 29s\n",
            "562:\tlearn: 0.1261056\ttotal: 3m 11s\tremaining: 2m 28s\n",
            "563:\tlearn: 0.1260609\ttotal: 3m 11s\tremaining: 2m 28s\n",
            "564:\tlearn: 0.1259686\ttotal: 3m 12s\tremaining: 2m 27s\n",
            "565:\tlearn: 0.1258764\ttotal: 3m 12s\tremaining: 2m 27s\n",
            "566:\tlearn: 0.1258237\ttotal: 3m 12s\tremaining: 2m 27s\n",
            "567:\tlearn: 0.1257791\ttotal: 3m 13s\tremaining: 2m 26s\n",
            "568:\tlearn: 0.1257330\ttotal: 3m 13s\tremaining: 2m 26s\n",
            "569:\tlearn: 0.1256614\ttotal: 3m 13s\tremaining: 2m 26s\n",
            "570:\tlearn: 0.1256198\ttotal: 3m 14s\tremaining: 2m 26s\n",
            "571:\tlearn: 0.1254865\ttotal: 3m 14s\tremaining: 2m 25s\n",
            "572:\tlearn: 0.1254283\ttotal: 3m 15s\tremaining: 2m 25s\n",
            "573:\tlearn: 0.1253088\ttotal: 3m 15s\tremaining: 2m 25s\n",
            "574:\tlearn: 0.1252655\ttotal: 3m 15s\tremaining: 2m 24s\n",
            "575:\tlearn: 0.1252221\ttotal: 3m 16s\tremaining: 2m 24s\n",
            "576:\tlearn: 0.1251777\ttotal: 3m 16s\tremaining: 2m 24s\n",
            "577:\tlearn: 0.1251241\ttotal: 3m 16s\tremaining: 2m 23s\n",
            "578:\tlearn: 0.1250350\ttotal: 3m 17s\tremaining: 2m 23s\n",
            "579:\tlearn: 0.1249488\ttotal: 3m 17s\tremaining: 2m 22s\n",
            "580:\tlearn: 0.1249050\ttotal: 3m 17s\tremaining: 2m 22s\n",
            "581:\tlearn: 0.1248485\ttotal: 3m 17s\tremaining: 2m 22s\n",
            "582:\tlearn: 0.1247417\ttotal: 3m 18s\tremaining: 2m 21s\n",
            "583:\tlearn: 0.1246975\ttotal: 3m 18s\tremaining: 2m 21s\n",
            "584:\tlearn: 0.1246440\ttotal: 3m 18s\tremaining: 2m 20s\n",
            "585:\tlearn: 0.1245753\ttotal: 3m 18s\tremaining: 2m 20s\n",
            "586:\tlearn: 0.1245323\ttotal: 3m 19s\tremaining: 2m 20s\n",
            "587:\tlearn: 0.1244880\ttotal: 3m 19s\tremaining: 2m 19s\n",
            "588:\tlearn: 0.1244273\ttotal: 3m 19s\tremaining: 2m 19s\n",
            "589:\tlearn: 0.1243409\ttotal: 3m 19s\tremaining: 2m 18s\n",
            "590:\tlearn: 0.1242422\ttotal: 3m 20s\tremaining: 2m 18s\n",
            "591:\tlearn: 0.1240994\ttotal: 3m 20s\tremaining: 2m 18s\n",
            "592:\tlearn: 0.1240102\ttotal: 3m 20s\tremaining: 2m 17s\n",
            "593:\tlearn: 0.1239667\ttotal: 3m 21s\tremaining: 2m 17s\n",
            "594:\tlearn: 0.1239212\ttotal: 3m 21s\tremaining: 2m 17s\n",
            "595:\tlearn: 0.1238339\ttotal: 3m 21s\tremaining: 2m 16s\n",
            "596:\tlearn: 0.1237396\ttotal: 3m 22s\tremaining: 2m 16s\n",
            "597:\tlearn: 0.1236526\ttotal: 3m 22s\tremaining: 2m 15s\n",
            "598:\tlearn: 0.1235059\ttotal: 3m 22s\tremaining: 2m 15s\n",
            "599:\tlearn: 0.1234615\ttotal: 3m 22s\tremaining: 2m 15s\n",
            "600:\tlearn: 0.1234023\ttotal: 3m 23s\tremaining: 2m 14s\n",
            "601:\tlearn: 0.1233480\ttotal: 3m 23s\tremaining: 2m 14s\n",
            "602:\tlearn: 0.1233045\ttotal: 3m 23s\tremaining: 2m 14s\n",
            "603:\tlearn: 0.1232382\ttotal: 3m 23s\tremaining: 2m 13s\n",
            "604:\tlearn: 0.1231949\ttotal: 3m 24s\tremaining: 2m 13s\n",
            "605:\tlearn: 0.1231525\ttotal: 3m 24s\tremaining: 2m 12s\n",
            "606:\tlearn: 0.1230368\ttotal: 3m 24s\tremaining: 2m 12s\n",
            "607:\tlearn: 0.1228803\ttotal: 3m 25s\tremaining: 2m 12s\n",
            "608:\tlearn: 0.1227534\ttotal: 3m 25s\tremaining: 2m 11s\n",
            "609:\tlearn: 0.1227002\ttotal: 3m 25s\tremaining: 2m 11s\n",
            "610:\tlearn: 0.1226585\ttotal: 3m 26s\tremaining: 2m 11s\n",
            "611:\tlearn: 0.1225574\ttotal: 3m 26s\tremaining: 2m 10s\n",
            "612:\tlearn: 0.1225172\ttotal: 3m 26s\tremaining: 2m 10s\n",
            "613:\tlearn: 0.1224342\ttotal: 3m 27s\tremaining: 2m 10s\n",
            "614:\tlearn: 0.1223289\ttotal: 3m 27s\tremaining: 2m 10s\n",
            "615:\tlearn: 0.1222536\ttotal: 3m 28s\tremaining: 2m 9s\n",
            "616:\tlearn: 0.1222112\ttotal: 3m 28s\tremaining: 2m 9s\n",
            "617:\tlearn: 0.1221711\ttotal: 3m 28s\tremaining: 2m 9s\n",
            "618:\tlearn: 0.1220718\ttotal: 3m 29s\tremaining: 2m 8s\n",
            "619:\tlearn: 0.1219831\ttotal: 3m 29s\tremaining: 2m 8s\n",
            "620:\tlearn: 0.1219307\ttotal: 3m 29s\tremaining: 2m 7s\n",
            "621:\tlearn: 0.1218877\ttotal: 3m 29s\tremaining: 2m 7s\n",
            "622:\tlearn: 0.1218456\ttotal: 3m 30s\tremaining: 2m 7s\n",
            "623:\tlearn: 0.1218063\ttotal: 3m 30s\tremaining: 2m 6s\n",
            "624:\tlearn: 0.1217633\ttotal: 3m 30s\tremaining: 2m 6s\n",
            "625:\tlearn: 0.1216666\ttotal: 3m 30s\tremaining: 2m 6s\n",
            "626:\tlearn: 0.1215777\ttotal: 3m 31s\tremaining: 2m 5s\n",
            "627:\tlearn: 0.1215274\ttotal: 3m 31s\tremaining: 2m 5s\n",
            "628:\tlearn: 0.1214669\ttotal: 3m 31s\tremaining: 2m 4s\n",
            "629:\tlearn: 0.1214249\ttotal: 3m 32s\tremaining: 2m 4s\n",
            "630:\tlearn: 0.1213657\ttotal: 3m 32s\tremaining: 2m 4s\n",
            "631:\tlearn: 0.1213027\ttotal: 3m 32s\tremaining: 2m 3s\n",
            "632:\tlearn: 0.1212282\ttotal: 3m 32s\tremaining: 2m 3s\n",
            "633:\tlearn: 0.1211906\ttotal: 3m 33s\tremaining: 2m 3s\n",
            "634:\tlearn: 0.1211505\ttotal: 3m 33s\tremaining: 2m 2s\n",
            "635:\tlearn: 0.1211104\ttotal: 3m 33s\tremaining: 2m 2s\n",
            "636:\tlearn: 0.1210544\ttotal: 3m 33s\tremaining: 2m 1s\n",
            "637:\tlearn: 0.1209594\ttotal: 3m 34s\tremaining: 2m 1s\n",
            "638:\tlearn: 0.1208792\ttotal: 3m 34s\tremaining: 2m 1s\n",
            "639:\tlearn: 0.1207765\ttotal: 3m 34s\tremaining: 2m\n",
            "640:\tlearn: 0.1207270\ttotal: 3m 35s\tremaining: 2m\n",
            "641:\tlearn: 0.1206400\ttotal: 3m 35s\tremaining: 2m\n",
            "642:\tlearn: 0.1205992\ttotal: 3m 35s\tremaining: 1m 59s\n",
            "643:\tlearn: 0.1205302\ttotal: 3m 35s\tremaining: 1m 59s\n",
            "644:\tlearn: 0.1204906\ttotal: 3m 36s\tremaining: 1m 58s\n",
            "645:\tlearn: 0.1204207\ttotal: 3m 36s\tremaining: 1m 58s\n",
            "646:\tlearn: 0.1203807\ttotal: 3m 36s\tremaining: 1m 58s\n",
            "647:\tlearn: 0.1203088\ttotal: 3m 36s\tremaining: 1m 57s\n",
            "648:\tlearn: 0.1202364\ttotal: 3m 37s\tremaining: 1m 57s\n",
            "649:\tlearn: 0.1201970\ttotal: 3m 37s\tremaining: 1m 57s\n",
            "650:\tlearn: 0.1201581\ttotal: 3m 37s\tremaining: 1m 56s\n",
            "651:\tlearn: 0.1200824\ttotal: 3m 37s\tremaining: 1m 56s\n",
            "652:\tlearn: 0.1200417\ttotal: 3m 38s\tremaining: 1m 55s\n",
            "653:\tlearn: 0.1199511\ttotal: 3m 38s\tremaining: 1m 55s\n",
            "654:\tlearn: 0.1199092\ttotal: 3m 39s\tremaining: 1m 55s\n",
            "655:\tlearn: 0.1198614\ttotal: 3m 39s\tremaining: 1m 55s\n",
            "656:\tlearn: 0.1197804\ttotal: 3m 39s\tremaining: 1m 54s\n",
            "657:\tlearn: 0.1197130\ttotal: 3m 40s\tremaining: 1m 54s\n",
            "658:\tlearn: 0.1196724\ttotal: 3m 40s\tremaining: 1m 54s\n",
            "659:\tlearn: 0.1195818\ttotal: 3m 41s\tremaining: 1m 53s\n",
            "660:\tlearn: 0.1195436\ttotal: 3m 41s\tremaining: 1m 53s\n",
            "661:\tlearn: 0.1195034\ttotal: 3m 41s\tremaining: 1m 53s\n",
            "662:\tlearn: 0.1194413\ttotal: 3m 42s\tremaining: 1m 52s\n",
            "663:\tlearn: 0.1193595\ttotal: 3m 42s\tremaining: 1m 52s\n",
            "664:\tlearn: 0.1193093\ttotal: 3m 42s\tremaining: 1m 52s\n",
            "665:\tlearn: 0.1191925\ttotal: 3m 42s\tremaining: 1m 51s\n",
            "666:\tlearn: 0.1191405\ttotal: 3m 43s\tremaining: 1m 51s\n",
            "667:\tlearn: 0.1191017\ttotal: 3m 43s\tremaining: 1m 51s\n",
            "668:\tlearn: 0.1190116\ttotal: 3m 43s\tremaining: 1m 50s\n",
            "669:\tlearn: 0.1189650\ttotal: 3m 43s\tremaining: 1m 50s\n",
            "670:\tlearn: 0.1188889\ttotal: 3m 44s\tremaining: 1m 49s\n",
            "671:\tlearn: 0.1188509\ttotal: 3m 44s\tremaining: 1m 49s\n",
            "672:\tlearn: 0.1188096\ttotal: 3m 44s\tremaining: 1m 49s\n",
            "673:\tlearn: 0.1187720\ttotal: 3m 45s\tremaining: 1m 48s\n",
            "674:\tlearn: 0.1186916\ttotal: 3m 45s\tremaining: 1m 48s\n",
            "675:\tlearn: 0.1186538\ttotal: 3m 45s\tremaining: 1m 48s\n",
            "676:\tlearn: 0.1185753\ttotal: 3m 45s\tremaining: 1m 47s\n",
            "677:\tlearn: 0.1184836\ttotal: 3m 46s\tremaining: 1m 47s\n",
            "678:\tlearn: 0.1184139\ttotal: 3m 46s\tremaining: 1m 47s\n",
            "679:\tlearn: 0.1183743\ttotal: 3m 46s\tremaining: 1m 46s\n",
            "680:\tlearn: 0.1183140\ttotal: 3m 46s\tremaining: 1m 46s\n",
            "681:\tlearn: 0.1182767\ttotal: 3m 47s\tremaining: 1m 45s\n",
            "682:\tlearn: 0.1182396\ttotal: 3m 47s\tremaining: 1m 45s\n",
            "683:\tlearn: 0.1181938\ttotal: 3m 47s\tremaining: 1m 45s\n",
            "684:\tlearn: 0.1181567\ttotal: 3m 47s\tremaining: 1m 44s\n",
            "685:\tlearn: 0.1180708\ttotal: 3m 48s\tremaining: 1m 44s\n",
            "686:\tlearn: 0.1180172\ttotal: 3m 48s\tremaining: 1m 44s\n",
            "687:\tlearn: 0.1179593\ttotal: 3m 48s\tremaining: 1m 43s\n",
            "688:\tlearn: 0.1179225\ttotal: 3m 49s\tremaining: 1m 43s\n",
            "689:\tlearn: 0.1178750\ttotal: 3m 49s\tremaining: 1m 43s\n",
            "690:\tlearn: 0.1178289\ttotal: 3m 49s\tremaining: 1m 42s\n",
            "691:\tlearn: 0.1177365\ttotal: 3m 49s\tremaining: 1m 42s\n",
            "692:\tlearn: 0.1176996\ttotal: 3m 50s\tremaining: 1m 41s\n",
            "693:\tlearn: 0.1176620\ttotal: 3m 50s\tremaining: 1m 41s\n",
            "694:\tlearn: 0.1175726\ttotal: 3m 50s\tremaining: 1m 41s\n",
            "695:\tlearn: 0.1175360\ttotal: 3m 50s\tremaining: 1m 40s\n",
            "696:\tlearn: 0.1174987\ttotal: 3m 51s\tremaining: 1m 40s\n",
            "697:\tlearn: 0.1174604\ttotal: 3m 51s\tremaining: 1m 40s\n",
            "698:\tlearn: 0.1174054\ttotal: 3m 51s\tremaining: 1m 39s\n",
            "699:\tlearn: 0.1173217\ttotal: 3m 52s\tremaining: 1m 39s\n",
            "700:\tlearn: 0.1172475\ttotal: 3m 52s\tremaining: 1m 39s\n",
            "701:\tlearn: 0.1172111\ttotal: 3m 53s\tremaining: 1m 39s\n",
            "702:\tlearn: 0.1171264\ttotal: 3m 53s\tremaining: 1m 38s\n",
            "703:\tlearn: 0.1170920\ttotal: 3m 54s\tremaining: 1m 38s\n",
            "704:\tlearn: 0.1170179\ttotal: 3m 54s\tremaining: 1m 38s\n",
            "705:\tlearn: 0.1169631\ttotal: 3m 54s\tremaining: 1m 37s\n",
            "706:\tlearn: 0.1169278\ttotal: 3m 55s\tremaining: 1m 37s\n",
            "707:\tlearn: 0.1168809\ttotal: 3m 55s\tremaining: 1m 37s\n",
            "708:\tlearn: 0.1168442\ttotal: 3m 55s\tremaining: 1m 36s\n",
            "709:\tlearn: 0.1167644\ttotal: 3m 55s\tremaining: 1m 36s\n",
            "710:\tlearn: 0.1167270\ttotal: 3m 56s\tremaining: 1m 35s\n",
            "711:\tlearn: 0.1166311\ttotal: 3m 56s\tremaining: 1m 35s\n",
            "712:\tlearn: 0.1165471\ttotal: 3m 56s\tremaining: 1m 35s\n",
            "713:\tlearn: 0.1165100\ttotal: 3m 56s\tremaining: 1m 34s\n",
            "714:\tlearn: 0.1164669\ttotal: 3m 57s\tremaining: 1m 34s\n",
            "715:\tlearn: 0.1164305\ttotal: 3m 57s\tremaining: 1m 34s\n",
            "716:\tlearn: 0.1163509\ttotal: 3m 57s\tremaining: 1m 33s\n",
            "717:\tlearn: 0.1162929\ttotal: 3m 58s\tremaining: 1m 33s\n",
            "718:\tlearn: 0.1162468\ttotal: 3m 58s\tremaining: 1m 33s\n",
            "719:\tlearn: 0.1162112\ttotal: 3m 58s\tremaining: 1m 32s\n",
            "720:\tlearn: 0.1161311\ttotal: 3m 58s\tremaining: 1m 32s\n",
            "721:\tlearn: 0.1160398\ttotal: 3m 59s\tremaining: 1m 32s\n",
            "722:\tlearn: 0.1159941\ttotal: 3m 59s\tremaining: 1m 31s\n",
            "723:\tlearn: 0.1159586\ttotal: 3m 59s\tremaining: 1m 31s\n",
            "724:\tlearn: 0.1159235\ttotal: 3m 59s\tremaining: 1m 30s\n",
            "725:\tlearn: 0.1158415\ttotal: 4m\tremaining: 1m 30s\n",
            "726:\tlearn: 0.1158045\ttotal: 4m\tremaining: 1m 30s\n",
            "727:\tlearn: 0.1157544\ttotal: 4m\tremaining: 1m 29s\n",
            "728:\tlearn: 0.1157209\ttotal: 4m\tremaining: 1m 29s\n",
            "729:\tlearn: 0.1156850\ttotal: 4m 1s\tremaining: 1m 29s\n",
            "730:\tlearn: 0.1155851\ttotal: 4m 1s\tremaining: 1m 28s\n",
            "731:\tlearn: 0.1154647\ttotal: 4m 1s\tremaining: 1m 28s\n",
            "732:\tlearn: 0.1154056\ttotal: 4m 2s\tremaining: 1m 28s\n",
            "733:\tlearn: 0.1153204\ttotal: 4m 2s\tremaining: 1m 27s\n",
            "734:\tlearn: 0.1152852\ttotal: 4m 2s\tremaining: 1m 27s\n",
            "735:\tlearn: 0.1152062\ttotal: 4m 2s\tremaining: 1m 27s\n",
            "736:\tlearn: 0.1151471\ttotal: 4m 3s\tremaining: 1m 26s\n",
            "737:\tlearn: 0.1150713\ttotal: 4m 3s\tremaining: 1m 26s\n",
            "738:\tlearn: 0.1150308\ttotal: 4m 3s\tremaining: 1m 26s\n",
            "739:\tlearn: 0.1149958\ttotal: 4m 3s\tremaining: 1m 25s\n",
            "740:\tlearn: 0.1149361\ttotal: 4m 4s\tremaining: 1m 25s\n",
            "741:\tlearn: 0.1149027\ttotal: 4m 4s\tremaining: 1m 25s\n",
            "742:\tlearn: 0.1148438\ttotal: 4m 4s\tremaining: 1m 24s\n",
            "743:\tlearn: 0.1148011\ttotal: 4m 5s\tremaining: 1m 24s\n",
            "744:\tlearn: 0.1147541\ttotal: 4m 5s\tremaining: 1m 24s\n",
            "745:\tlearn: 0.1147196\ttotal: 4m 6s\tremaining: 1m 23s\n",
            "746:\tlearn: 0.1146865\ttotal: 4m 6s\tremaining: 1m 23s\n",
            "747:\tlearn: 0.1146427\ttotal: 4m 7s\tremaining: 1m 23s\n",
            "748:\tlearn: 0.1146096\ttotal: 4m 7s\tremaining: 1m 22s\n",
            "749:\tlearn: 0.1145743\ttotal: 4m 7s\tremaining: 1m 22s\n",
            "750:\tlearn: 0.1145038\ttotal: 4m 8s\tremaining: 1m 22s\n",
            "751:\tlearn: 0.1144282\ttotal: 4m 8s\tremaining: 1m 21s\n",
            "752:\tlearn: 0.1143639\ttotal: 4m 8s\tremaining: 1m 21s\n",
            "753:\tlearn: 0.1143303\ttotal: 4m 8s\tremaining: 1m 21s\n",
            "754:\tlearn: 0.1142816\ttotal: 4m 9s\tremaining: 1m 20s\n",
            "755:\tlearn: 0.1141742\ttotal: 4m 9s\tremaining: 1m 20s\n",
            "756:\tlearn: 0.1141394\ttotal: 4m 9s\tremaining: 1m 20s\n",
            "757:\tlearn: 0.1140794\ttotal: 4m 9s\tremaining: 1m 19s\n",
            "758:\tlearn: 0.1140070\ttotal: 4m 10s\tremaining: 1m 19s\n",
            "759:\tlearn: 0.1139634\ttotal: 4m 10s\tremaining: 1m 19s\n",
            "760:\tlearn: 0.1139299\ttotal: 4m 10s\tremaining: 1m 18s\n",
            "761:\tlearn: 0.1138720\ttotal: 4m 11s\tremaining: 1m 18s\n",
            "762:\tlearn: 0.1138404\ttotal: 4m 11s\tremaining: 1m 18s\n",
            "763:\tlearn: 0.1138068\ttotal: 4m 11s\tremaining: 1m 17s\n",
            "764:\tlearn: 0.1137306\ttotal: 4m 11s\tremaining: 1m 17s\n",
            "765:\tlearn: 0.1136486\ttotal: 4m 12s\tremaining: 1m 17s\n",
            "766:\tlearn: 0.1135750\ttotal: 4m 12s\tremaining: 1m 16s\n",
            "767:\tlearn: 0.1135317\ttotal: 4m 12s\tremaining: 1m 16s\n",
            "768:\tlearn: 0.1134846\ttotal: 4m 12s\tremaining: 1m 15s\n",
            "769:\tlearn: 0.1134507\ttotal: 4m 13s\tremaining: 1m 15s\n",
            "770:\tlearn: 0.1134155\ttotal: 4m 13s\tremaining: 1m 15s\n",
            "771:\tlearn: 0.1133606\ttotal: 4m 13s\tremaining: 1m 14s\n",
            "772:\tlearn: 0.1132753\ttotal: 4m 13s\tremaining: 1m 14s\n",
            "773:\tlearn: 0.1132429\ttotal: 4m 14s\tremaining: 1m 14s\n",
            "774:\tlearn: 0.1131786\ttotal: 4m 14s\tremaining: 1m 13s\n",
            "775:\tlearn: 0.1131479\ttotal: 4m 14s\tremaining: 1m 13s\n",
            "776:\tlearn: 0.1131026\ttotal: 4m 15s\tremaining: 1m 13s\n",
            "777:\tlearn: 0.1130406\ttotal: 4m 15s\tremaining: 1m 12s\n",
            "778:\tlearn: 0.1129775\ttotal: 4m 15s\tremaining: 1m 12s\n",
            "779:\tlearn: 0.1128929\ttotal: 4m 15s\tremaining: 1m 12s\n",
            "780:\tlearn: 0.1128509\ttotal: 4m 16s\tremaining: 1m 11s\n",
            "781:\tlearn: 0.1127847\ttotal: 4m 16s\tremaining: 1m 11s\n",
            "782:\tlearn: 0.1127204\ttotal: 4m 16s\tremaining: 1m 11s\n",
            "783:\tlearn: 0.1126883\ttotal: 4m 16s\tremaining: 1m 10s\n",
            "784:\tlearn: 0.1126539\ttotal: 4m 17s\tremaining: 1m 10s\n",
            "785:\tlearn: 0.1125839\ttotal: 4m 17s\tremaining: 1m 10s\n",
            "786:\tlearn: 0.1125343\ttotal: 4m 18s\tremaining: 1m 9s\n",
            "787:\tlearn: 0.1124626\ttotal: 4m 18s\tremaining: 1m 9s\n",
            "788:\tlearn: 0.1124310\ttotal: 4m 18s\tremaining: 1m 9s\n",
            "789:\tlearn: 0.1123908\ttotal: 4m 19s\tremaining: 1m 8s\n",
            "790:\tlearn: 0.1123590\ttotal: 4m 19s\tremaining: 1m 8s\n",
            "791:\tlearn: 0.1121918\ttotal: 4m 20s\tremaining: 1m 8s\n",
            "792:\tlearn: 0.1121489\ttotal: 4m 21s\tremaining: 1m 8s\n",
            "793:\tlearn: 0.1120961\ttotal: 4m 21s\tremaining: 1m 7s\n",
            "794:\tlearn: 0.1120475\ttotal: 4m 21s\tremaining: 1m 7s\n",
            "795:\tlearn: 0.1120138\ttotal: 4m 22s\tremaining: 1m 7s\n",
            "796:\tlearn: 0.1119561\ttotal: 4m 22s\tremaining: 1m 6s\n",
            "797:\tlearn: 0.1118643\ttotal: 4m 22s\tremaining: 1m 6s\n",
            "798:\tlearn: 0.1117935\ttotal: 4m 23s\tremaining: 1m 6s\n",
            "799:\tlearn: 0.1117239\ttotal: 4m 23s\tremaining: 1m 5s\n",
            "800:\tlearn: 0.1116923\ttotal: 4m 23s\tremaining: 1m 5s\n",
            "801:\tlearn: 0.1116322\ttotal: 4m 23s\tremaining: 1m 5s\n",
            "802:\tlearn: 0.1115914\ttotal: 4m 24s\tremaining: 1m 4s\n",
            "803:\tlearn: 0.1115459\ttotal: 4m 24s\tremaining: 1m 4s\n",
            "804:\tlearn: 0.1114848\ttotal: 4m 24s\tremaining: 1m 4s\n",
            "805:\tlearn: 0.1114206\ttotal: 4m 24s\tremaining: 1m 3s\n",
            "806:\tlearn: 0.1113415\ttotal: 4m 25s\tremaining: 1m 3s\n",
            "807:\tlearn: 0.1113096\ttotal: 4m 25s\tremaining: 1m 3s\n",
            "808:\tlearn: 0.1112417\ttotal: 4m 25s\tremaining: 1m 2s\n",
            "809:\tlearn: 0.1112087\ttotal: 4m 26s\tremaining: 1m 2s\n",
            "810:\tlearn: 0.1111592\ttotal: 4m 26s\tremaining: 1m 2s\n",
            "811:\tlearn: 0.1111254\ttotal: 4m 26s\tremaining: 1m 1s\n",
            "812:\tlearn: 0.1110862\ttotal: 4m 26s\tremaining: 1m 1s\n",
            "813:\tlearn: 0.1110248\ttotal: 4m 27s\tremaining: 1m 1s\n",
            "814:\tlearn: 0.1109353\ttotal: 4m 27s\tremaining: 1m\n",
            "815:\tlearn: 0.1109022\ttotal: 4m 27s\tremaining: 1m\n",
            "816:\tlearn: 0.1108323\ttotal: 4m 27s\tremaining: 1m\n",
            "817:\tlearn: 0.1108047\ttotal: 4m 28s\tremaining: 59.7s\n",
            "818:\tlearn: 0.1107737\ttotal: 4m 28s\tremaining: 59.3s\n",
            "819:\tlearn: 0.1107417\ttotal: 4m 28s\tremaining: 59s\n",
            "820:\tlearn: 0.1107145\ttotal: 4m 28s\tremaining: 58.6s\n",
            "821:\tlearn: 0.1106764\ttotal: 4m 29s\tremaining: 58.3s\n",
            "822:\tlearn: 0.1106343\ttotal: 4m 29s\tremaining: 58s\n",
            "823:\tlearn: 0.1105789\ttotal: 4m 29s\tremaining: 57.6s\n",
            "824:\tlearn: 0.1105098\ttotal: 4m 30s\tremaining: 57.3s\n",
            "825:\tlearn: 0.1104788\ttotal: 4m 30s\tremaining: 57s\n",
            "826:\tlearn: 0.1104475\ttotal: 4m 30s\tremaining: 56.7s\n",
            "827:\tlearn: 0.1104206\ttotal: 4m 31s\tremaining: 56.4s\n",
            "828:\tlearn: 0.1103809\ttotal: 4m 31s\tremaining: 56.1s\n",
            "829:\tlearn: 0.1103505\ttotal: 4m 32s\tremaining: 55.8s\n",
            "830:\tlearn: 0.1103249\ttotal: 4m 32s\tremaining: 55.4s\n",
            "831:\tlearn: 0.1102571\ttotal: 4m 33s\tremaining: 55.1s\n",
            "832:\tlearn: 0.1101951\ttotal: 4m 33s\tremaining: 54.8s\n",
            "833:\tlearn: 0.1101152\ttotal: 4m 33s\tremaining: 54.5s\n",
            "834:\tlearn: 0.1100828\ttotal: 4m 33s\tremaining: 54.1s\n",
            "835:\tlearn: 0.1100094\ttotal: 4m 34s\tremaining: 53.8s\n",
            "836:\tlearn: 0.1099710\ttotal: 4m 34s\tremaining: 53.4s\n",
            "837:\tlearn: 0.1098930\ttotal: 4m 34s\tremaining: 53.1s\n",
            "838:\tlearn: 0.1098583\ttotal: 4m 34s\tremaining: 52.8s\n",
            "839:\tlearn: 0.1097926\ttotal: 4m 35s\tremaining: 52.4s\n",
            "840:\tlearn: 0.1097370\ttotal: 4m 35s\tremaining: 52.1s\n",
            "841:\tlearn: 0.1096737\ttotal: 4m 35s\tremaining: 51.8s\n",
            "842:\tlearn: 0.1096276\ttotal: 4m 36s\tremaining: 51.4s\n",
            "843:\tlearn: 0.1096006\ttotal: 4m 36s\tremaining: 51.1s\n",
            "844:\tlearn: 0.1095742\ttotal: 4m 36s\tremaining: 50.7s\n",
            "845:\tlearn: 0.1095481\ttotal: 4m 36s\tremaining: 50.4s\n",
            "846:\tlearn: 0.1095213\ttotal: 4m 37s\tremaining: 50.1s\n",
            "847:\tlearn: 0.1094898\ttotal: 4m 37s\tremaining: 49.7s\n",
            "848:\tlearn: 0.1094588\ttotal: 4m 37s\tremaining: 49.4s\n",
            "849:\tlearn: 0.1094328\ttotal: 4m 37s\tremaining: 49s\n",
            "850:\tlearn: 0.1093611\ttotal: 4m 38s\tremaining: 48.7s\n",
            "851:\tlearn: 0.1093126\ttotal: 4m 38s\tremaining: 48.4s\n",
            "852:\tlearn: 0.1092864\ttotal: 4m 38s\tremaining: 48s\n",
            "853:\tlearn: 0.1092011\ttotal: 4m 39s\tremaining: 47.7s\n",
            "854:\tlearn: 0.1091713\ttotal: 4m 39s\tremaining: 47.4s\n",
            "855:\tlearn: 0.1091449\ttotal: 4m 39s\tremaining: 47s\n",
            "856:\tlearn: 0.1091191\ttotal: 4m 39s\tremaining: 46.7s\n",
            "857:\tlearn: 0.1090930\ttotal: 4m 40s\tremaining: 46.4s\n",
            "858:\tlearn: 0.1090528\ttotal: 4m 40s\tremaining: 46s\n",
            "859:\tlearn: 0.1090270\ttotal: 4m 40s\tremaining: 45.7s\n",
            "860:\tlearn: 0.1089441\ttotal: 4m 40s\tremaining: 45.3s\n",
            "861:\tlearn: 0.1089183\ttotal: 4m 41s\tremaining: 45s\n",
            "862:\tlearn: 0.1088888\ttotal: 4m 41s\tremaining: 44.7s\n",
            "863:\tlearn: 0.1088627\ttotal: 4m 41s\tremaining: 44.3s\n",
            "864:\tlearn: 0.1088374\ttotal: 4m 41s\tremaining: 44s\n",
            "865:\tlearn: 0.1088117\ttotal: 4m 42s\tremaining: 43.7s\n",
            "866:\tlearn: 0.1087854\ttotal: 4m 42s\tremaining: 43.3s\n",
            "867:\tlearn: 0.1087607\ttotal: 4m 42s\tremaining: 43s\n",
            "868:\tlearn: 0.1087352\ttotal: 4m 43s\tremaining: 42.7s\n",
            "869:\tlearn: 0.1087045\ttotal: 4m 43s\tremaining: 42.4s\n",
            "870:\tlearn: 0.1086790\ttotal: 4m 43s\tremaining: 42.1s\n",
            "871:\tlearn: 0.1086537\ttotal: 4m 44s\tremaining: 41.7s\n",
            "872:\tlearn: 0.1085772\ttotal: 4m 44s\tremaining: 41.4s\n",
            "873:\tlearn: 0.1085205\ttotal: 4m 45s\tremaining: 41.1s\n",
            "874:\tlearn: 0.1084873\ttotal: 4m 45s\tremaining: 40.8s\n",
            "875:\tlearn: 0.1084486\ttotal: 4m 46s\tremaining: 40.5s\n",
            "876:\tlearn: 0.1084228\ttotal: 4m 46s\tremaining: 40.2s\n",
            "877:\tlearn: 0.1083490\ttotal: 4m 46s\tremaining: 39.8s\n",
            "878:\tlearn: 0.1083199\ttotal: 4m 46s\tremaining: 39.5s\n",
            "879:\tlearn: 0.1082897\ttotal: 4m 47s\tremaining: 39.2s\n",
            "880:\tlearn: 0.1082644\ttotal: 4m 47s\tremaining: 38.8s\n",
            "881:\tlearn: 0.1082205\ttotal: 4m 47s\tremaining: 38.5s\n",
            "882:\tlearn: 0.1081953\ttotal: 4m 47s\tremaining: 38.2s\n",
            "883:\tlearn: 0.1081708\ttotal: 4m 48s\tremaining: 37.8s\n",
            "884:\tlearn: 0.1081325\ttotal: 4m 48s\tremaining: 37.5s\n",
            "885:\tlearn: 0.1081080\ttotal: 4m 48s\tremaining: 37.2s\n",
            "886:\tlearn: 0.1080531\ttotal: 4m 49s\tremaining: 36.8s\n",
            "887:\tlearn: 0.1079760\ttotal: 4m 49s\tremaining: 36.5s\n",
            "888:\tlearn: 0.1079484\ttotal: 4m 49s\tremaining: 36.2s\n",
            "889:\tlearn: 0.1078605\ttotal: 4m 49s\tremaining: 35.8s\n",
            "890:\tlearn: 0.1078350\ttotal: 4m 50s\tremaining: 35.5s\n",
            "891:\tlearn: 0.1078098\ttotal: 4m 50s\tremaining: 35.2s\n",
            "892:\tlearn: 0.1077848\ttotal: 4m 50s\tremaining: 34.8s\n",
            "893:\tlearn: 0.1077602\ttotal: 4m 50s\tremaining: 34.5s\n",
            "894:\tlearn: 0.1077072\ttotal: 4m 51s\tremaining: 34.2s\n",
            "895:\tlearn: 0.1076422\ttotal: 4m 51s\tremaining: 33.8s\n",
            "896:\tlearn: 0.1075929\ttotal: 4m 51s\tremaining: 33.5s\n",
            "897:\tlearn: 0.1075371\ttotal: 4m 51s\tremaining: 33.2s\n",
            "898:\tlearn: 0.1075112\ttotal: 4m 52s\tremaining: 32.8s\n",
            "899:\tlearn: 0.1074529\ttotal: 4m 52s\tremaining: 32.5s\n",
            "900:\tlearn: 0.1074279\ttotal: 4m 52s\tremaining: 32.2s\n",
            "901:\tlearn: 0.1074030\ttotal: 4m 53s\tremaining: 31.8s\n",
            "902:\tlearn: 0.1073657\ttotal: 4m 53s\tremaining: 31.5s\n",
            "903:\tlearn: 0.1073414\ttotal: 4m 53s\tremaining: 31.2s\n",
            "904:\tlearn: 0.1073164\ttotal: 4m 53s\tremaining: 30.8s\n",
            "905:\tlearn: 0.1072924\ttotal: 4m 54s\tremaining: 30.5s\n",
            "906:\tlearn: 0.1072680\ttotal: 4m 54s\tremaining: 30.2s\n",
            "907:\tlearn: 0.1072433\ttotal: 4m 54s\tremaining: 29.9s\n",
            "908:\tlearn: 0.1072127\ttotal: 4m 54s\tremaining: 29.5s\n",
            "909:\tlearn: 0.1071877\ttotal: 4m 55s\tremaining: 29.2s\n",
            "910:\tlearn: 0.1070911\ttotal: 4m 55s\tremaining: 28.9s\n",
            "911:\tlearn: 0.1070664\ttotal: 4m 55s\tremaining: 28.5s\n",
            "912:\tlearn: 0.1070419\ttotal: 4m 56s\tremaining: 28.2s\n",
            "913:\tlearn: 0.1070167\ttotal: 4m 56s\tremaining: 27.9s\n",
            "914:\tlearn: 0.1069470\ttotal: 4m 56s\tremaining: 27.6s\n",
            "915:\tlearn: 0.1069162\ttotal: 4m 57s\tremaining: 27.3s\n",
            "916:\tlearn: 0.1068915\ttotal: 4m 57s\tremaining: 27s\n",
            "917:\tlearn: 0.1068679\ttotal: 4m 58s\tremaining: 26.6s\n",
            "918:\tlearn: 0.1068433\ttotal: 4m 58s\tremaining: 26.3s\n",
            "919:\tlearn: 0.1068194\ttotal: 4m 59s\tremaining: 26s\n",
            "920:\tlearn: 0.1067955\ttotal: 4m 59s\tremaining: 25.7s\n",
            "921:\tlearn: 0.1067716\ttotal: 4m 59s\tremaining: 25.3s\n",
            "922:\tlearn: 0.1067473\ttotal: 4m 59s\tremaining: 25s\n",
            "923:\tlearn: 0.1067230\ttotal: 5m\tremaining: 24.7s\n",
            "924:\tlearn: 0.1066989\ttotal: 5m\tremaining: 24.4s\n",
            "925:\tlearn: 0.1066745\ttotal: 5m\tremaining: 24s\n",
            "926:\tlearn: 0.1066498\ttotal: 5m\tremaining: 23.7s\n",
            "927:\tlearn: 0.1066254\ttotal: 5m 1s\tremaining: 23.4s\n",
            "928:\tlearn: 0.1066015\ttotal: 5m 1s\tremaining: 23s\n",
            "929:\tlearn: 0.1065712\ttotal: 5m 1s\tremaining: 22.7s\n",
            "930:\tlearn: 0.1064919\ttotal: 5m 1s\tremaining: 22.4s\n",
            "931:\tlearn: 0.1064218\ttotal: 5m 2s\tremaining: 22.1s\n",
            "932:\tlearn: 0.1063656\ttotal: 5m 2s\tremaining: 21.7s\n",
            "933:\tlearn: 0.1063418\ttotal: 5m 2s\tremaining: 21.4s\n",
            "934:\tlearn: 0.1063176\ttotal: 5m 3s\tremaining: 21.1s\n",
            "935:\tlearn: 0.1062935\ttotal: 5m 3s\tremaining: 20.7s\n",
            "936:\tlearn: 0.1062629\ttotal: 5m 3s\tremaining: 20.4s\n",
            "937:\tlearn: 0.1062254\ttotal: 5m 3s\tremaining: 20.1s\n",
            "938:\tlearn: 0.1062019\ttotal: 5m 4s\tremaining: 19.8s\n",
            "939:\tlearn: 0.1061586\ttotal: 5m 4s\tremaining: 19.4s\n",
            "940:\tlearn: 0.1061351\ttotal: 5m 4s\tremaining: 19.1s\n",
            "941:\tlearn: 0.1061111\ttotal: 5m 4s\tremaining: 18.8s\n",
            "942:\tlearn: 0.1060875\ttotal: 5m 5s\tremaining: 18.4s\n",
            "943:\tlearn: 0.1060641\ttotal: 5m 5s\tremaining: 18.1s\n",
            "944:\tlearn: 0.1059941\ttotal: 5m 5s\tremaining: 17.8s\n",
            "945:\tlearn: 0.1059638\ttotal: 5m 5s\tremaining: 17.5s\n",
            "946:\tlearn: 0.1059351\ttotal: 5m 6s\tremaining: 17.1s\n",
            "947:\tlearn: 0.1058802\ttotal: 5m 6s\tremaining: 16.8s\n",
            "948:\tlearn: 0.1058560\ttotal: 5m 6s\tremaining: 16.5s\n",
            "949:\tlearn: 0.1058319\ttotal: 5m 7s\tremaining: 16.2s\n",
            "950:\tlearn: 0.1058098\ttotal: 5m 7s\tremaining: 15.8s\n",
            "951:\tlearn: 0.1057860\ttotal: 5m 7s\tremaining: 15.5s\n",
            "952:\tlearn: 0.1057619\ttotal: 5m 7s\tremaining: 15.2s\n",
            "953:\tlearn: 0.1057380\ttotal: 5m 8s\tremaining: 14.9s\n",
            "954:\tlearn: 0.1057159\ttotal: 5m 8s\tremaining: 14.5s\n",
            "955:\tlearn: 0.1056896\ttotal: 5m 8s\tremaining: 14.2s\n",
            "956:\tlearn: 0.1056660\ttotal: 5m 9s\tremaining: 13.9s\n",
            "957:\tlearn: 0.1056427\ttotal: 5m 9s\tremaining: 13.6s\n",
            "958:\tlearn: 0.1055890\ttotal: 5m 9s\tremaining: 13.2s\n",
            "959:\tlearn: 0.1055652\ttotal: 5m 10s\tremaining: 12.9s\n",
            "960:\tlearn: 0.1055414\ttotal: 5m 10s\tremaining: 12.6s\n",
            "961:\tlearn: 0.1054849\ttotal: 5m 11s\tremaining: 12.3s\n",
            "962:\tlearn: 0.1054618\ttotal: 5m 11s\tremaining: 12s\n",
            "963:\tlearn: 0.1054380\ttotal: 5m 11s\tremaining: 11.7s\n",
            "964:\tlearn: 0.1054151\ttotal: 5m 12s\tremaining: 11.3s\n",
            "965:\tlearn: 0.1053913\ttotal: 5m 12s\tremaining: 11s\n",
            "966:\tlearn: 0.1053678\ttotal: 5m 12s\tremaining: 10.7s\n",
            "967:\tlearn: 0.1053246\ttotal: 5m 13s\tremaining: 10.3s\n",
            "968:\tlearn: 0.1053009\ttotal: 5m 13s\tremaining: 10s\n",
            "969:\tlearn: 0.1052770\ttotal: 5m 13s\tremaining: 9.7s\n",
            "970:\tlearn: 0.1052534\ttotal: 5m 13s\tremaining: 9.37s\n",
            "971:\tlearn: 0.1052296\ttotal: 5m 14s\tremaining: 9.05s\n",
            "972:\tlearn: 0.1052060\ttotal: 5m 14s\tremaining: 8.72s\n",
            "973:\tlearn: 0.1051826\ttotal: 5m 14s\tremaining: 8.4s\n",
            "974:\tlearn: 0.1051591\ttotal: 5m 14s\tremaining: 8.07s\n",
            "975:\tlearn: 0.1051358\ttotal: 5m 15s\tremaining: 7.75s\n",
            "976:\tlearn: 0.1051132\ttotal: 5m 15s\tremaining: 7.43s\n",
            "977:\tlearn: 0.1050892\ttotal: 5m 15s\tremaining: 7.1s\n",
            "978:\tlearn: 0.1050416\ttotal: 5m 15s\tremaining: 6.78s\n",
            "979:\tlearn: 0.1049516\ttotal: 5m 16s\tremaining: 6.45s\n",
            "980:\tlearn: 0.1049285\ttotal: 5m 16s\tremaining: 6.13s\n",
            "981:\tlearn: 0.1049050\ttotal: 5m 16s\tremaining: 5.81s\n",
            "982:\tlearn: 0.1048813\ttotal: 5m 17s\tremaining: 5.48s\n",
            "983:\tlearn: 0.1048242\ttotal: 5m 17s\tremaining: 5.16s\n",
            "984:\tlearn: 0.1047687\ttotal: 5m 17s\tremaining: 4.84s\n",
            "985:\tlearn: 0.1047446\ttotal: 5m 17s\tremaining: 4.51s\n",
            "986:\tlearn: 0.1047070\ttotal: 5m 18s\tremaining: 4.19s\n",
            "987:\tlearn: 0.1046830\ttotal: 5m 18s\tremaining: 3.87s\n",
            "988:\tlearn: 0.1046358\ttotal: 5m 18s\tremaining: 3.54s\n",
            "989:\tlearn: 0.1046124\ttotal: 5m 18s\tremaining: 3.22s\n",
            "990:\tlearn: 0.1045834\ttotal: 5m 19s\tremaining: 2.9s\n",
            "991:\tlearn: 0.1045600\ttotal: 5m 19s\tremaining: 2.58s\n",
            "992:\tlearn: 0.1045366\ttotal: 5m 19s\tremaining: 2.25s\n",
            "993:\tlearn: 0.1045149\ttotal: 5m 20s\tremaining: 1.93s\n",
            "994:\tlearn: 0.1044864\ttotal: 5m 20s\tremaining: 1.61s\n",
            "995:\tlearn: 0.1043849\ttotal: 5m 20s\tremaining: 1.29s\n",
            "996:\tlearn: 0.1043299\ttotal: 5m 20s\tremaining: 965ms\n",
            "997:\tlearn: 0.1043061\ttotal: 5m 21s\tremaining: 643ms\n",
            "998:\tlearn: 0.1042838\ttotal: 5m 21s\tremaining: 322ms\n",
            "999:\tlearn: 0.1042604\ttotal: 5m 21s\tremaining: 0us\n"
          ]
        },
        {
          "output_type": "execute_result",
          "data": {
            "text/plain": [
              "<catboost.core.CatBoostClassifier at 0x7f34efbe2be0>"
            ]
          },
          "metadata": {},
          "execution_count": 205
        }
      ]
    },
    {
      "cell_type": "code",
      "source": [
        "predicts = cat.predict(vectorizer.transform(train_test['tweet']))\n",
        "print(classification_report(train_test['label'], predicts))"
      ],
      "metadata": {
        "colab": {
          "base_uri": "https://localhost:8080/"
        },
        "id": "JwzBX3yTLU-N",
        "outputId": "e8e4489d-8382-4d28-e865-be8850e48f67"
      },
      "execution_count": null,
      "outputs": [
        {
          "output_type": "stream",
          "name": "stdout",
          "text": [
            "              precision    recall  f1-score   support\n",
            "\n",
            "           0       0.96      0.99      0.98      5945\n",
            "           1       0.86      0.42      0.56       448\n",
            "\n",
            "    accuracy                           0.95      6393\n",
            "   macro avg       0.91      0.71      0.77      6393\n",
            "weighted avg       0.95      0.95      0.95      6393\n",
            "\n"
          ]
        }
      ]
    },
    {
      "cell_type": "code",
      "source": [
        "plot_roc_curve(cat, Y_test_labels)"
      ],
      "metadata": {
        "colab": {
          "base_uri": "https://localhost:8080/",
          "height": 463
        },
        "id": "kQ980EiHpMyc",
        "outputId": "9898baa4-2102-4d9e-ff02-911276e16217"
      },
      "execution_count": null,
      "outputs": [
        {
          "output_type": "display_data",
          "data": {
            "text/plain": [
              "<Figure size 640x480 with 1 Axes>"
            ],
            "image/png": "[encoded data removed]"
          },
          "metadata": {}
        }
      ]
    },
    {
      "cell_type": "code",
      "source": [
        "results.append({'model': 'CatBoostClassifier',\n",
        "                'auc': 0.92,\n",
        "                'data': None,\n",
        "                'f1_macro': 0.77,\n",
        "                'recall_1': 0.42,\n",
        "                'precision_1': 0.86})"
      ],
      "metadata": {
        "id": "O-fGEXh3ZbSD"
      },
      "execution_count": null,
      "outputs": []
    },
    {
      "cell_type": "markdown",
      "source": [
        "## 4.2 Tf-idf + drop_data_points"
      ],
      "metadata": {
        "id": "iSvMMBTQh6BI"
      }
    },
    {
      "cell_type": "code",
      "source": [
        "train2 = train.copy(deep=True)"
      ],
      "metadata": {
        "id": "SmuTBLT6jFof"
      },
      "execution_count": null,
      "outputs": []
    },
    {
      "cell_type": "code",
      "source": [
        "train_train, train_test = train_test_split(train2,\n",
        "                                           test_size=0.2,\n",
        "                                           stratify=train2['label'],\n",
        "                                           random_state=42\n",
        "                                           )"
      ],
      "metadata": {
        "id": "wMPjUbyrh-gh"
      },
      "execution_count": null,
      "outputs": []
    },
    {
      "cell_type": "code",
      "source": [
        "train_train = drop_data_points(train_train, 80)"
      ],
      "metadata": {
        "id": "Mua6t4IFkYn-"
      },
      "execution_count": null,
      "outputs": []
    },
    {
      "cell_type": "code",
      "source": [
        "vectorizer = TfidfVectorizer(stop_words=stopWords[:20])\n",
        "vectorizer = vectorizer.fit(train['tweet'])"
      ],
      "metadata": {
        "colab": {
          "base_uri": "https://localhost:8080/"
        },
        "id": "khnzLwN1jCOC",
        "outputId": "82307e40-fdfa-4508-f3f4-39e32360516c"
      },
      "execution_count": null,
      "outputs": [
        {
          "output_type": "stream",
          "name": "stderr",
          "text": [
            "/usr/local/lib/python3.9/dist-packages/sklearn/feature_extraction/text.py:409: UserWarning: Your stop_words may be inconsistent with your preprocessing. Tokenizing the stop words generated tokens ['ll', 're', 've'] not in stop_words.\n",
            "  warnings.warn(\n"
          ]
        }
      ]
    },
    {
      "cell_type": "code",
      "source": [
        "X_train_vectors = vectorizer.transform(train_train['tweet'])\n",
        "Y_train_labels = train_train['label'].to_numpy()\n",
        "\n",
        "X_test_vectors = vectorizer.transform(train_test['tweet'])\n",
        "Y_test_labels = train_test['label'].to_numpy()"
      ],
      "metadata": {
        "id": "dPmGstJSi78D"
      },
      "execution_count": null,
      "outputs": []
    },
    {
      "cell_type": "code",
      "source": [
        "clf = MultinomialNB().fit(X_train_vectors, Y_train_labels)\n",
        "predicts = clf.predict(X_test_vectors)\n",
        "print(classification_report(Y_test_labels, predicts))\n",
        "plot_roc_curve(clf, Y_test_labels)"
      ],
      "metadata": {
        "colab": {
          "base_uri": "https://localhost:8080/",
          "height": 619
        },
        "id": "Jp9HG2UNqoRe",
        "outputId": "ccc4916b-d301-4e1e-82a5-eb4f7f2bf52c"
      },
      "execution_count": null,
      "outputs": [
        {
          "output_type": "stream",
          "name": "stdout",
          "text": [
            "              precision    recall  f1-score   support\n",
            "\n",
            "           0       0.96      0.99      0.98      5945\n",
            "           1       0.83      0.52      0.64       448\n",
            "\n",
            "    accuracy                           0.96      6393\n",
            "   macro avg       0.90      0.75      0.81      6393\n",
            "weighted avg       0.96      0.96      0.95      6393\n",
            "\n"
          ]
        },
        {
          "output_type": "display_data",
          "data": {
            "text/plain": [
              "<Figure size 640x480 with 1 Axes>"
            ],
            "image/png": "[encoded data removed]"
          },
          "metadata": {}
        }
      ]
    },
    {
      "cell_type": "code",
      "source": [
        "results.append({'model': 'MultinomialNB',\n",
        "                'auc': 0.94,\n",
        "                'data': 'dropped points',\n",
        "                'f1_macro': 0.81,\n",
        "                'recall_1': 0.52,\n",
        "                'precision_1': 0.83})"
      ],
      "metadata": {
        "id": "OvRu3oJOZsYL"
      },
      "execution_count": null,
      "outputs": []
    },
    {
      "cell_type": "code",
      "source": [
        "cat = CatBoostClassifier(iterations=500,\n",
        "                         devices='0:1',\n",
        "                         )\n",
        "cat.fit(X_train_vectors, train_train['label'])"
      ],
      "metadata": {
        "colab": {
          "base_uri": "https://localhost:8080/"
        },
        "id": "zFJaCTfei9n9",
        "outputId": "47b099c4-c3a1-46df-bd0a-679c0693b7ea"
      },
      "execution_count": null,
      "outputs": [
        {
          "output_type": "stream",
          "name": "stdout",
          "text": [
            "Learning rate set to 0.03905\n",
            "0:\tlearn: 0.6823707\ttotal: 86.7ms\tremaining: 43.2s\n",
            "1:\tlearn: 0.6724197\ttotal: 160ms\tremaining: 39.8s\n",
            "2:\tlearn: 0.6636344\ttotal: 235ms\tremaining: 39s\n",
            "3:\tlearn: 0.6544742\ttotal: 332ms\tremaining: 41.2s\n",
            "4:\tlearn: 0.6463152\ttotal: 403ms\tremaining: 39.9s\n",
            "5:\tlearn: 0.6383801\ttotal: 480ms\tremaining: 39.5s\n",
            "6:\tlearn: 0.6319581\ttotal: 553ms\tremaining: 39s\n",
            "7:\tlearn: 0.6258637\ttotal: 639ms\tremaining: 39.3s\n",
            "8:\tlearn: 0.6184336\ttotal: 717ms\tremaining: 39.1s\n",
            "9:\tlearn: 0.6125145\ttotal: 793ms\tremaining: 38.9s\n",
            "10:\tlearn: 0.6078664\ttotal: 866ms\tremaining: 38.5s\n",
            "11:\tlearn: 0.6025668\ttotal: 942ms\tremaining: 38.3s\n",
            "12:\tlearn: 0.5957908\ttotal: 1.02s\tremaining: 38.4s\n",
            "13:\tlearn: 0.5911285\ttotal: 1.09s\tremaining: 38s\n",
            "14:\tlearn: 0.5858339\ttotal: 1.18s\tremaining: 38.1s\n",
            "15:\tlearn: 0.5809270\ttotal: 1.25s\tremaining: 37.9s\n",
            "16:\tlearn: 0.5765580\ttotal: 1.33s\tremaining: 37.9s\n",
            "17:\tlearn: 0.5729635\ttotal: 1.41s\tremaining: 37.8s\n",
            "18:\tlearn: 0.5691253\ttotal: 1.5s\tremaining: 37.9s\n",
            "19:\tlearn: 0.5652261\ttotal: 1.58s\tremaining: 38s\n",
            "20:\tlearn: 0.5624278\ttotal: 1.67s\tremaining: 38s\n",
            "21:\tlearn: 0.5588757\ttotal: 1.74s\tremaining: 37.9s\n",
            "22:\tlearn: 0.5560209\ttotal: 1.81s\tremaining: 37.6s\n",
            "23:\tlearn: 0.5528426\ttotal: 1.9s\tremaining: 37.6s\n",
            "24:\tlearn: 0.5499681\ttotal: 1.97s\tremaining: 37.5s\n",
            "25:\tlearn: 0.5471111\ttotal: 2.04s\tremaining: 37.3s\n",
            "26:\tlearn: 0.5443311\ttotal: 2.11s\tremaining: 37s\n",
            "27:\tlearn: 0.5420430\ttotal: 2.19s\tremaining: 36.9s\n",
            "28:\tlearn: 0.5391218\ttotal: 2.26s\tremaining: 36.7s\n",
            "29:\tlearn: 0.5371919\ttotal: 2.33s\tremaining: 36.6s\n",
            "30:\tlearn: 0.5340637\ttotal: 2.41s\tremaining: 36.4s\n",
            "31:\tlearn: 0.5314345\ttotal: 2.49s\tremaining: 36.4s\n",
            "32:\tlearn: 0.5291387\ttotal: 2.56s\tremaining: 36.2s\n",
            "33:\tlearn: 0.5264290\ttotal: 2.63s\tremaining: 36.1s\n",
            "34:\tlearn: 0.5243696\ttotal: 2.72s\tremaining: 36.1s\n",
            "35:\tlearn: 0.5222547\ttotal: 2.79s\tremaining: 36s\n",
            "36:\tlearn: 0.5203705\ttotal: 2.87s\tremaining: 35.9s\n",
            "37:\tlearn: 0.5183149\ttotal: 2.94s\tremaining: 35.8s\n",
            "38:\tlearn: 0.5163981\ttotal: 3.02s\tremaining: 35.7s\n",
            "39:\tlearn: 0.5147052\ttotal: 3.09s\tremaining: 35.6s\n",
            "40:\tlearn: 0.5131059\ttotal: 3.17s\tremaining: 35.4s\n",
            "41:\tlearn: 0.5110076\ttotal: 3.24s\tremaining: 35.3s\n",
            "42:\tlearn: 0.5093820\ttotal: 3.32s\tremaining: 35.2s\n",
            "43:\tlearn: 0.5076307\ttotal: 3.39s\tremaining: 35.1s\n",
            "44:\tlearn: 0.5061241\ttotal: 3.46s\tremaining: 35s\n",
            "45:\tlearn: 0.5044668\ttotal: 3.54s\tremaining: 34.9s\n",
            "46:\tlearn: 0.5028124\ttotal: 3.61s\tremaining: 34.8s\n",
            "47:\tlearn: 0.5010451\ttotal: 3.68s\tremaining: 34.6s\n",
            "48:\tlearn: 0.4996246\ttotal: 3.76s\tremaining: 34.6s\n",
            "49:\tlearn: 0.4983290\ttotal: 3.83s\tremaining: 34.5s\n",
            "50:\tlearn: 0.4971886\ttotal: 3.9s\tremaining: 34.4s\n",
            "51:\tlearn: 0.4958478\ttotal: 3.98s\tremaining: 34.3s\n",
            "52:\tlearn: 0.4942127\ttotal: 4.06s\tremaining: 34.2s\n",
            "53:\tlearn: 0.4933625\ttotal: 4.13s\tremaining: 34.1s\n",
            "54:\tlearn: 0.4918126\ttotal: 4.2s\tremaining: 34s\n",
            "55:\tlearn: 0.4906234\ttotal: 4.27s\tremaining: 33.9s\n",
            "56:\tlearn: 0.4890894\ttotal: 4.34s\tremaining: 33.7s\n",
            "57:\tlearn: 0.4880250\ttotal: 4.42s\tremaining: 33.7s\n",
            "58:\tlearn: 0.4869241\ttotal: 4.5s\tremaining: 33.6s\n",
            "59:\tlearn: 0.4855852\ttotal: 4.57s\tremaining: 33.5s\n",
            "60:\tlearn: 0.4840805\ttotal: 4.64s\tremaining: 33.4s\n",
            "61:\tlearn: 0.4827465\ttotal: 4.73s\tremaining: 33.4s\n",
            "62:\tlearn: 0.4817634\ttotal: 4.8s\tremaining: 33.3s\n",
            "63:\tlearn: 0.4806276\ttotal: 4.88s\tremaining: 33.2s\n",
            "64:\tlearn: 0.4788337\ttotal: 4.95s\tremaining: 33.2s\n",
            "65:\tlearn: 0.4774420\ttotal: 5.03s\tremaining: 33s\n",
            "66:\tlearn: 0.4764952\ttotal: 5.11s\tremaining: 33s\n",
            "67:\tlearn: 0.4753151\ttotal: 5.18s\tremaining: 32.9s\n",
            "68:\tlearn: 0.4738556\ttotal: 5.25s\tremaining: 32.8s\n",
            "69:\tlearn: 0.4727287\ttotal: 5.33s\tremaining: 32.7s\n",
            "70:\tlearn: 0.4718639\ttotal: 5.4s\tremaining: 32.6s\n",
            "71:\tlearn: 0.4706770\ttotal: 5.47s\tremaining: 32.5s\n",
            "72:\tlearn: 0.4698135\ttotal: 5.55s\tremaining: 32.5s\n",
            "73:\tlearn: 0.4683997\ttotal: 5.62s\tremaining: 32.4s\n",
            "74:\tlearn: 0.4676108\ttotal: 5.69s\tremaining: 32.2s\n",
            "75:\tlearn: 0.4664661\ttotal: 5.77s\tremaining: 32.2s\n",
            "76:\tlearn: 0.4656290\ttotal: 5.85s\tremaining: 32.1s\n",
            "77:\tlearn: 0.4648317\ttotal: 5.92s\tremaining: 32s\n",
            "78:\tlearn: 0.4639872\ttotal: 6s\tremaining: 32s\n",
            "79:\tlearn: 0.4633302\ttotal: 6.07s\tremaining: 31.9s\n",
            "80:\tlearn: 0.4626808\ttotal: 6.14s\tremaining: 31.8s\n",
            "81:\tlearn: 0.4616085\ttotal: 6.21s\tremaining: 31.7s\n",
            "82:\tlearn: 0.4610537\ttotal: 6.28s\tremaining: 31.6s\n",
            "83:\tlearn: 0.4601956\ttotal: 6.35s\tremaining: 31.5s\n",
            "84:\tlearn: 0.4594342\ttotal: 6.43s\tremaining: 31.4s\n",
            "85:\tlearn: 0.4585978\ttotal: 6.5s\tremaining: 31.3s\n",
            "86:\tlearn: 0.4577002\ttotal: 6.58s\tremaining: 31.2s\n",
            "87:\tlearn: 0.4568753\ttotal: 6.65s\tremaining: 31.1s\n",
            "88:\tlearn: 0.4557695\ttotal: 6.72s\tremaining: 31s\n",
            "89:\tlearn: 0.4548149\ttotal: 6.81s\tremaining: 31s\n",
            "90:\tlearn: 0.4539255\ttotal: 6.88s\tremaining: 30.9s\n",
            "91:\tlearn: 0.4530440\ttotal: 6.96s\tremaining: 30.9s\n",
            "92:\tlearn: 0.4522667\ttotal: 7.04s\tremaining: 30.8s\n",
            "93:\tlearn: 0.4514377\ttotal: 7.18s\tremaining: 31s\n",
            "94:\tlearn: 0.4505544\ttotal: 7.32s\tremaining: 31.2s\n",
            "95:\tlearn: 0.4497410\ttotal: 7.46s\tremaining: 31.4s\n",
            "96:\tlearn: 0.4487729\ttotal: 7.58s\tremaining: 31.5s\n",
            "97:\tlearn: 0.4481799\ttotal: 7.72s\tremaining: 31.7s\n",
            "98:\tlearn: 0.4475679\ttotal: 7.84s\tremaining: 31.8s\n",
            "99:\tlearn: 0.4469599\ttotal: 7.98s\tremaining: 31.9s\n",
            "100:\tlearn: 0.4462809\ttotal: 8.1s\tremaining: 32s\n",
            "101:\tlearn: 0.4455672\ttotal: 8.22s\tremaining: 32.1s\n",
            "102:\tlearn: 0.4447975\ttotal: 8.35s\tremaining: 32.2s\n",
            "103:\tlearn: 0.4442282\ttotal: 8.47s\tremaining: 32.3s\n",
            "104:\tlearn: 0.4435850\ttotal: 8.6s\tremaining: 32.3s\n",
            "105:\tlearn: 0.4429060\ttotal: 8.71s\tremaining: 32.4s\n",
            "106:\tlearn: 0.4424423\ttotal: 8.84s\tremaining: 32.5s\n",
            "107:\tlearn: 0.4417648\ttotal: 8.96s\tremaining: 32.5s\n",
            "108:\tlearn: 0.4410402\ttotal: 9.1s\tremaining: 32.6s\n",
            "109:\tlearn: 0.4404048\ttotal: 9.23s\tremaining: 32.7s\n",
            "110:\tlearn: 0.4396253\ttotal: 9.36s\tremaining: 32.8s\n",
            "111:\tlearn: 0.4391476\ttotal: 9.49s\tremaining: 32.9s\n",
            "112:\tlearn: 0.4386178\ttotal: 9.63s\tremaining: 33s\n",
            "113:\tlearn: 0.4380162\ttotal: 9.77s\tremaining: 33.1s\n",
            "114:\tlearn: 0.4373975\ttotal: 9.84s\tremaining: 32.9s\n",
            "115:\tlearn: 0.4369264\ttotal: 9.92s\tremaining: 32.8s\n",
            "116:\tlearn: 0.4361177\ttotal: 10s\tremaining: 32.7s\n",
            "117:\tlearn: 0.4353831\ttotal: 10.1s\tremaining: 32.6s\n",
            "118:\tlearn: 0.4348240\ttotal: 10.1s\tremaining: 32.5s\n",
            "119:\tlearn: 0.4341164\ttotal: 10.2s\tremaining: 32.3s\n",
            "120:\tlearn: 0.4334954\ttotal: 10.3s\tremaining: 32.2s\n",
            "121:\tlearn: 0.4329935\ttotal: 10.4s\tremaining: 32.1s\n",
            "122:\tlearn: 0.4324796\ttotal: 10.4s\tremaining: 32s\n",
            "123:\tlearn: 0.4319854\ttotal: 10.5s\tremaining: 31.8s\n",
            "124:\tlearn: 0.4311762\ttotal: 10.6s\tremaining: 31.7s\n",
            "125:\tlearn: 0.4307190\ttotal: 10.7s\tremaining: 31.6s\n",
            "126:\tlearn: 0.4300784\ttotal: 10.7s\tremaining: 31.5s\n",
            "127:\tlearn: 0.4295567\ttotal: 10.8s\tremaining: 31.4s\n",
            "128:\tlearn: 0.4287760\ttotal: 10.9s\tremaining: 31.3s\n",
            "129:\tlearn: 0.4282310\ttotal: 11s\tremaining: 31.2s\n",
            "130:\tlearn: 0.4274119\ttotal: 11s\tremaining: 31.1s\n",
            "131:\tlearn: 0.4271406\ttotal: 11.1s\tremaining: 31s\n",
            "132:\tlearn: 0.4266544\ttotal: 11.2s\tremaining: 30.8s\n",
            "133:\tlearn: 0.4261894\ttotal: 11.2s\tremaining: 30.7s\n",
            "134:\tlearn: 0.4255708\ttotal: 11.3s\tremaining: 30.6s\n",
            "135:\tlearn: 0.4251473\ttotal: 11.4s\tremaining: 30.5s\n",
            "136:\tlearn: 0.4245018\ttotal: 11.5s\tremaining: 30.4s\n",
            "137:\tlearn: 0.4239691\ttotal: 11.5s\tremaining: 30.3s\n",
            "138:\tlearn: 0.4234836\ttotal: 11.6s\tremaining: 30.2s\n",
            "139:\tlearn: 0.4231406\ttotal: 11.7s\tremaining: 30.1s\n",
            "140:\tlearn: 0.4225321\ttotal: 11.8s\tremaining: 30s\n",
            "141:\tlearn: 0.4218464\ttotal: 11.8s\tremaining: 29.9s\n",
            "142:\tlearn: 0.4212631\ttotal: 11.9s\tremaining: 29.8s\n",
            "143:\tlearn: 0.4202325\ttotal: 12s\tremaining: 29.7s\n",
            "144:\tlearn: 0.4196535\ttotal: 12.1s\tremaining: 29.6s\n",
            "145:\tlearn: 0.4189238\ttotal: 12.2s\tremaining: 29.5s\n",
            "146:\tlearn: 0.4184574\ttotal: 12.2s\tremaining: 29.4s\n",
            "147:\tlearn: 0.4179249\ttotal: 12.3s\tremaining: 29.2s\n",
            "148:\tlearn: 0.4174384\ttotal: 12.4s\tremaining: 29.1s\n",
            "149:\tlearn: 0.4169362\ttotal: 12.4s\tremaining: 29s\n",
            "150:\tlearn: 0.4163245\ttotal: 12.5s\tremaining: 28.9s\n",
            "151:\tlearn: 0.4159386\ttotal: 12.6s\tremaining: 28.8s\n",
            "152:\tlearn: 0.4154040\ttotal: 12.7s\tremaining: 28.7s\n",
            "153:\tlearn: 0.4148302\ttotal: 12.7s\tremaining: 28.6s\n",
            "154:\tlearn: 0.4141468\ttotal: 12.8s\tremaining: 28.5s\n",
            "155:\tlearn: 0.4135794\ttotal: 12.9s\tremaining: 28.4s\n",
            "156:\tlearn: 0.4131193\ttotal: 13s\tremaining: 28.3s\n",
            "157:\tlearn: 0.4128246\ttotal: 13s\tremaining: 28.2s\n",
            "158:\tlearn: 0.4123472\ttotal: 13.1s\tremaining: 28.1s\n",
            "159:\tlearn: 0.4116895\ttotal: 13.2s\tremaining: 28s\n",
            "160:\tlearn: 0.4113290\ttotal: 13.3s\tremaining: 27.9s\n",
            "161:\tlearn: 0.4108917\ttotal: 13.3s\tremaining: 27.8s\n",
            "162:\tlearn: 0.4104338\ttotal: 13.4s\tremaining: 27.7s\n",
            "163:\tlearn: 0.4098391\ttotal: 13.5s\tremaining: 27.6s\n",
            "164:\tlearn: 0.4094352\ttotal: 13.6s\tremaining: 27.5s\n",
            "165:\tlearn: 0.4088439\ttotal: 13.6s\tremaining: 27.4s\n",
            "166:\tlearn: 0.4082684\ttotal: 13.7s\tremaining: 27.3s\n",
            "167:\tlearn: 0.4077211\ttotal: 13.8s\tremaining: 27.2s\n",
            "168:\tlearn: 0.4072400\ttotal: 13.9s\tremaining: 27.1s\n",
            "169:\tlearn: 0.4068399\ttotal: 13.9s\tremaining: 27.1s\n",
            "170:\tlearn: 0.4064755\ttotal: 14s\tremaining: 27s\n",
            "171:\tlearn: 0.4058940\ttotal: 14.1s\tremaining: 26.9s\n",
            "172:\tlearn: 0.4054108\ttotal: 14.2s\tremaining: 26.8s\n",
            "173:\tlearn: 0.4048736\ttotal: 14.2s\tremaining: 26.7s\n",
            "174:\tlearn: 0.4043621\ttotal: 14.3s\tremaining: 26.6s\n",
            "175:\tlearn: 0.4036960\ttotal: 14.4s\tremaining: 26.5s\n",
            "176:\tlearn: 0.4032414\ttotal: 14.5s\tremaining: 26.4s\n",
            "177:\tlearn: 0.4028049\ttotal: 14.5s\tremaining: 26.3s\n",
            "178:\tlearn: 0.4021575\ttotal: 14.6s\tremaining: 26.2s\n",
            "179:\tlearn: 0.4016492\ttotal: 14.7s\tremaining: 26.1s\n",
            "180:\tlearn: 0.4013287\ttotal: 14.7s\tremaining: 26s\n",
            "181:\tlearn: 0.4008162\ttotal: 14.8s\tremaining: 25.9s\n",
            "182:\tlearn: 0.4002028\ttotal: 14.9s\tremaining: 25.8s\n",
            "183:\tlearn: 0.3997769\ttotal: 15s\tremaining: 25.7s\n",
            "184:\tlearn: 0.3991381\ttotal: 15s\tremaining: 25.6s\n",
            "185:\tlearn: 0.3986957\ttotal: 15.1s\tremaining: 25.5s\n",
            "186:\tlearn: 0.3981781\ttotal: 15.2s\tremaining: 25.4s\n",
            "187:\tlearn: 0.3976139\ttotal: 15.3s\tremaining: 25.3s\n",
            "188:\tlearn: 0.3970655\ttotal: 15.3s\tremaining: 25.3s\n",
            "189:\tlearn: 0.3965904\ttotal: 15.4s\tremaining: 25.2s\n",
            "190:\tlearn: 0.3962147\ttotal: 15.5s\tremaining: 25.1s\n",
            "191:\tlearn: 0.3958929\ttotal: 15.6s\tremaining: 25s\n",
            "192:\tlearn: 0.3954513\ttotal: 15.6s\tremaining: 24.9s\n",
            "193:\tlearn: 0.3951087\ttotal: 15.7s\tremaining: 24.8s\n",
            "194:\tlearn: 0.3946324\ttotal: 15.8s\tremaining: 24.7s\n",
            "195:\tlearn: 0.3941180\ttotal: 15.9s\tremaining: 24.6s\n",
            "196:\tlearn: 0.3936723\ttotal: 15.9s\tremaining: 24.5s\n",
            "197:\tlearn: 0.3932397\ttotal: 16s\tremaining: 24.4s\n",
            "198:\tlearn: 0.3927581\ttotal: 16.1s\tremaining: 24.4s\n",
            "199:\tlearn: 0.3923065\ttotal: 16.2s\tremaining: 24.3s\n",
            "200:\tlearn: 0.3919024\ttotal: 16.2s\tremaining: 24.2s\n",
            "201:\tlearn: 0.3914936\ttotal: 16.3s\tremaining: 24.1s\n",
            "202:\tlearn: 0.3909561\ttotal: 16.4s\tremaining: 24s\n",
            "203:\tlearn: 0.3906221\ttotal: 16.5s\tremaining: 23.9s\n",
            "204:\tlearn: 0.3901419\ttotal: 16.6s\tremaining: 23.8s\n",
            "205:\tlearn: 0.3896652\ttotal: 16.6s\tremaining: 23.7s\n",
            "206:\tlearn: 0.3892150\ttotal: 16.7s\tremaining: 23.6s\n",
            "207:\tlearn: 0.3887114\ttotal: 16.8s\tremaining: 23.5s\n",
            "208:\tlearn: 0.3883170\ttotal: 16.8s\tremaining: 23.5s\n",
            "209:\tlearn: 0.3879438\ttotal: 16.9s\tremaining: 23.4s\n",
            "210:\tlearn: 0.3875550\ttotal: 17s\tremaining: 23.3s\n",
            "211:\tlearn: 0.3870920\ttotal: 17.1s\tremaining: 23.2s\n",
            "212:\tlearn: 0.3863549\ttotal: 17.2s\tremaining: 23.1s\n",
            "213:\tlearn: 0.3858913\ttotal: 17.2s\tremaining: 23s\n",
            "214:\tlearn: 0.3854968\ttotal: 17.3s\tremaining: 22.9s\n",
            "215:\tlearn: 0.3850818\ttotal: 17.4s\tremaining: 22.9s\n",
            "216:\tlearn: 0.3846845\ttotal: 17.5s\tremaining: 22.8s\n",
            "217:\tlearn: 0.3842375\ttotal: 17.5s\tremaining: 22.7s\n",
            "218:\tlearn: 0.3837790\ttotal: 17.6s\tremaining: 22.6s\n",
            "219:\tlearn: 0.3833341\ttotal: 17.7s\tremaining: 22.5s\n",
            "220:\tlearn: 0.3828681\ttotal: 17.8s\tremaining: 22.4s\n",
            "221:\tlearn: 0.3824562\ttotal: 17.8s\tremaining: 22.3s\n",
            "222:\tlearn: 0.3818422\ttotal: 17.9s\tremaining: 22.2s\n",
            "223:\tlearn: 0.3813969\ttotal: 18s\tremaining: 22.2s\n",
            "224:\tlearn: 0.3810229\ttotal: 18.1s\tremaining: 22.1s\n",
            "225:\tlearn: 0.3806068\ttotal: 18.1s\tremaining: 22s\n",
            "226:\tlearn: 0.3800716\ttotal: 18.2s\tremaining: 21.9s\n",
            "227:\tlearn: 0.3796590\ttotal: 18.3s\tremaining: 21.8s\n",
            "228:\tlearn: 0.3786979\ttotal: 18.4s\tremaining: 21.7s\n",
            "229:\tlearn: 0.3782502\ttotal: 18.4s\tremaining: 21.6s\n",
            "230:\tlearn: 0.3778001\ttotal: 18.5s\tremaining: 21.5s\n",
            "231:\tlearn: 0.3772733\ttotal: 18.6s\tremaining: 21.5s\n",
            "232:\tlearn: 0.3769068\ttotal: 18.6s\tremaining: 21.4s\n",
            "233:\tlearn: 0.3764715\ttotal: 18.7s\tremaining: 21.3s\n",
            "234:\tlearn: 0.3760904\ttotal: 18.8s\tremaining: 21.2s\n",
            "235:\tlearn: 0.3756072\ttotal: 18.9s\tremaining: 21.1s\n",
            "236:\tlearn: 0.3751866\ttotal: 19s\tremaining: 21s\n",
            "237:\tlearn: 0.3748379\ttotal: 19s\tremaining: 20.9s\n",
            "238:\tlearn: 0.3742705\ttotal: 19.1s\tremaining: 20.9s\n",
            "239:\tlearn: 0.3738810\ttotal: 19.2s\tremaining: 20.8s\n",
            "240:\tlearn: 0.3735149\ttotal: 19.3s\tremaining: 20.7s\n",
            "241:\tlearn: 0.3729766\ttotal: 19.3s\tremaining: 20.6s\n",
            "242:\tlearn: 0.3725542\ttotal: 19.4s\tremaining: 20.5s\n",
            "243:\tlearn: 0.3720177\ttotal: 19.5s\tremaining: 20.4s\n",
            "244:\tlearn: 0.3716068\ttotal: 19.5s\tremaining: 20.3s\n",
            "245:\tlearn: 0.3712673\ttotal: 19.6s\tremaining: 20.3s\n",
            "246:\tlearn: 0.3709165\ttotal: 19.7s\tremaining: 20.2s\n",
            "247:\tlearn: 0.3704261\ttotal: 19.8s\tremaining: 20.2s\n",
            "248:\tlearn: 0.3699584\ttotal: 20s\tremaining: 20.1s\n",
            "249:\tlearn: 0.3695401\ttotal: 20.1s\tremaining: 20.1s\n",
            "250:\tlearn: 0.3691432\ttotal: 20.2s\tremaining: 20.1s\n",
            "251:\tlearn: 0.3687266\ttotal: 20.3s\tremaining: 20s\n",
            "252:\tlearn: 0.3684392\ttotal: 20.5s\tremaining: 20s\n",
            "253:\tlearn: 0.3680133\ttotal: 20.6s\tremaining: 19.9s\n",
            "254:\tlearn: 0.3676553\ttotal: 20.7s\tremaining: 19.9s\n",
            "255:\tlearn: 0.3672426\ttotal: 20.9s\tremaining: 19.9s\n",
            "256:\tlearn: 0.3667739\ttotal: 21s\tremaining: 19.8s\n",
            "257:\tlearn: 0.3664501\ttotal: 21.1s\tremaining: 19.8s\n",
            "258:\tlearn: 0.3661507\ttotal: 21.2s\tremaining: 19.8s\n",
            "259:\tlearn: 0.3656245\ttotal: 21.4s\tremaining: 19.7s\n",
            "260:\tlearn: 0.3651916\ttotal: 21.5s\tremaining: 19.7s\n",
            "261:\tlearn: 0.3648970\ttotal: 21.6s\tremaining: 19.6s\n",
            "262:\tlearn: 0.3645273\ttotal: 21.7s\tremaining: 19.6s\n",
            "263:\tlearn: 0.3640527\ttotal: 21.9s\tremaining: 19.5s\n",
            "264:\tlearn: 0.3634962\ttotal: 22s\tremaining: 19.5s\n",
            "265:\tlearn: 0.3630387\ttotal: 22.1s\tremaining: 19.5s\n",
            "266:\tlearn: 0.3625767\ttotal: 22.2s\tremaining: 19.4s\n",
            "267:\tlearn: 0.3622526\ttotal: 22.4s\tremaining: 19.4s\n",
            "268:\tlearn: 0.3618667\ttotal: 22.5s\tremaining: 19.3s\n",
            "269:\tlearn: 0.3616054\ttotal: 22.6s\tremaining: 19.3s\n",
            "270:\tlearn: 0.3610760\ttotal: 22.7s\tremaining: 19.2s\n",
            "271:\tlearn: 0.3603934\ttotal: 22.7s\tremaining: 19.1s\n",
            "272:\tlearn: 0.3600505\ttotal: 22.8s\tremaining: 19s\n",
            "273:\tlearn: 0.3596613\ttotal: 22.9s\tremaining: 18.9s\n",
            "274:\tlearn: 0.3592728\ttotal: 23s\tremaining: 18.8s\n",
            "275:\tlearn: 0.3589774\ttotal: 23.1s\tremaining: 18.7s\n",
            "276:\tlearn: 0.3585298\ttotal: 23.1s\tremaining: 18.6s\n",
            "277:\tlearn: 0.3582615\ttotal: 23.2s\tremaining: 18.5s\n",
            "278:\tlearn: 0.3577565\ttotal: 23.3s\tremaining: 18.4s\n",
            "279:\tlearn: 0.3574981\ttotal: 23.4s\tremaining: 18.4s\n",
            "280:\tlearn: 0.3571413\ttotal: 23.4s\tremaining: 18.3s\n",
            "281:\tlearn: 0.3566807\ttotal: 23.5s\tremaining: 18.2s\n",
            "282:\tlearn: 0.3561455\ttotal: 23.6s\tremaining: 18.1s\n",
            "283:\tlearn: 0.3557964\ttotal: 23.6s\tremaining: 18s\n",
            "284:\tlearn: 0.3553709\ttotal: 23.7s\tremaining: 17.9s\n",
            "285:\tlearn: 0.3550241\ttotal: 23.8s\tremaining: 17.8s\n",
            "286:\tlearn: 0.3546917\ttotal: 23.9s\tremaining: 17.7s\n",
            "287:\tlearn: 0.3544276\ttotal: 23.9s\tremaining: 17.6s\n",
            "288:\tlearn: 0.3540978\ttotal: 24s\tremaining: 17.5s\n",
            "289:\tlearn: 0.3537207\ttotal: 24.1s\tremaining: 17.4s\n",
            "290:\tlearn: 0.3534701\ttotal: 24.2s\tremaining: 17.3s\n",
            "291:\tlearn: 0.3529871\ttotal: 24.2s\tremaining: 17.3s\n",
            "292:\tlearn: 0.3527845\ttotal: 24.3s\tremaining: 17.2s\n",
            "293:\tlearn: 0.3524173\ttotal: 24.4s\tremaining: 17.1s\n",
            "294:\tlearn: 0.3520782\ttotal: 24.5s\tremaining: 17s\n",
            "295:\tlearn: 0.3516376\ttotal: 24.5s\tremaining: 16.9s\n",
            "296:\tlearn: 0.3511181\ttotal: 24.6s\tremaining: 16.8s\n",
            "297:\tlearn: 0.3505634\ttotal: 24.7s\tremaining: 16.7s\n",
            "298:\tlearn: 0.3502133\ttotal: 24.7s\tremaining: 16.6s\n",
            "299:\tlearn: 0.3496429\ttotal: 24.8s\tremaining: 16.5s\n",
            "300:\tlearn: 0.3494183\ttotal: 24.9s\tremaining: 16.5s\n",
            "301:\tlearn: 0.3490343\ttotal: 25s\tremaining: 16.4s\n",
            "302:\tlearn: 0.3488443\ttotal: 25.1s\tremaining: 16.3s\n",
            "303:\tlearn: 0.3485735\ttotal: 25.1s\tremaining: 16.2s\n",
            "304:\tlearn: 0.3478795\ttotal: 25.2s\tremaining: 16.1s\n",
            "305:\tlearn: 0.3473677\ttotal: 25.3s\tremaining: 16s\n",
            "306:\tlearn: 0.3469238\ttotal: 25.4s\tremaining: 15.9s\n",
            "307:\tlearn: 0.3466057\ttotal: 25.4s\tremaining: 15.9s\n",
            "308:\tlearn: 0.3460752\ttotal: 25.5s\tremaining: 15.8s\n",
            "309:\tlearn: 0.3457256\ttotal: 25.6s\tremaining: 15.7s\n",
            "310:\tlearn: 0.3454420\ttotal: 25.6s\tremaining: 15.6s\n",
            "311:\tlearn: 0.3452452\ttotal: 25.7s\tremaining: 15.5s\n",
            "312:\tlearn: 0.3447524\ttotal: 25.8s\tremaining: 15.4s\n",
            "313:\tlearn: 0.3443821\ttotal: 25.9s\tremaining: 15.3s\n",
            "314:\tlearn: 0.3438375\ttotal: 25.9s\tremaining: 15.2s\n",
            "315:\tlearn: 0.3434529\ttotal: 26s\tremaining: 15.1s\n",
            "316:\tlearn: 0.3429381\ttotal: 26.1s\tremaining: 15.1s\n",
            "317:\tlearn: 0.3422878\ttotal: 26.2s\tremaining: 15s\n",
            "318:\tlearn: 0.3419366\ttotal: 26.2s\tremaining: 14.9s\n",
            "319:\tlearn: 0.3415319\ttotal: 26.3s\tremaining: 14.8s\n",
            "320:\tlearn: 0.3412728\ttotal: 26.4s\tremaining: 14.7s\n",
            "321:\tlearn: 0.3410451\ttotal: 26.5s\tremaining: 14.6s\n",
            "322:\tlearn: 0.3406332\ttotal: 26.5s\tremaining: 14.5s\n",
            "323:\tlearn: 0.3404520\ttotal: 26.6s\tremaining: 14.5s\n",
            "324:\tlearn: 0.3401749\ttotal: 26.7s\tremaining: 14.4s\n",
            "325:\tlearn: 0.3399792\ttotal: 26.8s\tremaining: 14.3s\n",
            "326:\tlearn: 0.3393971\ttotal: 26.8s\tremaining: 14.2s\n",
            "327:\tlearn: 0.3392262\ttotal: 26.9s\tremaining: 14.1s\n",
            "328:\tlearn: 0.3386478\ttotal: 27s\tremaining: 14s\n",
            "329:\tlearn: 0.3383606\ttotal: 27.1s\tremaining: 13.9s\n",
            "330:\tlearn: 0.3379397\ttotal: 27.2s\tremaining: 13.9s\n",
            "331:\tlearn: 0.3376724\ttotal: 27.2s\tremaining: 13.8s\n",
            "332:\tlearn: 0.3372432\ttotal: 27.3s\tremaining: 13.7s\n",
            "333:\tlearn: 0.3368864\ttotal: 27.4s\tremaining: 13.6s\n",
            "334:\tlearn: 0.3364835\ttotal: 27.5s\tremaining: 13.5s\n",
            "335:\tlearn: 0.3361549\ttotal: 27.5s\tremaining: 13.4s\n",
            "336:\tlearn: 0.3356840\ttotal: 27.6s\tremaining: 13.4s\n",
            "337:\tlearn: 0.3350786\ttotal: 27.7s\tremaining: 13.3s\n",
            "338:\tlearn: 0.3346715\ttotal: 27.8s\tremaining: 13.2s\n",
            "339:\tlearn: 0.3344305\ttotal: 27.8s\tremaining: 13.1s\n",
            "340:\tlearn: 0.3338827\ttotal: 27.9s\tremaining: 13s\n",
            "341:\tlearn: 0.3333867\ttotal: 28s\tremaining: 12.9s\n",
            "342:\tlearn: 0.3330488\ttotal: 28.1s\tremaining: 12.8s\n",
            "343:\tlearn: 0.3328410\ttotal: 28.1s\tremaining: 12.8s\n",
            "344:\tlearn: 0.3325785\ttotal: 28.2s\tremaining: 12.7s\n",
            "345:\tlearn: 0.3322112\ttotal: 28.3s\tremaining: 12.6s\n",
            "346:\tlearn: 0.3320021\ttotal: 28.4s\tremaining: 12.5s\n",
            "347:\tlearn: 0.3314081\ttotal: 28.4s\tremaining: 12.4s\n",
            "348:\tlearn: 0.3312428\ttotal: 28.5s\tremaining: 12.3s\n",
            "349:\tlearn: 0.3308487\ttotal: 28.6s\tremaining: 12.2s\n",
            "350:\tlearn: 0.3305853\ttotal: 28.6s\tremaining: 12.2s\n",
            "351:\tlearn: 0.3301588\ttotal: 28.7s\tremaining: 12.1s\n",
            "352:\tlearn: 0.3300096\ttotal: 28.8s\tremaining: 12s\n",
            "353:\tlearn: 0.3298288\ttotal: 28.9s\tremaining: 11.9s\n",
            "354:\tlearn: 0.3295411\ttotal: 28.9s\tremaining: 11.8s\n",
            "355:\tlearn: 0.3292786\ttotal: 29s\tremaining: 11.7s\n",
            "356:\tlearn: 0.3289830\ttotal: 29.1s\tremaining: 11.7s\n",
            "357:\tlearn: 0.3287236\ttotal: 29.2s\tremaining: 11.6s\n",
            "358:\tlearn: 0.3284304\ttotal: 29.2s\tremaining: 11.5s\n",
            "359:\tlearn: 0.3279724\ttotal: 29.3s\tremaining: 11.4s\n",
            "360:\tlearn: 0.3275927\ttotal: 29.4s\tremaining: 11.3s\n",
            "361:\tlearn: 0.3274296\ttotal: 29.5s\tremaining: 11.2s\n",
            "362:\tlearn: 0.3270467\ttotal: 29.6s\tremaining: 11.2s\n",
            "363:\tlearn: 0.3266865\ttotal: 29.6s\tremaining: 11.1s\n",
            "364:\tlearn: 0.3264173\ttotal: 29.7s\tremaining: 11s\n",
            "365:\tlearn: 0.3262646\ttotal: 29.8s\tremaining: 10.9s\n",
            "366:\tlearn: 0.3258618\ttotal: 29.8s\tremaining: 10.8s\n",
            "367:\tlearn: 0.3256657\ttotal: 29.9s\tremaining: 10.7s\n",
            "368:\tlearn: 0.3252623\ttotal: 30s\tremaining: 10.6s\n",
            "369:\tlearn: 0.3248236\ttotal: 30.1s\tremaining: 10.6s\n",
            "370:\tlearn: 0.3244851\ttotal: 30.1s\tremaining: 10.5s\n",
            "371:\tlearn: 0.3242124\ttotal: 30.2s\tremaining: 10.4s\n",
            "372:\tlearn: 0.3240573\ttotal: 30.3s\tremaining: 10.3s\n",
            "373:\tlearn: 0.3236955\ttotal: 30.4s\tremaining: 10.2s\n",
            "374:\tlearn: 0.3232861\ttotal: 30.5s\tremaining: 10.2s\n",
            "375:\tlearn: 0.3228815\ttotal: 30.5s\tremaining: 10.1s\n",
            "376:\tlearn: 0.3226129\ttotal: 30.6s\tremaining: 9.99s\n",
            "377:\tlearn: 0.3224527\ttotal: 30.7s\tremaining: 9.9s\n",
            "378:\tlearn: 0.3222240\ttotal: 30.8s\tremaining: 9.82s\n",
            "379:\tlearn: 0.3217926\ttotal: 30.8s\tremaining: 9.74s\n",
            "380:\tlearn: 0.3215235\ttotal: 30.9s\tremaining: 9.65s\n",
            "381:\tlearn: 0.3212511\ttotal: 31s\tremaining: 9.57s\n",
            "382:\tlearn: 0.3210640\ttotal: 31.1s\tremaining: 9.49s\n",
            "383:\tlearn: 0.3209387\ttotal: 31.1s\tremaining: 9.41s\n",
            "384:\tlearn: 0.3207586\ttotal: 31.2s\tremaining: 9.32s\n",
            "385:\tlearn: 0.3203911\ttotal: 31.3s\tremaining: 9.24s\n",
            "386:\tlearn: 0.3201863\ttotal: 31.4s\tremaining: 9.16s\n",
            "387:\tlearn: 0.3198790\ttotal: 31.4s\tremaining: 9.08s\n",
            "388:\tlearn: 0.3195987\ttotal: 31.5s\tremaining: 8.99s\n",
            "389:\tlearn: 0.3190544\ttotal: 31.6s\tremaining: 8.91s\n",
            "390:\tlearn: 0.3187175\ttotal: 31.7s\tremaining: 8.83s\n",
            "391:\tlearn: 0.3184992\ttotal: 31.7s\tremaining: 8.74s\n",
            "392:\tlearn: 0.3183605\ttotal: 31.8s\tremaining: 8.66s\n",
            "393:\tlearn: 0.3181223\ttotal: 31.9s\tremaining: 8.58s\n",
            "394:\tlearn: 0.3177390\ttotal: 32s\tremaining: 8.49s\n",
            "395:\tlearn: 0.3172250\ttotal: 32s\tremaining: 8.41s\n",
            "396:\tlearn: 0.3169265\ttotal: 32.1s\tremaining: 8.33s\n",
            "397:\tlearn: 0.3165177\ttotal: 32.2s\tremaining: 8.25s\n",
            "398:\tlearn: 0.3163833\ttotal: 32.3s\tremaining: 8.16s\n",
            "399:\tlearn: 0.3161239\ttotal: 32.3s\tremaining: 8.08s\n",
            "400:\tlearn: 0.3158331\ttotal: 32.4s\tremaining: 8s\n",
            "401:\tlearn: 0.3154321\ttotal: 32.5s\tremaining: 7.92s\n",
            "402:\tlearn: 0.3152604\ttotal: 32.6s\tremaining: 7.85s\n",
            "403:\tlearn: 0.3150830\ttotal: 32.7s\tremaining: 7.78s\n",
            "404:\tlearn: 0.3144883\ttotal: 32.9s\tremaining: 7.71s\n",
            "405:\tlearn: 0.3142275\ttotal: 33s\tremaining: 7.64s\n",
            "406:\tlearn: 0.3140811\ttotal: 33.1s\tremaining: 7.56s\n",
            "407:\tlearn: 0.3138454\ttotal: 33.2s\tremaining: 7.49s\n",
            "408:\tlearn: 0.3137047\ttotal: 33.3s\tremaining: 7.42s\n",
            "409:\tlearn: 0.3132980\ttotal: 33.5s\tremaining: 7.35s\n",
            "410:\tlearn: 0.3130588\ttotal: 33.6s\tremaining: 7.28s\n",
            "411:\tlearn: 0.3127485\ttotal: 33.7s\tremaining: 7.21s\n",
            "412:\tlearn: 0.3123870\ttotal: 33.9s\tremaining: 7.14s\n",
            "413:\tlearn: 0.3122602\ttotal: 34s\tremaining: 7.07s\n",
            "414:\tlearn: 0.3118182\ttotal: 34.1s\tremaining: 6.99s\n",
            "415:\tlearn: 0.3116271\ttotal: 34.3s\tremaining: 6.92s\n",
            "416:\tlearn: 0.3114251\ttotal: 34.4s\tremaining: 6.84s\n",
            "417:\tlearn: 0.3109035\ttotal: 34.5s\tremaining: 6.77s\n",
            "418:\tlearn: 0.3106319\ttotal: 34.6s\tremaining: 6.69s\n",
            "419:\tlearn: 0.3102769\ttotal: 34.7s\tremaining: 6.62s\n",
            "420:\tlearn: 0.3098578\ttotal: 34.9s\tremaining: 6.54s\n",
            "421:\tlearn: 0.3094914\ttotal: 35s\tremaining: 6.47s\n",
            "422:\tlearn: 0.3092618\ttotal: 35.1s\tremaining: 6.4s\n",
            "423:\tlearn: 0.3090964\ttotal: 35.3s\tremaining: 6.32s\n",
            "424:\tlearn: 0.3089593\ttotal: 35.4s\tremaining: 6.25s\n",
            "425:\tlearn: 0.3088157\ttotal: 35.5s\tremaining: 6.16s\n",
            "426:\tlearn: 0.3085004\ttotal: 35.5s\tremaining: 6.08s\n",
            "427:\tlearn: 0.3081190\ttotal: 35.6s\tremaining: 5.99s\n",
            "428:\tlearn: 0.3076731\ttotal: 35.7s\tremaining: 5.91s\n",
            "429:\tlearn: 0.3075275\ttotal: 35.8s\tremaining: 5.82s\n",
            "430:\tlearn: 0.3073483\ttotal: 35.8s\tremaining: 5.74s\n",
            "431:\tlearn: 0.3071332\ttotal: 35.9s\tremaining: 5.65s\n",
            "432:\tlearn: 0.3070126\ttotal: 36s\tremaining: 5.57s\n",
            "433:\tlearn: 0.3067945\ttotal: 36.1s\tremaining: 5.49s\n",
            "434:\tlearn: 0.3064996\ttotal: 36.1s\tremaining: 5.4s\n",
            "435:\tlearn: 0.3061535\ttotal: 36.2s\tremaining: 5.32s\n",
            "436:\tlearn: 0.3059742\ttotal: 36.3s\tremaining: 5.23s\n",
            "437:\tlearn: 0.3058126\ttotal: 36.4s\tremaining: 5.15s\n",
            "438:\tlearn: 0.3056796\ttotal: 36.4s\tremaining: 5.06s\n",
            "439:\tlearn: 0.3054388\ttotal: 36.5s\tremaining: 4.98s\n",
            "440:\tlearn: 0.3053148\ttotal: 36.6s\tremaining: 4.89s\n",
            "441:\tlearn: 0.3050211\ttotal: 36.7s\tremaining: 4.81s\n",
            "442:\tlearn: 0.3048246\ttotal: 36.7s\tremaining: 4.73s\n",
            "443:\tlearn: 0.3043439\ttotal: 36.8s\tremaining: 4.64s\n",
            "444:\tlearn: 0.3041159\ttotal: 36.9s\tremaining: 4.56s\n",
            "445:\tlearn: 0.3039835\ttotal: 37s\tremaining: 4.48s\n",
            "446:\tlearn: 0.3034634\ttotal: 37s\tremaining: 4.39s\n",
            "447:\tlearn: 0.3030839\ttotal: 37.1s\tremaining: 4.31s\n",
            "448:\tlearn: 0.3029348\ttotal: 37.2s\tremaining: 4.22s\n",
            "449:\tlearn: 0.3025777\ttotal: 37.3s\tremaining: 4.14s\n",
            "450:\tlearn: 0.3022541\ttotal: 37.3s\tremaining: 4.06s\n",
            "451:\tlearn: 0.3019626\ttotal: 37.4s\tremaining: 3.97s\n",
            "452:\tlearn: 0.3016292\ttotal: 37.5s\tremaining: 3.89s\n",
            "453:\tlearn: 0.3012692\ttotal: 37.6s\tremaining: 3.81s\n",
            "454:\tlearn: 0.3010172\ttotal: 37.6s\tremaining: 3.72s\n",
            "455:\tlearn: 0.3005886\ttotal: 37.7s\tremaining: 3.64s\n",
            "456:\tlearn: 0.3003486\ttotal: 37.8s\tremaining: 3.56s\n",
            "457:\tlearn: 0.3001080\ttotal: 37.9s\tremaining: 3.47s\n",
            "458:\tlearn: 0.2999780\ttotal: 37.9s\tremaining: 3.39s\n",
            "459:\tlearn: 0.2998928\ttotal: 38s\tremaining: 3.31s\n",
            "460:\tlearn: 0.2997525\ttotal: 38.1s\tremaining: 3.22s\n",
            "461:\tlearn: 0.2996166\ttotal: 38.2s\tremaining: 3.14s\n",
            "462:\tlearn: 0.2994517\ttotal: 38.2s\tremaining: 3.06s\n",
            "463:\tlearn: 0.2993684\ttotal: 38.3s\tremaining: 2.97s\n",
            "464:\tlearn: 0.2991558\ttotal: 38.4s\tremaining: 2.89s\n",
            "465:\tlearn: 0.2989701\ttotal: 38.5s\tremaining: 2.81s\n",
            "466:\tlearn: 0.2986300\ttotal: 38.5s\tremaining: 2.72s\n",
            "467:\tlearn: 0.2985484\ttotal: 38.6s\tremaining: 2.64s\n",
            "468:\tlearn: 0.2983277\ttotal: 38.7s\tremaining: 2.56s\n",
            "469:\tlearn: 0.2982108\ttotal: 38.8s\tremaining: 2.47s\n",
            "470:\tlearn: 0.2978502\ttotal: 38.8s\tremaining: 2.39s\n",
            "471:\tlearn: 0.2975460\ttotal: 38.9s\tremaining: 2.31s\n",
            "472:\tlearn: 0.2972915\ttotal: 39s\tremaining: 2.23s\n",
            "473:\tlearn: 0.2971403\ttotal: 39.1s\tremaining: 2.14s\n",
            "474:\tlearn: 0.2970035\ttotal: 39.1s\tremaining: 2.06s\n",
            "475:\tlearn: 0.2968172\ttotal: 39.2s\tremaining: 1.98s\n",
            "476:\tlearn: 0.2966964\ttotal: 39.3s\tremaining: 1.89s\n",
            "477:\tlearn: 0.2965754\ttotal: 39.4s\tremaining: 1.81s\n",
            "478:\tlearn: 0.2962233\ttotal: 39.4s\tremaining: 1.73s\n",
            "479:\tlearn: 0.2959274\ttotal: 39.5s\tremaining: 1.65s\n",
            "480:\tlearn: 0.2958033\ttotal: 39.6s\tremaining: 1.56s\n",
            "481:\tlearn: 0.2954786\ttotal: 39.7s\tremaining: 1.48s\n",
            "482:\tlearn: 0.2952247\ttotal: 39.7s\tremaining: 1.4s\n",
            "483:\tlearn: 0.2950653\ttotal: 39.8s\tremaining: 1.31s\n",
            "484:\tlearn: 0.2949389\ttotal: 39.9s\tremaining: 1.23s\n",
            "485:\tlearn: 0.2948606\ttotal: 39.9s\tremaining: 1.15s\n",
            "486:\tlearn: 0.2947449\ttotal: 40s\tremaining: 1.07s\n",
            "487:\tlearn: 0.2945592\ttotal: 40.1s\tremaining: 986ms\n",
            "488:\tlearn: 0.2944881\ttotal: 40.2s\tremaining: 904ms\n",
            "489:\tlearn: 0.2943717\ttotal: 40.2s\tremaining: 821ms\n",
            "490:\tlearn: 0.2942179\ttotal: 40.3s\tremaining: 739ms\n",
            "491:\tlearn: 0.2940559\ttotal: 40.4s\tremaining: 657ms\n",
            "492:\tlearn: 0.2938604\ttotal: 40.5s\tremaining: 575ms\n",
            "493:\tlearn: 0.2937127\ttotal: 40.6s\tremaining: 493ms\n",
            "494:\tlearn: 0.2934566\ttotal: 40.6s\tremaining: 411ms\n",
            "495:\tlearn: 0.2932054\ttotal: 40.7s\tremaining: 328ms\n",
            "496:\tlearn: 0.2928701\ttotal: 40.8s\tremaining: 246ms\n",
            "497:\tlearn: 0.2927619\ttotal: 40.9s\tremaining: 164ms\n",
            "498:\tlearn: 0.2926600\ttotal: 40.9s\tremaining: 82.1ms\n",
            "499:\tlearn: 0.2922700\ttotal: 41s\tremaining: 0us\n"
          ]
        },
        {
          "output_type": "execute_result",
          "data": {
            "text/plain": [
              "<catboost.core.CatBoostClassifier at 0x7f34efc3d160>"
            ]
          },
          "metadata": {},
          "execution_count": 220
        }
      ]
    },
    {
      "cell_type": "code",
      "source": [
        "predicts = cat.predict(X_test_vectors)\n",
        "print(classification_report(Y_test_labels, predicts))\n",
        "plot_roc_curve(cat, Y_test_labels)"
      ],
      "metadata": {
        "colab": {
          "base_uri": "https://localhost:8080/",
          "height": 619
        },
        "id": "imijsZ51rPSd",
        "outputId": "9b95eee8-8dee-456f-9c66-c13519712fbb"
      },
      "execution_count": null,
      "outputs": [
        {
          "output_type": "stream",
          "name": "stdout",
          "text": [
            "              precision    recall  f1-score   support\n",
            "\n",
            "           0       0.97      0.96      0.96      5945\n",
            "           1       0.52      0.65      0.58       448\n",
            "\n",
            "    accuracy                           0.93      6393\n",
            "   macro avg       0.75      0.80      0.77      6393\n",
            "weighted avg       0.94      0.93      0.94      6393\n",
            "\n"
          ]
        },
        {
          "output_type": "display_data",
          "data": {
            "text/plain": [
              "<Figure size 640x480 with 1 Axes>"
            ],
            "image/png": "[encoded data removed]"
          },
          "metadata": {}
        }
      ]
    },
    {
      "cell_type": "code",
      "source": [
        "results.append({'model': 'CatBoostClassifier',\n",
        "                'auc': 0.92,\n",
        "                'data': 'dropped points',\n",
        "                'f1_macro': 0.77,\n",
        "                'recall_1': 0.65,\n",
        "                'precision_1': 0.52})"
      ],
      "metadata": {
        "id": "GIKIyErXZ1xZ"
      },
      "execution_count": null,
      "outputs": []
    },
    {
      "cell_type": "markdown",
      "source": [
        "## 4.3 Очистка данных при помощи регулярных выражений"
      ],
      "metadata": {
        "id": "Rn-ddxLr9VZC"
      }
    },
    {
      "cell_type": "code",
      "source": [
        "data_proba.head(4)"
      ],
      "metadata": {
        "colab": {
          "base_uri": "https://localhost:8080/",
          "height": 175
        },
        "id": "1fSYO1FQAyRh",
        "outputId": "b03508c7-0fdd-48a1-fe62-1daedc90ddcd"
      },
      "execution_count": null,
      "outputs": [
        {
          "output_type": "execute_result",
          "data": {
            "text/plain": [
              "   id  label                                              tweet\n",
              "0   1      0   user when a father is dysfunctional and is so...\n",
              "1   2      0  user user thanks for lyft credit i cant use ca...\n",
              "2   3      0                                bihday your majesty\n",
              "3   4      0  model   i love u take with u all the time in u..."
            ],
            "text/html": [
              "\n",
              "  <div id=\"df-e91746af-7056-4b4f-b034-41e19b2fd8fa\">\n",
              "    <div class=\"colab-df-container\">\n",
              "      <div>\n",
              "<style scoped>\n",
              "    .dataframe tbody tr th:only-of-type {\n",
              "        vertical-align: middle;\n",
              "    }\n",
              "\n",
              "    .dataframe tbody tr th {\n",
              "        vertical-align: top;\n",
              "    }\n",
              "\n",
              "    .dataframe thead th {\n",
              "        text-align: right;\n",
              "    }\n",
              "</style>\n",
              "<table border=\"1\" class=\"dataframe\">\n",
              "  <thead>\n",
              "    <tr style=\"text-align: right;\">\n",
              "      <th></th>\n",
              "      <th>id</th>\n",
              "      <th>label</th>\n",
              "      <th>tweet</th>\n",
              "    </tr>\n",
              "  </thead>\n",
              "  <tbody>\n",
              "    <tr>\n",
              "      <th>0</th>\n",
              "      <td>1</td>\n",
              "      <td>0</td>\n",
              "      <td>user when a father is dysfunctional and is so...</td>\n",
              "    </tr>\n",
              "    <tr>\n",
              "      <th>1</th>\n",
              "      <td>2</td>\n",
              "      <td>0</td>\n",
              "      <td>user user thanks for lyft credit i cant use ca...</td>\n",
              "    </tr>\n",
              "    <tr>\n",
              "      <th>2</th>\n",
              "      <td>3</td>\n",
              "      <td>0</td>\n",
              "      <td>bihday your majesty</td>\n",
              "    </tr>\n",
              "    <tr>\n",
              "      <th>3</th>\n",
              "      <td>4</td>\n",
              "      <td>0</td>\n",
              "      <td>model   i love u take with u all the time in u...</td>\n",
              "    </tr>\n",
              "  </tbody>\n",
              "</table>\n",
              "</div>\n",
              "      <button class=\"colab-df-convert\" onclick=\"convertToInteractive('df-e91746af-7056-4b4f-b034-41e19b2fd8fa')\"\n",
              "              title=\"Convert this dataframe to an interactive table.\"\n",
              "              style=\"display:none;\">\n",
              "        \n",
              "  <svg xmlns=\"http://www.w3.org/2000/svg\" height=\"24px\"viewBox=\"0 0 24 24\"\n",
              "       width=\"24px\">\n",
              "    <path d=\"M0 0h24v24H0V0z\" fill=\"none\"/>\n",
              "    <path d=\"M18.56 5.44l.94 2.06.94-2.06 2.06-.94-2.06-.94-.94-2.06-.94 2.06-2.06.94zm-11 1L8.5 8.5l.94-2.06 2.06-.94-2.06-.94L8.5 2.5l-.94 2.06-2.06.94zm10 10l.94 2.06.94-2.06 2.06-.94-2.06-.94-.94-2.06-.94 2.06-2.06.94z\"/><path d=\"M17.41 7.96l-1.37-1.37c-.4-.4-.92-.59-1.43-.59-.52 0-1.04.2-1.43.59L10.3 9.45l-7.72 7.72c-.78.78-.78 2.05 0 2.83L4 21.41c.39.39.9.59 1.41.59.51 0 1.02-.2 1.41-.59l7.78-7.78 2.81-2.81c.8-.78.8-2.07 0-2.86zM5.41 20L4 18.59l7.72-7.72 1.47 1.35L5.41 20z\"/>\n",
              "  </svg>\n",
              "      </button>\n",
              "      \n",
              "  <style>\n",
              "    .colab-df-container {\n",
              "      display:flex;\n",
              "      flex-wrap:wrap;\n",
              "      gap: 12px;\n",
              "    }\n",
              "\n",
              "    .colab-df-convert {\n",
              "      background-color: #E8F0FE;\n",
              "      border: none;\n",
              "      border-radius: 50%;\n",
              "      cursor: pointer;\n",
              "      display: none;\n",
              "      fill: #1967D2;\n",
              "      height: 32px;\n",
              "      padding: 0 0 0 0;\n",
              "      width: 32px;\n",
              "    }\n",
              "\n",
              "    .colab-df-convert:hover {\n",
              "      background-color: #E2EBFA;\n",
              "      box-shadow: 0px 1px 2px rgba(60, 64, 67, 0.3), 0px 1px 3px 1px rgba(60, 64, 67, 0.15);\n",
              "      fill: #174EA6;\n",
              "    }\n",
              "\n",
              "    [theme=dark] .colab-df-convert {\n",
              "      background-color: #3B4455;\n",
              "      fill: #D2E3FC;\n",
              "    }\n",
              "\n",
              "    [theme=dark] .colab-df-convert:hover {\n",
              "      background-color: #434B5C;\n",
              "      box-shadow: 0px 1px 3px 1px rgba(0, 0, 0, 0.15);\n",
              "      filter: drop-shadow(0px 1px 2px rgba(0, 0, 0, 0.3));\n",
              "      fill: #FFFFFF;\n",
              "    }\n",
              "  </style>\n",
              "\n",
              "      <script>\n",
              "        const buttonEl =\n",
              "          document.querySelector('#df-e91746af-7056-4b4f-b034-41e19b2fd8fa button.colab-df-convert');\n",
              "        buttonEl.style.display =\n",
              "          google.colab.kernel.accessAllowed ? 'block' : 'none';\n",
              "\n",
              "        async function convertToInteractive(key) {\n",
              "          const element = document.querySelector('#df-e91746af-7056-4b4f-b034-41e19b2fd8fa');\n",
              "          const dataTable =\n",
              "            await google.colab.kernel.invokeFunction('convertToInteractive',\n",
              "                                                     [key], {});\n",
              "          if (!dataTable) return;\n",
              "\n",
              "          const docLinkHtml = 'Like what you see? Visit the ' +\n",
              "            '<a target=\"_blank\" href=https://colab.research.google.com/notebooks/data_table.ipynb>data table notebook</a>'\n",
              "            + ' to learn more about interactive tables.';\n",
              "          element.innerHTML = '';\n",
              "          dataTable['output_type'] = 'display_data';\n",
              "          await google.colab.output.renderOutput(dataTable, element);\n",
              "          const docLink = document.createElement('div');\n",
              "          docLink.innerHTML = docLinkHtml;\n",
              "          element.appendChild(docLink);\n",
              "        }\n",
              "      </script>\n",
              "    </div>\n",
              "  </div>\n",
              "  "
            ]
          },
          "metadata": {},
          "execution_count": 235
        }
      ]
    },
    {
      "cell_type": "code",
      "source": [
        "train_train, train_test = train_test_split(data_proba,\n",
        "                                           test_size=0.2,\n",
        "                                           stratify=data_proba['label'],\n",
        "                                           random_state=42\n",
        "                                           )"
      ],
      "metadata": {
        "id": "WHgxRrah9XRZ"
      },
      "execution_count": null,
      "outputs": []
    },
    {
      "cell_type": "code",
      "source": [
        "train_train['label'].value_counts()"
      ],
      "metadata": {
        "colab": {
          "base_uri": "https://localhost:8080/"
        },
        "id": "IZF1cmNb-9Mp",
        "outputId": "fda6abd3-4fb8-4046-f95c-00b64e6f5c2b"
      },
      "execution_count": null,
      "outputs": [
        {
          "output_type": "execute_result",
          "data": {
            "text/plain": [
              "0    23775\n",
              "1     1794\n",
              "Name: label, dtype: int64"
            ]
          },
          "metadata": {},
          "execution_count": 237
        }
      ]
    },
    {
      "cell_type": "code",
      "source": [
        "vectorizer = TfidfVectorizer(stop_words=stopWords[:20])\n",
        "vectorizer = vectorizer.fit(data_proba['tweet'])"
      ],
      "metadata": {
        "colab": {
          "base_uri": "https://localhost:8080/"
        },
        "id": "2MLge_fW9kRr",
        "outputId": "e2c60d71-c967-4a06-aa6a-7d918f9090a6"
      },
      "execution_count": null,
      "outputs": [
        {
          "output_type": "stream",
          "name": "stderr",
          "text": [
            "/usr/local/lib/python3.9/dist-packages/sklearn/feature_extraction/text.py:409: UserWarning: Your stop_words may be inconsistent with your preprocessing. Tokenizing the stop words generated tokens ['ll', 're', 've'] not in stop_words.\n",
            "  warnings.warn(\n"
          ]
        }
      ]
    },
    {
      "cell_type": "code",
      "source": [
        "X_train_vectors = vectorizer.transform(train_train['tweet'])\n",
        "Y_train_labels = train_train['label'].to_numpy()\n",
        "\n",
        "X_test_vectors = vectorizer.transform(train_test['tweet'])\n",
        "Y_test_labels = train_test['label'].to_numpy()"
      ],
      "metadata": {
        "id": "H4izHq7y9oxh"
      },
      "execution_count": null,
      "outputs": []
    },
    {
      "cell_type": "code",
      "source": [
        "clf = MultinomialNB().fit(X_train_vectors, Y_train_labels)"
      ],
      "metadata": {
        "id": "lAKalr8SzKlN"
      },
      "execution_count": null,
      "outputs": []
    },
    {
      "cell_type": "code",
      "source": [
        "predicts = clf.predict(X_test_vectors)\n",
        "print(classification_report(Y_test_labels, predicts))\n",
        "plot_roc_curve(clf, Y_test_labels)"
      ],
      "metadata": {
        "colab": {
          "base_uri": "https://localhost:8080/",
          "height": 619
        },
        "id": "uGdZjTD2x8iW",
        "outputId": "87af55c6-e471-4a95-c6db-d2537685ccad"
      },
      "execution_count": null,
      "outputs": [
        {
          "output_type": "stream",
          "name": "stdout",
          "text": [
            "              precision    recall  f1-score   support\n",
            "\n",
            "           0       0.94      1.00      0.97      5945\n",
            "           1       1.00      0.11      0.20       448\n",
            "\n",
            "    accuracy                           0.94      6393\n",
            "   macro avg       0.97      0.56      0.59      6393\n",
            "weighted avg       0.94      0.94      0.91      6393\n",
            "\n"
          ]
        },
        {
          "output_type": "display_data",
          "data": {
            "text/plain": [
              "<Figure size 640x480 with 1 Axes>"
            ],
            "image/png": "[encoded data removed]"
          },
          "metadata": {}
        }
      ]
    },
    {
      "cell_type": "code",
      "source": [
        "results.append({'model': 'MultinomialNB',\n",
        "                'auc': 0.86,\n",
        "                'data': 'regex',\n",
        "                'f1_macro': 0.59,\n",
        "                'recall_1': 0.11,\n",
        "                'precision_1': 1.00})"
      ],
      "metadata": {
        "id": "cJb9NV-6Z96N"
      },
      "execution_count": null,
      "outputs": []
    },
    {
      "cell_type": "code",
      "source": [
        "cat = CatBoostClassifier(iterations=500,\n",
        "                         devices='0:1',\n",
        "                         )\n",
        "\n",
        "cat.fit(X_train_vectors, train_train['label'])"
      ],
      "metadata": {
        "colab": {
          "base_uri": "https://localhost:8080/"
        },
        "id": "aUwsgKKz9rZw",
        "outputId": "f1fcb224-63b0-48fe-d6ab-5ddf0f359f1b"
      },
      "execution_count": null,
      "outputs": [
        {
          "output_type": "stream",
          "name": "stdout",
          "text": [
            "Learning rate set to 0.077638\n",
            "0:\tlearn: 0.6105670\ttotal: 633ms\tremaining: 5m 15s\n",
            "1:\tlearn: 0.5432923\ttotal: 919ms\tremaining: 3m 48s\n",
            "2:\tlearn: 0.4877513\ttotal: 1.19s\tremaining: 3m 16s\n",
            "3:\tlearn: 0.4425502\ttotal: 1.47s\tremaining: 3m 2s\n",
            "4:\tlearn: 0.4067202\ttotal: 1.75s\tremaining: 2m 52s\n",
            "5:\tlearn: 0.3736582\ttotal: 2.01s\tremaining: 2m 45s\n",
            "6:\tlearn: 0.3467391\ttotal: 2.29s\tremaining: 2m 41s\n",
            "7:\tlearn: 0.3234003\ttotal: 2.56s\tremaining: 2m 37s\n",
            "8:\tlearn: 0.3051159\ttotal: 2.84s\tremaining: 2m 35s\n",
            "9:\tlearn: 0.2900793\ttotal: 3.11s\tremaining: 2m 32s\n",
            "10:\tlearn: 0.2779099\ttotal: 3.38s\tremaining: 2m 30s\n",
            "11:\tlearn: 0.2682310\ttotal: 3.65s\tremaining: 2m 28s\n",
            "12:\tlearn: 0.2588280\ttotal: 3.93s\tremaining: 2m 27s\n",
            "13:\tlearn: 0.2521363\ttotal: 4.2s\tremaining: 2m 25s\n",
            "14:\tlearn: 0.2451711\ttotal: 4.47s\tremaining: 2m 24s\n",
            "15:\tlearn: 0.2395984\ttotal: 4.74s\tremaining: 2m 23s\n",
            "16:\tlearn: 0.2345417\ttotal: 5.01s\tremaining: 2m 22s\n",
            "17:\tlearn: 0.2303210\ttotal: 5.32s\tremaining: 2m 22s\n",
            "18:\tlearn: 0.2266985\ttotal: 5.72s\tremaining: 2m 24s\n",
            "19:\tlearn: 0.2234702\ttotal: 6.18s\tremaining: 2m 28s\n",
            "20:\tlearn: 0.2206063\ttotal: 6.86s\tremaining: 2m 36s\n",
            "21:\tlearn: 0.2179214\ttotal: 7.66s\tremaining: 2m 46s\n",
            "22:\tlearn: 0.2158534\ttotal: 8.26s\tremaining: 2m 51s\n",
            "23:\tlearn: 0.2137216\ttotal: 8.7s\tremaining: 2m 52s\n",
            "24:\tlearn: 0.2118455\ttotal: 9.13s\tremaining: 2m 53s\n",
            "25:\tlearn: 0.2102275\ttotal: 9.62s\tremaining: 2m 55s\n",
            "26:\tlearn: 0.2086206\ttotal: 10.1s\tremaining: 2m 56s\n",
            "27:\tlearn: 0.2067343\ttotal: 10.5s\tremaining: 2m 57s\n",
            "28:\tlearn: 0.2054770\ttotal: 10.9s\tremaining: 2m 56s\n",
            "29:\tlearn: 0.2042538\ttotal: 11.1s\tremaining: 2m 54s\n",
            "30:\tlearn: 0.2029447\ttotal: 11.4s\tremaining: 2m 52s\n",
            "31:\tlearn: 0.2018111\ttotal: 11.7s\tremaining: 2m 51s\n",
            "32:\tlearn: 0.2008289\ttotal: 12s\tremaining: 2m 49s\n",
            "33:\tlearn: 0.1998926\ttotal: 12.2s\tremaining: 2m 47s\n",
            "34:\tlearn: 0.1989768\ttotal: 12.5s\tremaining: 2m 46s\n",
            "35:\tlearn: 0.1980446\ttotal: 12.8s\tremaining: 2m 44s\n",
            "36:\tlearn: 0.1971696\ttotal: 13.1s\tremaining: 2m 43s\n",
            "37:\tlearn: 0.1963338\ttotal: 13.3s\tremaining: 2m 42s\n",
            "38:\tlearn: 0.1955501\ttotal: 13.6s\tremaining: 2m 40s\n",
            "39:\tlearn: 0.1947615\ttotal: 13.9s\tremaining: 2m 39s\n",
            "40:\tlearn: 0.1940433\ttotal: 14.1s\tremaining: 2m 38s\n",
            "41:\tlearn: 0.1933642\ttotal: 14.4s\tremaining: 2m 37s\n",
            "42:\tlearn: 0.1924685\ttotal: 14.7s\tremaining: 2m 36s\n",
            "43:\tlearn: 0.1916981\ttotal: 15s\tremaining: 2m 35s\n",
            "44:\tlearn: 0.1911023\ttotal: 15.2s\tremaining: 2m 34s\n",
            "45:\tlearn: 0.1904201\ttotal: 15.5s\tremaining: 2m 33s\n",
            "46:\tlearn: 0.1898005\ttotal: 15.8s\tremaining: 2m 32s\n",
            "47:\tlearn: 0.1892341\ttotal: 16s\tremaining: 2m 31s\n",
            "48:\tlearn: 0.1886443\ttotal: 16.3s\tremaining: 2m 30s\n",
            "49:\tlearn: 0.1878227\ttotal: 16.6s\tremaining: 2m 29s\n",
            "50:\tlearn: 0.1872607\ttotal: 16.9s\tremaining: 2m 28s\n",
            "51:\tlearn: 0.1866978\ttotal: 17.2s\tremaining: 2m 27s\n",
            "52:\tlearn: 0.1856738\ttotal: 17.4s\tremaining: 2m 27s\n",
            "53:\tlearn: 0.1849906\ttotal: 17.7s\tremaining: 2m 26s\n",
            "54:\tlearn: 0.1843107\ttotal: 18s\tremaining: 2m 25s\n",
            "55:\tlearn: 0.1837319\ttotal: 18.3s\tremaining: 2m 24s\n",
            "56:\tlearn: 0.1832212\ttotal: 18.7s\tremaining: 2m 25s\n",
            "57:\tlearn: 0.1824597\ttotal: 19.1s\tremaining: 2m 25s\n",
            "58:\tlearn: 0.1820397\ttotal: 19.6s\tremaining: 2m 26s\n",
            "59:\tlearn: 0.1814403\ttotal: 20s\tremaining: 2m 26s\n",
            "60:\tlearn: 0.1808690\ttotal: 20.5s\tremaining: 2m 27s\n",
            "61:\tlearn: 0.1804369\ttotal: 21s\tremaining: 2m 28s\n",
            "62:\tlearn: 0.1800063\ttotal: 21.3s\tremaining: 2m 27s\n",
            "63:\tlearn: 0.1794431\ttotal: 21.6s\tremaining: 2m 27s\n",
            "64:\tlearn: 0.1789300\ttotal: 21.9s\tremaining: 2m 26s\n",
            "65:\tlearn: 0.1785323\ttotal: 22.1s\tremaining: 2m 25s\n",
            "66:\tlearn: 0.1781034\ttotal: 22.4s\tremaining: 2m 24s\n",
            "67:\tlearn: 0.1773576\ttotal: 22.7s\tremaining: 2m 24s\n",
            "68:\tlearn: 0.1769164\ttotal: 23s\tremaining: 2m 23s\n",
            "69:\tlearn: 0.1765125\ttotal: 23.2s\tremaining: 2m 22s\n",
            "70:\tlearn: 0.1761480\ttotal: 23.5s\tremaining: 2m 22s\n",
            "71:\tlearn: 0.1756638\ttotal: 23.8s\tremaining: 2m 21s\n",
            "72:\tlearn: 0.1752418\ttotal: 24.1s\tremaining: 2m 20s\n",
            "73:\tlearn: 0.1747983\ttotal: 24.3s\tremaining: 2m 20s\n",
            "74:\tlearn: 0.1744719\ttotal: 24.6s\tremaining: 2m 19s\n",
            "75:\tlearn: 0.1740976\ttotal: 24.9s\tremaining: 2m 18s\n",
            "76:\tlearn: 0.1736782\ttotal: 25.1s\tremaining: 2m 18s\n",
            "77:\tlearn: 0.1733313\ttotal: 25.4s\tremaining: 2m 17s\n",
            "78:\tlearn: 0.1729294\ttotal: 25.7s\tremaining: 2m 17s\n",
            "79:\tlearn: 0.1724204\ttotal: 26s\tremaining: 2m 16s\n",
            "80:\tlearn: 0.1720485\ttotal: 26.2s\tremaining: 2m 15s\n",
            "81:\tlearn: 0.1716872\ttotal: 26.5s\tremaining: 2m 15s\n",
            "82:\tlearn: 0.1713553\ttotal: 26.8s\tremaining: 2m 14s\n",
            "83:\tlearn: 0.1710237\ttotal: 27.1s\tremaining: 2m 14s\n",
            "84:\tlearn: 0.1706803\ttotal: 27.3s\tremaining: 2m 13s\n",
            "85:\tlearn: 0.1704215\ttotal: 27.6s\tremaining: 2m 12s\n",
            "86:\tlearn: 0.1701107\ttotal: 27.9s\tremaining: 2m 12s\n",
            "87:\tlearn: 0.1698081\ttotal: 28.1s\tremaining: 2m 11s\n",
            "88:\tlearn: 0.1691847\ttotal: 28.4s\tremaining: 2m 11s\n",
            "89:\tlearn: 0.1687599\ttotal: 28.7s\tremaining: 2m 10s\n",
            "90:\tlearn: 0.1684014\ttotal: 29s\tremaining: 2m 10s\n",
            "91:\tlearn: 0.1681100\ttotal: 29.2s\tremaining: 2m 9s\n",
            "92:\tlearn: 0.1678274\ttotal: 29.5s\tremaining: 2m 9s\n",
            "93:\tlearn: 0.1675199\ttotal: 29.8s\tremaining: 2m 8s\n",
            "94:\tlearn: 0.1672312\ttotal: 30s\tremaining: 2m 8s\n",
            "95:\tlearn: 0.1668344\ttotal: 30.3s\tremaining: 2m 7s\n",
            "96:\tlearn: 0.1665102\ttotal: 30.6s\tremaining: 2m 7s\n",
            "97:\tlearn: 0.1661661\ttotal: 30.9s\tremaining: 2m 6s\n",
            "98:\tlearn: 0.1658809\ttotal: 31.1s\tremaining: 2m 6s\n",
            "99:\tlearn: 0.1656406\ttotal: 31.5s\tremaining: 2m 6s\n",
            "100:\tlearn: 0.1653818\ttotal: 32s\tremaining: 2m 6s\n",
            "101:\tlearn: 0.1650106\ttotal: 32.4s\tremaining: 2m 6s\n",
            "102:\tlearn: 0.1647292\ttotal: 32.9s\tremaining: 2m 6s\n",
            "103:\tlearn: 0.1641993\ttotal: 33.3s\tremaining: 2m 6s\n",
            "104:\tlearn: 0.1639446\ttotal: 33.8s\tremaining: 2m 7s\n",
            "105:\tlearn: 0.1636233\ttotal: 34.2s\tremaining: 2m 6s\n",
            "106:\tlearn: 0.1633906\ttotal: 34.4s\tremaining: 2m 6s\n",
            "107:\tlearn: 0.1631027\ttotal: 34.7s\tremaining: 2m 5s\n",
            "108:\tlearn: 0.1627432\ttotal: 35s\tremaining: 2m 5s\n",
            "109:\tlearn: 0.1624952\ttotal: 35.2s\tremaining: 2m 4s\n",
            "110:\tlearn: 0.1623046\ttotal: 35.5s\tremaining: 2m 4s\n",
            "111:\tlearn: 0.1620680\ttotal: 35.8s\tremaining: 2m 3s\n",
            "112:\tlearn: 0.1617335\ttotal: 36.1s\tremaining: 2m 3s\n",
            "113:\tlearn: 0.1614728\ttotal: 36.3s\tremaining: 2m 3s\n",
            "114:\tlearn: 0.1611011\ttotal: 36.6s\tremaining: 2m 2s\n",
            "115:\tlearn: 0.1607437\ttotal: 36.9s\tremaining: 2m 2s\n",
            "116:\tlearn: 0.1605360\ttotal: 37.1s\tremaining: 2m 1s\n",
            "117:\tlearn: 0.1601956\ttotal: 37.4s\tremaining: 2m 1s\n",
            "118:\tlearn: 0.1599689\ttotal: 37.7s\tremaining: 2m\n",
            "119:\tlearn: 0.1596498\ttotal: 38s\tremaining: 2m\n",
            "120:\tlearn: 0.1594265\ttotal: 38.2s\tremaining: 1m 59s\n",
            "121:\tlearn: 0.1592343\ttotal: 38.5s\tremaining: 1m 59s\n",
            "122:\tlearn: 0.1589999\ttotal: 38.8s\tremaining: 1m 58s\n",
            "123:\tlearn: 0.1587457\ttotal: 39.1s\tremaining: 1m 58s\n",
            "124:\tlearn: 0.1584223\ttotal: 39.3s\tremaining: 1m 58s\n",
            "125:\tlearn: 0.1581933\ttotal: 39.6s\tremaining: 1m 57s\n",
            "126:\tlearn: 0.1579611\ttotal: 39.9s\tremaining: 1m 57s\n",
            "127:\tlearn: 0.1576971\ttotal: 40.2s\tremaining: 1m 56s\n",
            "128:\tlearn: 0.1574717\ttotal: 40.4s\tremaining: 1m 56s\n",
            "129:\tlearn: 0.1572666\ttotal: 40.7s\tremaining: 1m 55s\n",
            "130:\tlearn: 0.1569137\ttotal: 41s\tremaining: 1m 55s\n",
            "131:\tlearn: 0.1567001\ttotal: 41.3s\tremaining: 1m 55s\n",
            "132:\tlearn: 0.1564935\ttotal: 41.5s\tremaining: 1m 54s\n",
            "133:\tlearn: 0.1563025\ttotal: 41.8s\tremaining: 1m 54s\n",
            "134:\tlearn: 0.1560567\ttotal: 42.1s\tremaining: 1m 53s\n",
            "135:\tlearn: 0.1558494\ttotal: 42.3s\tremaining: 1m 53s\n",
            "136:\tlearn: 0.1554342\ttotal: 42.6s\tremaining: 1m 52s\n",
            "137:\tlearn: 0.1551727\ttotal: 42.9s\tremaining: 1m 52s\n",
            "138:\tlearn: 0.1549728\ttotal: 43.2s\tremaining: 1m 52s\n",
            "139:\tlearn: 0.1547237\ttotal: 43.4s\tremaining: 1m 51s\n",
            "140:\tlearn: 0.1545258\ttotal: 43.7s\tremaining: 1m 51s\n",
            "141:\tlearn: 0.1543181\ttotal: 44s\tremaining: 1m 50s\n",
            "142:\tlearn: 0.1541294\ttotal: 44.4s\tremaining: 1m 50s\n",
            "143:\tlearn: 0.1539349\ttotal: 44.8s\tremaining: 1m 50s\n",
            "144:\tlearn: 0.1537101\ttotal: 45.3s\tremaining: 1m 50s\n",
            "145:\tlearn: 0.1534424\ttotal: 45.7s\tremaining: 1m 50s\n",
            "146:\tlearn: 0.1532712\ttotal: 46.1s\tremaining: 1m 50s\n",
            "147:\tlearn: 0.1528479\ttotal: 46.6s\tremaining: 1m 50s\n",
            "148:\tlearn: 0.1526617\ttotal: 47s\tremaining: 1m 50s\n",
            "149:\tlearn: 0.1524669\ttotal: 47.3s\tremaining: 1m 50s\n",
            "150:\tlearn: 0.1521336\ttotal: 47.6s\tremaining: 1m 49s\n",
            "151:\tlearn: 0.1517646\ttotal: 47.9s\tremaining: 1m 49s\n",
            "152:\tlearn: 0.1515292\ttotal: 48.1s\tremaining: 1m 49s\n",
            "153:\tlearn: 0.1513467\ttotal: 48.4s\tremaining: 1m 48s\n",
            "154:\tlearn: 0.1511356\ttotal: 48.7s\tremaining: 1m 48s\n",
            "155:\tlearn: 0.1509565\ttotal: 48.9s\tremaining: 1m 47s\n",
            "156:\tlearn: 0.1506326\ttotal: 49.2s\tremaining: 1m 47s\n",
            "157:\tlearn: 0.1503920\ttotal: 49.5s\tremaining: 1m 47s\n",
            "158:\tlearn: 0.1502170\ttotal: 49.8s\tremaining: 1m 46s\n",
            "159:\tlearn: 0.1500050\ttotal: 50s\tremaining: 1m 46s\n",
            "160:\tlearn: 0.1498415\ttotal: 50.3s\tremaining: 1m 45s\n",
            "161:\tlearn: 0.1495739\ttotal: 50.6s\tremaining: 1m 45s\n",
            "162:\tlearn: 0.1493064\ttotal: 50.8s\tremaining: 1m 45s\n",
            "163:\tlearn: 0.1491460\ttotal: 51.1s\tremaining: 1m 44s\n",
            "164:\tlearn: 0.1489685\ttotal: 51.4s\tremaining: 1m 44s\n",
            "165:\tlearn: 0.1485418\ttotal: 51.7s\tremaining: 1m 43s\n",
            "166:\tlearn: 0.1483927\ttotal: 51.9s\tremaining: 1m 43s\n",
            "167:\tlearn: 0.1481593\ttotal: 52.2s\tremaining: 1m 43s\n",
            "168:\tlearn: 0.1477786\ttotal: 52.5s\tremaining: 1m 42s\n",
            "169:\tlearn: 0.1473864\ttotal: 52.8s\tremaining: 1m 42s\n",
            "170:\tlearn: 0.1472036\ttotal: 53s\tremaining: 1m 42s\n",
            "171:\tlearn: 0.1470584\ttotal: 53.3s\tremaining: 1m 41s\n",
            "172:\tlearn: 0.1469115\ttotal: 53.6s\tremaining: 1m 41s\n",
            "173:\tlearn: 0.1466814\ttotal: 53.8s\tremaining: 1m 40s\n",
            "174:\tlearn: 0.1464291\ttotal: 54.1s\tremaining: 1m 40s\n",
            "175:\tlearn: 0.1461365\ttotal: 54.4s\tremaining: 1m 40s\n",
            "176:\tlearn: 0.1459842\ttotal: 54.7s\tremaining: 1m 39s\n",
            "177:\tlearn: 0.1457451\ttotal: 54.9s\tremaining: 1m 39s\n",
            "178:\tlearn: 0.1455229\ttotal: 55.2s\tremaining: 1m 38s\n",
            "179:\tlearn: 0.1452705\ttotal: 55.5s\tremaining: 1m 38s\n",
            "180:\tlearn: 0.1451141\ttotal: 55.7s\tremaining: 1m 38s\n",
            "181:\tlearn: 0.1449051\ttotal: 56s\tremaining: 1m 37s\n",
            "182:\tlearn: 0.1447390\ttotal: 56.3s\tremaining: 1m 37s\n",
            "183:\tlearn: 0.1444912\ttotal: 56.6s\tremaining: 1m 37s\n",
            "184:\tlearn: 0.1443397\ttotal: 56.8s\tremaining: 1m 36s\n",
            "185:\tlearn: 0.1440205\ttotal: 57.2s\tremaining: 1m 36s\n",
            "186:\tlearn: 0.1437415\ttotal: 57.6s\tremaining: 1m 36s\n",
            "187:\tlearn: 0.1434985\ttotal: 58.1s\tremaining: 1m 36s\n",
            "188:\tlearn: 0.1432586\ttotal: 58.5s\tremaining: 1m 36s\n",
            "189:\tlearn: 0.1430628\ttotal: 59s\tremaining: 1m 36s\n",
            "190:\tlearn: 0.1429228\ttotal: 59.4s\tremaining: 1m 36s\n",
            "191:\tlearn: 0.1426392\ttotal: 59.9s\tremaining: 1m 36s\n",
            "192:\tlearn: 0.1424329\ttotal: 1m\tremaining: 1m 35s\n",
            "193:\tlearn: 0.1422249\ttotal: 1m\tremaining: 1m 35s\n",
            "194:\tlearn: 0.1420846\ttotal: 1m\tremaining: 1m 34s\n",
            "195:\tlearn: 0.1418834\ttotal: 1m\tremaining: 1m 34s\n",
            "196:\tlearn: 0.1417513\ttotal: 1m 1s\tremaining: 1m 34s\n",
            "197:\tlearn: 0.1416022\ttotal: 1m 1s\tremaining: 1m 33s\n",
            "198:\tlearn: 0.1414686\ttotal: 1m 1s\tremaining: 1m 33s\n",
            "199:\tlearn: 0.1413333\ttotal: 1m 2s\tremaining: 1m 33s\n",
            "200:\tlearn: 0.1411945\ttotal: 1m 2s\tremaining: 1m 32s\n",
            "201:\tlearn: 0.1410760\ttotal: 1m 2s\tremaining: 1m 32s\n",
            "202:\tlearn: 0.1409498\ttotal: 1m 2s\tremaining: 1m 31s\n",
            "203:\tlearn: 0.1408257\ttotal: 1m 3s\tremaining: 1m 31s\n",
            "204:\tlearn: 0.1406978\ttotal: 1m 3s\tremaining: 1m 31s\n",
            "205:\tlearn: 0.1405356\ttotal: 1m 3s\tremaining: 1m 30s\n",
            "206:\tlearn: 0.1403342\ttotal: 1m 3s\tremaining: 1m 30s\n",
            "207:\tlearn: 0.1401980\ttotal: 1m 4s\tremaining: 1m 30s\n",
            "208:\tlearn: 0.1399669\ttotal: 1m 4s\tremaining: 1m 29s\n",
            "209:\tlearn: 0.1397596\ttotal: 1m 4s\tremaining: 1m 29s\n",
            "210:\tlearn: 0.1394905\ttotal: 1m 5s\tremaining: 1m 29s\n",
            "211:\tlearn: 0.1393205\ttotal: 1m 5s\tremaining: 1m 28s\n",
            "212:\tlearn: 0.1391289\ttotal: 1m 5s\tremaining: 1m 28s\n",
            "213:\tlearn: 0.1390039\ttotal: 1m 5s\tremaining: 1m 27s\n",
            "214:\tlearn: 0.1388778\ttotal: 1m 6s\tremaining: 1m 27s\n",
            "215:\tlearn: 0.1387040\ttotal: 1m 6s\tremaining: 1m 27s\n",
            "216:\tlearn: 0.1385826\ttotal: 1m 6s\tremaining: 1m 26s\n",
            "217:\tlearn: 0.1384668\ttotal: 1m 6s\tremaining: 1m 26s\n",
            "218:\tlearn: 0.1383306\ttotal: 1m 7s\tremaining: 1m 26s\n",
            "219:\tlearn: 0.1382210\ttotal: 1m 7s\tremaining: 1m 25s\n",
            "220:\tlearn: 0.1381097\ttotal: 1m 7s\tremaining: 1m 25s\n",
            "221:\tlearn: 0.1379957\ttotal: 1m 7s\tremaining: 1m 25s\n",
            "222:\tlearn: 0.1377798\ttotal: 1m 8s\tremaining: 1m 24s\n",
            "223:\tlearn: 0.1376648\ttotal: 1m 8s\tremaining: 1m 24s\n",
            "224:\tlearn: 0.1375249\ttotal: 1m 8s\tremaining: 1m 24s\n",
            "225:\tlearn: 0.1374118\ttotal: 1m 9s\tremaining: 1m 23s\n",
            "226:\tlearn: 0.1372999\ttotal: 1m 9s\tremaining: 1m 23s\n",
            "227:\tlearn: 0.1371913\ttotal: 1m 9s\tremaining: 1m 23s\n",
            "228:\tlearn: 0.1369981\ttotal: 1m 9s\tremaining: 1m 22s\n",
            "229:\tlearn: 0.1368375\ttotal: 1m 10s\tremaining: 1m 22s\n",
            "230:\tlearn: 0.1367184\ttotal: 1m 10s\tremaining: 1m 22s\n",
            "231:\tlearn: 0.1366086\ttotal: 1m 11s\tremaining: 1m 22s\n",
            "232:\tlearn: 0.1364024\ttotal: 1m 11s\tremaining: 1m 22s\n",
            "233:\tlearn: 0.1362890\ttotal: 1m 12s\tremaining: 1m 21s\n",
            "234:\tlearn: 0.1360004\ttotal: 1m 12s\tremaining: 1m 21s\n",
            "235:\tlearn: 0.1357825\ttotal: 1m 12s\tremaining: 1m 21s\n",
            "236:\tlearn: 0.1356457\ttotal: 1m 13s\tremaining: 1m 21s\n",
            "237:\tlearn: 0.1355131\ttotal: 1m 13s\tremaining: 1m 20s\n",
            "238:\tlearn: 0.1354096\ttotal: 1m 13s\tremaining: 1m 20s\n",
            "239:\tlearn: 0.1353014\ttotal: 1m 13s\tremaining: 1m 20s\n",
            "240:\tlearn: 0.1349183\ttotal: 1m 14s\tremaining: 1m 19s\n",
            "241:\tlearn: 0.1348080\ttotal: 1m 14s\tremaining: 1m 19s\n",
            "242:\tlearn: 0.1347080\ttotal: 1m 14s\tremaining: 1m 19s\n",
            "243:\tlearn: 0.1345642\ttotal: 1m 14s\tremaining: 1m 18s\n",
            "244:\tlearn: 0.1343910\ttotal: 1m 15s\tremaining: 1m 18s\n",
            "245:\tlearn: 0.1342895\ttotal: 1m 15s\tremaining: 1m 18s\n",
            "246:\tlearn: 0.1340047\ttotal: 1m 15s\tremaining: 1m 17s\n",
            "247:\tlearn: 0.1338111\ttotal: 1m 16s\tremaining: 1m 17s\n",
            "248:\tlearn: 0.1335959\ttotal: 1m 16s\tremaining: 1m 17s\n",
            "249:\tlearn: 0.1334891\ttotal: 1m 16s\tremaining: 1m 16s\n",
            "250:\tlearn: 0.1333787\ttotal: 1m 16s\tremaining: 1m 16s\n",
            "251:\tlearn: 0.1332611\ttotal: 1m 17s\tremaining: 1m 15s\n",
            "252:\tlearn: 0.1331584\ttotal: 1m 17s\tremaining: 1m 15s\n",
            "253:\tlearn: 0.1329640\ttotal: 1m 17s\tremaining: 1m 15s\n",
            "254:\tlearn: 0.1327871\ttotal: 1m 18s\tremaining: 1m 14s\n",
            "255:\tlearn: 0.1325502\ttotal: 1m 18s\tremaining: 1m 14s\n",
            "256:\tlearn: 0.1324518\ttotal: 1m 18s\tremaining: 1m 14s\n",
            "257:\tlearn: 0.1322549\ttotal: 1m 18s\tremaining: 1m 13s\n",
            "258:\tlearn: 0.1321529\ttotal: 1m 19s\tremaining: 1m 13s\n",
            "259:\tlearn: 0.1320567\ttotal: 1m 19s\tremaining: 1m 13s\n",
            "260:\tlearn: 0.1319539\ttotal: 1m 19s\tremaining: 1m 12s\n",
            "261:\tlearn: 0.1318188\ttotal: 1m 19s\tremaining: 1m 12s\n",
            "262:\tlearn: 0.1316885\ttotal: 1m 20s\tremaining: 1m 12s\n",
            "263:\tlearn: 0.1314967\ttotal: 1m 20s\tremaining: 1m 11s\n",
            "264:\tlearn: 0.1313983\ttotal: 1m 20s\tremaining: 1m 11s\n",
            "265:\tlearn: 0.1311922\ttotal: 1m 21s\tremaining: 1m 11s\n",
            "266:\tlearn: 0.1311002\ttotal: 1m 21s\tremaining: 1m 10s\n",
            "267:\tlearn: 0.1310023\ttotal: 1m 21s\tremaining: 1m 10s\n",
            "268:\tlearn: 0.1307707\ttotal: 1m 21s\tremaining: 1m 10s\n",
            "269:\tlearn: 0.1306759\ttotal: 1m 22s\tremaining: 1m 9s\n",
            "270:\tlearn: 0.1305371\ttotal: 1m 22s\tremaining: 1m 9s\n",
            "271:\tlearn: 0.1303270\ttotal: 1m 22s\tremaining: 1m 9s\n",
            "272:\tlearn: 0.1300895\ttotal: 1m 23s\tremaining: 1m 9s\n",
            "273:\tlearn: 0.1299948\ttotal: 1m 23s\tremaining: 1m 8s\n",
            "274:\tlearn: 0.1298441\ttotal: 1m 23s\tremaining: 1m 8s\n",
            "275:\tlearn: 0.1297351\ttotal: 1m 24s\tremaining: 1m 8s\n",
            "276:\tlearn: 0.1296417\ttotal: 1m 24s\tremaining: 1m 8s\n",
            "277:\tlearn: 0.1295081\ttotal: 1m 25s\tremaining: 1m 8s\n",
            "278:\tlearn: 0.1294159\ttotal: 1m 25s\tremaining: 1m 7s\n",
            "279:\tlearn: 0.1293195\ttotal: 1m 25s\tremaining: 1m 7s\n",
            "280:\tlearn: 0.1292055\ttotal: 1m 26s\tremaining: 1m 7s\n",
            "281:\tlearn: 0.1291133\ttotal: 1m 26s\tremaining: 1m 6s\n",
            "282:\tlearn: 0.1289586\ttotal: 1m 26s\tremaining: 1m 6s\n",
            "283:\tlearn: 0.1287586\ttotal: 1m 27s\tremaining: 1m 6s\n",
            "284:\tlearn: 0.1286569\ttotal: 1m 27s\tremaining: 1m 5s\n",
            "285:\tlearn: 0.1285653\ttotal: 1m 27s\tremaining: 1m 5s\n",
            "286:\tlearn: 0.1284748\ttotal: 1m 27s\tremaining: 1m 5s\n",
            "287:\tlearn: 0.1283855\ttotal: 1m 28s\tremaining: 1m 4s\n",
            "288:\tlearn: 0.1282173\ttotal: 1m 28s\tremaining: 1m 4s\n",
            "289:\tlearn: 0.1280499\ttotal: 1m 28s\tremaining: 1m 4s\n",
            "290:\tlearn: 0.1277994\ttotal: 1m 28s\tremaining: 1m 3s\n",
            "291:\tlearn: 0.1277126\ttotal: 1m 29s\tremaining: 1m 3s\n",
            "292:\tlearn: 0.1276258\ttotal: 1m 29s\tremaining: 1m 3s\n",
            "293:\tlearn: 0.1275028\ttotal: 1m 29s\tremaining: 1m 2s\n",
            "294:\tlearn: 0.1274194\ttotal: 1m 30s\tremaining: 1m 2s\n",
            "295:\tlearn: 0.1273306\ttotal: 1m 30s\tremaining: 1m 2s\n",
            "296:\tlearn: 0.1272108\ttotal: 1m 30s\tremaining: 1m 1s\n",
            "297:\tlearn: 0.1271052\ttotal: 1m 30s\tremaining: 1m 1s\n",
            "298:\tlearn: 0.1270190\ttotal: 1m 31s\tremaining: 1m 1s\n",
            "299:\tlearn: 0.1266480\ttotal: 1m 31s\tremaining: 1m\n",
            "300:\tlearn: 0.1264985\ttotal: 1m 31s\tremaining: 1m\n",
            "301:\tlearn: 0.1263938\ttotal: 1m 32s\tremaining: 1m\n",
            "302:\tlearn: 0.1263117\ttotal: 1m 33s\tremaining: 1m\n",
            "303:\tlearn: 0.1261342\ttotal: 1m 33s\tremaining: 1m\n",
            "304:\tlearn: 0.1259607\ttotal: 1m 33s\tremaining: 59.8s\n",
            "305:\tlearn: 0.1258743\ttotal: 1m 33s\tremaining: 59.5s\n",
            "306:\tlearn: 0.1257442\ttotal: 1m 34s\tremaining: 59.2s\n",
            "307:\tlearn: 0.1255565\ttotal: 1m 34s\tremaining: 58.8s\n",
            "308:\tlearn: 0.1254708\ttotal: 1m 34s\tremaining: 58.5s\n",
            "309:\tlearn: 0.1253493\ttotal: 1m 34s\tremaining: 58.2s\n",
            "310:\tlearn: 0.1251522\ttotal: 1m 35s\tremaining: 57.9s\n",
            "311:\tlearn: 0.1250666\ttotal: 1m 35s\tremaining: 57.5s\n",
            "312:\tlearn: 0.1249883\ttotal: 1m 35s\tremaining: 57.3s\n",
            "313:\tlearn: 0.1248587\ttotal: 1m 36s\tremaining: 57.1s\n",
            "314:\tlearn: 0.1247600\ttotal: 1m 36s\tremaining: 56.8s\n",
            "315:\tlearn: 0.1246774\ttotal: 1m 37s\tremaining: 56.6s\n",
            "316:\tlearn: 0.1245953\ttotal: 1m 37s\tremaining: 56.4s\n",
            "317:\tlearn: 0.1244327\ttotal: 1m 38s\tremaining: 56.2s\n",
            "318:\tlearn: 0.1243519\ttotal: 1m 38s\tremaining: 55.9s\n",
            "319:\tlearn: 0.1241758\ttotal: 1m 38s\tremaining: 55.6s\n",
            "320:\tlearn: 0.1238499\ttotal: 1m 39s\tremaining: 55.3s\n",
            "321:\tlearn: 0.1237393\ttotal: 1m 39s\tremaining: 54.9s\n",
            "322:\tlearn: 0.1236549\ttotal: 1m 39s\tremaining: 54.6s\n",
            "323:\tlearn: 0.1235607\ttotal: 1m 39s\tremaining: 54.3s\n",
            "324:\tlearn: 0.1233096\ttotal: 1m 40s\tremaining: 54.1s\n",
            "325:\tlearn: 0.1231807\ttotal: 1m 41s\tremaining: 54.1s\n",
            "326:\tlearn: 0.1230522\ttotal: 1m 41s\tremaining: 53.8s\n",
            "327:\tlearn: 0.1229716\ttotal: 1m 41s\tremaining: 53.5s\n",
            "328:\tlearn: 0.1228286\ttotal: 1m 42s\tremaining: 53.2s\n",
            "329:\tlearn: 0.1227495\ttotal: 1m 42s\tremaining: 52.8s\n",
            "330:\tlearn: 0.1226682\ttotal: 1m 42s\tremaining: 52.5s\n",
            "331:\tlearn: 0.1225711\ttotal: 1m 43s\tremaining: 52.2s\n",
            "332:\tlearn: 0.1224924\ttotal: 1m 43s\tremaining: 51.8s\n",
            "333:\tlearn: 0.1224141\ttotal: 1m 43s\tremaining: 51.5s\n",
            "334:\tlearn: 0.1223259\ttotal: 1m 43s\tremaining: 51.2s\n",
            "335:\tlearn: 0.1221702\ttotal: 1m 44s\tremaining: 50.9s\n",
            "336:\tlearn: 0.1220637\ttotal: 1m 44s\tremaining: 50.5s\n",
            "337:\tlearn: 0.1219866\ttotal: 1m 44s\tremaining: 50.2s\n",
            "338:\tlearn: 0.1219122\ttotal: 1m 45s\tremaining: 49.9s\n",
            "339:\tlearn: 0.1218356\ttotal: 1m 45s\tremaining: 49.5s\n",
            "340:\tlearn: 0.1217608\ttotal: 1m 45s\tremaining: 49.2s\n",
            "341:\tlearn: 0.1216602\ttotal: 1m 45s\tremaining: 48.9s\n",
            "342:\tlearn: 0.1214831\ttotal: 1m 46s\tremaining: 48.6s\n",
            "343:\tlearn: 0.1213494\ttotal: 1m 46s\tremaining: 48.2s\n",
            "344:\tlearn: 0.1212726\ttotal: 1m 46s\tremaining: 47.9s\n",
            "345:\tlearn: 0.1210981\ttotal: 1m 46s\tremaining: 47.6s\n",
            "346:\tlearn: 0.1209602\ttotal: 1m 47s\tremaining: 47.3s\n",
            "347:\tlearn: 0.1207940\ttotal: 1m 47s\tremaining: 46.9s\n",
            "348:\tlearn: 0.1206177\ttotal: 1m 47s\tremaining: 46.6s\n",
            "349:\tlearn: 0.1205449\ttotal: 1m 48s\tremaining: 46.3s\n",
            "350:\tlearn: 0.1204037\ttotal: 1m 48s\tremaining: 46s\n",
            "351:\tlearn: 0.1203159\ttotal: 1m 48s\tremaining: 45.7s\n",
            "352:\tlearn: 0.1202412\ttotal: 1m 49s\tremaining: 45.4s\n",
            "353:\tlearn: 0.1201664\ttotal: 1m 49s\tremaining: 45.2s\n",
            "354:\tlearn: 0.1200565\ttotal: 1m 49s\tremaining: 44.9s\n",
            "355:\tlearn: 0.1199384\ttotal: 1m 50s\tremaining: 44.7s\n",
            "356:\tlearn: 0.1198674\ttotal: 1m 50s\tremaining: 44.4s\n",
            "357:\tlearn: 0.1197970\ttotal: 1m 51s\tremaining: 44.2s\n",
            "358:\tlearn: 0.1196995\ttotal: 1m 51s\tremaining: 43.8s\n",
            "359:\tlearn: 0.1196070\ttotal: 1m 51s\tremaining: 43.5s\n",
            "360:\tlearn: 0.1195374\ttotal: 1m 52s\tremaining: 43.2s\n",
            "361:\tlearn: 0.1193774\ttotal: 1m 52s\tremaining: 42.9s\n",
            "362:\tlearn: 0.1193077\ttotal: 1m 52s\tremaining: 42.5s\n",
            "363:\tlearn: 0.1192347\ttotal: 1m 52s\tremaining: 42.2s\n",
            "364:\tlearn: 0.1190426\ttotal: 1m 53s\tremaining: 41.9s\n",
            "365:\tlearn: 0.1188980\ttotal: 1m 53s\tremaining: 41.6s\n",
            "366:\tlearn: 0.1188279\ttotal: 1m 53s\tremaining: 41.2s\n",
            "367:\tlearn: 0.1187599\ttotal: 1m 54s\tremaining: 40.9s\n",
            "368:\tlearn: 0.1186280\ttotal: 1m 54s\tremaining: 40.6s\n",
            "369:\tlearn: 0.1185626\ttotal: 1m 54s\tremaining: 40.3s\n",
            "370:\tlearn: 0.1184608\ttotal: 1m 54s\tremaining: 39.9s\n",
            "371:\tlearn: 0.1182199\ttotal: 1m 55s\tremaining: 39.6s\n",
            "372:\tlearn: 0.1181503\ttotal: 1m 55s\tremaining: 39.3s\n",
            "373:\tlearn: 0.1180180\ttotal: 1m 55s\tremaining: 39s\n",
            "374:\tlearn: 0.1178793\ttotal: 1m 55s\tremaining: 38.6s\n",
            "375:\tlearn: 0.1176704\ttotal: 1m 56s\tremaining: 38.3s\n",
            "376:\tlearn: 0.1176002\ttotal: 1m 56s\tremaining: 38s\n",
            "377:\tlearn: 0.1175190\ttotal: 1m 56s\tremaining: 37.7s\n",
            "378:\tlearn: 0.1174127\ttotal: 1m 57s\tremaining: 37.4s\n",
            "379:\tlearn: 0.1172865\ttotal: 1m 57s\tremaining: 37s\n",
            "380:\tlearn: 0.1172173\ttotal: 1m 57s\tremaining: 36.7s\n",
            "381:\tlearn: 0.1171541\ttotal: 1m 57s\tremaining: 36.4s\n",
            "382:\tlearn: 0.1170351\ttotal: 1m 58s\tremaining: 36.1s\n",
            "383:\tlearn: 0.1169635\ttotal: 1m 58s\tremaining: 35.8s\n",
            "384:\tlearn: 0.1168344\ttotal: 1m 58s\tremaining: 35.4s\n",
            "385:\tlearn: 0.1167004\ttotal: 1m 58s\tremaining: 35.1s\n",
            "386:\tlearn: 0.1166325\ttotal: 1m 59s\tremaining: 34.8s\n",
            "387:\tlearn: 0.1165479\ttotal: 1m 59s\tremaining: 34.5s\n",
            "388:\tlearn: 0.1163792\ttotal: 1m 59s\tremaining: 34.2s\n",
            "389:\tlearn: 0.1162209\ttotal: 2m\tremaining: 33.8s\n",
            "390:\tlearn: 0.1161082\ttotal: 2m\tremaining: 33.5s\n",
            "391:\tlearn: 0.1160391\ttotal: 2m\tremaining: 33.2s\n",
            "392:\tlearn: 0.1159514\ttotal: 2m\tremaining: 32.9s\n",
            "393:\tlearn: 0.1158898\ttotal: 2m 1s\tremaining: 32.6s\n",
            "394:\tlearn: 0.1158091\ttotal: 2m 1s\tremaining: 32.3s\n",
            "395:\tlearn: 0.1156840\ttotal: 2m 1s\tremaining: 32s\n",
            "396:\tlearn: 0.1155710\ttotal: 2m 2s\tremaining: 31.7s\n",
            "397:\tlearn: 0.1155053\ttotal: 2m 2s\tremaining: 31.4s\n",
            "398:\tlearn: 0.1154415\ttotal: 2m 3s\tremaining: 31.2s\n",
            "399:\tlearn: 0.1153023\ttotal: 2m 3s\tremaining: 30.9s\n",
            "400:\tlearn: 0.1152405\ttotal: 2m 4s\tremaining: 30.6s\n",
            "401:\tlearn: 0.1151527\ttotal: 2m 4s\tremaining: 30.3s\n",
            "402:\tlearn: 0.1148251\ttotal: 2m 4s\tremaining: 30s\n",
            "403:\tlearn: 0.1147619\ttotal: 2m 4s\tremaining: 29.7s\n",
            "404:\tlearn: 0.1146791\ttotal: 2m 5s\tremaining: 29.4s\n",
            "405:\tlearn: 0.1145486\ttotal: 2m 5s\tremaining: 29.1s\n",
            "406:\tlearn: 0.1144532\ttotal: 2m 5s\tremaining: 28.7s\n",
            "407:\tlearn: 0.1143041\ttotal: 2m 6s\tremaining: 28.4s\n",
            "408:\tlearn: 0.1142371\ttotal: 2m 6s\tremaining: 28.1s\n",
            "409:\tlearn: 0.1141000\ttotal: 2m 6s\tremaining: 27.8s\n",
            "410:\tlearn: 0.1140166\ttotal: 2m 6s\tremaining: 27.5s\n",
            "411:\tlearn: 0.1139519\ttotal: 2m 7s\tremaining: 27.2s\n",
            "412:\tlearn: 0.1138921\ttotal: 2m 7s\tremaining: 26.8s\n",
            "413:\tlearn: 0.1138101\ttotal: 2m 7s\tremaining: 26.5s\n",
            "414:\tlearn: 0.1136524\ttotal: 2m 7s\tremaining: 26.2s\n",
            "415:\tlearn: 0.1135000\ttotal: 2m 8s\tremaining: 25.9s\n",
            "416:\tlearn: 0.1134304\ttotal: 2m 8s\tremaining: 25.6s\n",
            "417:\tlearn: 0.1133670\ttotal: 2m 8s\tremaining: 25.3s\n",
            "418:\tlearn: 0.1132339\ttotal: 2m 9s\tremaining: 24.9s\n",
            "419:\tlearn: 0.1131457\ttotal: 2m 9s\tremaining: 24.6s\n",
            "420:\tlearn: 0.1130855\ttotal: 2m 9s\tremaining: 24.3s\n",
            "421:\tlearn: 0.1129741\ttotal: 2m 9s\tremaining: 24s\n",
            "422:\tlearn: 0.1128997\ttotal: 2m 10s\tremaining: 23.7s\n",
            "423:\tlearn: 0.1128416\ttotal: 2m 10s\tremaining: 23.4s\n",
            "424:\tlearn: 0.1127142\ttotal: 2m 10s\tremaining: 23.1s\n",
            "425:\tlearn: 0.1126222\ttotal: 2m 10s\tremaining: 22.7s\n",
            "426:\tlearn: 0.1125659\ttotal: 2m 11s\tremaining: 22.4s\n",
            "427:\tlearn: 0.1125005\ttotal: 2m 11s\tremaining: 22.1s\n",
            "428:\tlearn: 0.1123734\ttotal: 2m 11s\tremaining: 21.8s\n",
            "429:\tlearn: 0.1122491\ttotal: 2m 12s\tremaining: 21.5s\n",
            "430:\tlearn: 0.1121687\ttotal: 2m 12s\tremaining: 21.2s\n",
            "431:\tlearn: 0.1120709\ttotal: 2m 12s\tremaining: 20.9s\n",
            "432:\tlearn: 0.1120128\ttotal: 2m 12s\tremaining: 20.6s\n",
            "433:\tlearn: 0.1118719\ttotal: 2m 13s\tremaining: 20.2s\n",
            "434:\tlearn: 0.1117717\ttotal: 2m 13s\tremaining: 19.9s\n",
            "435:\tlearn: 0.1116769\ttotal: 2m 13s\tremaining: 19.6s\n",
            "436:\tlearn: 0.1116194\ttotal: 2m 13s\tremaining: 19.3s\n",
            "437:\tlearn: 0.1115441\ttotal: 2m 14s\tremaining: 19s\n",
            "438:\tlearn: 0.1114856\ttotal: 2m 14s\tremaining: 18.7s\n",
            "439:\tlearn: 0.1114341\ttotal: 2m 15s\tremaining: 18.4s\n",
            "440:\tlearn: 0.1113353\ttotal: 2m 15s\tremaining: 18.1s\n",
            "441:\tlearn: 0.1112783\ttotal: 2m 15s\tremaining: 17.8s\n",
            "442:\tlearn: 0.1112290\ttotal: 2m 16s\tremaining: 17.6s\n",
            "443:\tlearn: 0.1111682\ttotal: 2m 16s\tremaining: 17.3s\n",
            "444:\tlearn: 0.1111078\ttotal: 2m 17s\tremaining: 17s\n",
            "445:\tlearn: 0.1110369\ttotal: 2m 17s\tremaining: 16.6s\n",
            "446:\tlearn: 0.1109290\ttotal: 2m 17s\tremaining: 16.3s\n",
            "447:\tlearn: 0.1108465\ttotal: 2m 18s\tremaining: 16s\n",
            "448:\tlearn: 0.1107962\ttotal: 2m 18s\tremaining: 15.7s\n",
            "449:\tlearn: 0.1107130\ttotal: 2m 18s\tremaining: 15.4s\n",
            "450:\tlearn: 0.1106548\ttotal: 2m 18s\tremaining: 15.1s\n",
            "451:\tlearn: 0.1105328\ttotal: 2m 19s\tremaining: 14.8s\n",
            "452:\tlearn: 0.1104764\ttotal: 2m 19s\tremaining: 14.5s\n",
            "453:\tlearn: 0.1103922\ttotal: 2m 19s\tremaining: 14.1s\n",
            "454:\tlearn: 0.1102624\ttotal: 2m 19s\tremaining: 13.8s\n",
            "455:\tlearn: 0.1102145\ttotal: 2m 20s\tremaining: 13.5s\n",
            "456:\tlearn: 0.1099608\ttotal: 2m 20s\tremaining: 13.2s\n",
            "457:\tlearn: 0.1098703\ttotal: 2m 20s\tremaining: 12.9s\n",
            "458:\tlearn: 0.1096999\ttotal: 2m 21s\tremaining: 12.6s\n",
            "459:\tlearn: 0.1096496\ttotal: 2m 21s\tremaining: 12.3s\n",
            "460:\tlearn: 0.1096040\ttotal: 2m 21s\tremaining: 12s\n",
            "461:\tlearn: 0.1095542\ttotal: 2m 21s\tremaining: 11.7s\n",
            "462:\tlearn: 0.1095040\ttotal: 2m 22s\tremaining: 11.4s\n",
            "463:\tlearn: 0.1094549\ttotal: 2m 22s\tremaining: 11s\n",
            "464:\tlearn: 0.1091793\ttotal: 2m 22s\tremaining: 10.7s\n",
            "465:\tlearn: 0.1090906\ttotal: 2m 22s\tremaining: 10.4s\n",
            "466:\tlearn: 0.1090315\ttotal: 2m 23s\tremaining: 10.1s\n",
            "467:\tlearn: 0.1089774\ttotal: 2m 23s\tremaining: 9.81s\n",
            "468:\tlearn: 0.1088401\ttotal: 2m 23s\tremaining: 9.5s\n",
            "469:\tlearn: 0.1087793\ttotal: 2m 23s\tremaining: 9.19s\n",
            "470:\tlearn: 0.1086086\ttotal: 2m 24s\tremaining: 8.88s\n",
            "471:\tlearn: 0.1085595\ttotal: 2m 24s\tremaining: 8.57s\n",
            "472:\tlearn: 0.1085109\ttotal: 2m 24s\tremaining: 8.26s\n",
            "473:\tlearn: 0.1084429\ttotal: 2m 25s\tremaining: 7.96s\n",
            "474:\tlearn: 0.1083945\ttotal: 2m 25s\tremaining: 7.65s\n",
            "475:\tlearn: 0.1083001\ttotal: 2m 25s\tremaining: 7.34s\n",
            "476:\tlearn: 0.1082457\ttotal: 2m 25s\tremaining: 7.03s\n",
            "477:\tlearn: 0.1081412\ttotal: 2m 26s\tremaining: 6.72s\n",
            "478:\tlearn: 0.1080103\ttotal: 2m 26s\tremaining: 6.42s\n",
            "479:\tlearn: 0.1079618\ttotal: 2m 26s\tremaining: 6.11s\n",
            "480:\tlearn: 0.1077935\ttotal: 2m 26s\tremaining: 5.8s\n",
            "481:\tlearn: 0.1077463\ttotal: 2m 27s\tremaining: 5.5s\n",
            "482:\tlearn: 0.1076985\ttotal: 2m 27s\tremaining: 5.2s\n",
            "483:\tlearn: 0.1076505\ttotal: 2m 28s\tremaining: 4.9s\n",
            "484:\tlearn: 0.1076039\ttotal: 2m 28s\tremaining: 4.6s\n",
            "485:\tlearn: 0.1075553\ttotal: 2m 29s\tremaining: 4.29s\n",
            "486:\tlearn: 0.1075091\ttotal: 2m 29s\tremaining: 3.99s\n",
            "487:\tlearn: 0.1074383\ttotal: 2m 30s\tremaining: 3.69s\n",
            "488:\tlearn: 0.1073908\ttotal: 2m 30s\tremaining: 3.38s\n",
            "489:\tlearn: 0.1073444\ttotal: 2m 30s\tremaining: 3.07s\n",
            "490:\tlearn: 0.1072966\ttotal: 2m 30s\tremaining: 2.76s\n",
            "491:\tlearn: 0.1072365\ttotal: 2m 31s\tremaining: 2.46s\n",
            "492:\tlearn: 0.1071897\ttotal: 2m 31s\tremaining: 2.15s\n",
            "493:\tlearn: 0.1071434\ttotal: 2m 31s\tremaining: 1.84s\n",
            "494:\tlearn: 0.1070988\ttotal: 2m 31s\tremaining: 1.53s\n",
            "495:\tlearn: 0.1070434\ttotal: 2m 32s\tremaining: 1.23s\n",
            "496:\tlearn: 0.1069898\ttotal: 2m 32s\tremaining: 920ms\n",
            "497:\tlearn: 0.1069443\ttotal: 2m 32s\tremaining: 613ms\n",
            "498:\tlearn: 0.1068976\ttotal: 2m 33s\tremaining: 307ms\n",
            "499:\tlearn: 0.1067955\ttotal: 2m 33s\tremaining: 0us\n"
          ]
        },
        {
          "output_type": "execute_result",
          "data": {
            "text/plain": [
              "<catboost.core.CatBoostClassifier at 0x7f34ef9d5df0>"
            ]
          },
          "metadata": {},
          "execution_count": 242
        }
      ]
    },
    {
      "cell_type": "code",
      "source": [
        "predicts = cat.predict(X_test_vectors)\n",
        "print(classification_report(Y_test_labels, predicts))\n",
        "plot_roc_curve(cat, Y_test_labels)"
      ],
      "metadata": {
        "colab": {
          "base_uri": "https://localhost:8080/",
          "height": 619
        },
        "id": "GNtqlD_i9uQJ",
        "outputId": "0d6b6cad-28e2-49e8-b84b-a04ed32eefce"
      },
      "execution_count": null,
      "outputs": [
        {
          "output_type": "stream",
          "name": "stdout",
          "text": [
            "              precision    recall  f1-score   support\n",
            "\n",
            "           0       0.96      0.99      0.98      5945\n",
            "           1       0.85      0.41      0.55       448\n",
            "\n",
            "    accuracy                           0.95      6393\n",
            "   macro avg       0.90      0.70      0.76      6393\n",
            "weighted avg       0.95      0.95      0.95      6393\n",
            "\n"
          ]
        },
        {
          "output_type": "display_data",
          "data": {
            "text/plain": [
              "<Figure size 640x480 with 1 Axes>"
            ],
            "image/png": "[encoded data removed]"
          },
          "metadata": {}
        }
      ]
    },
    {
      "cell_type": "code",
      "source": [
        "results.append({'model': 'CatBoostClassifier',\n",
        "                'auc': 0.91,\n",
        "                'data': 'regex',\n",
        "                'f1_macro': 0.76,\n",
        "                'recall_1': 0.41,\n",
        "                'precision_1': 0.85})"
      ],
      "metadata": {
        "id": "ozhO9n2wabeL"
      },
      "execution_count": null,
      "outputs": []
    },
    {
      "cell_type": "code",
      "source": [
        "results = pd.DataFrame(results)\n",
        "results"
      ],
      "metadata": {
        "colab": {
          "base_uri": "https://localhost:8080/",
          "height": 237
        },
        "id": "JPcSXciSbIy0",
        "outputId": "5cf3260a-1e64-4869-fbba-452108fec204"
      },
      "execution_count": null,
      "outputs": [
        {
          "output_type": "execute_result",
          "data": {
            "text/plain": [
              "                model   auc            data  f1_macro  recall_1  precision_1\n",
              "0       MultinomialNB  0.86            None      0.59      0.12         1.00\n",
              "1  CatBoostClassifier  0.92            None      0.77      0.42         0.86\n",
              "2       MultinomialNB  0.94  dropped points      0.81      0.52         0.83\n",
              "3  CatBoostClassifier  0.92  dropped points      0.77      0.65         0.52\n",
              "4       MultinomialNB  0.86           regex      0.59      0.11         1.00\n",
              "5  CatBoostClassifier  0.91           regex      0.76      0.41         0.85"
            ],
            "text/html": [
              "\n",
              "  <div id=\"df-0c68299b-8bd9-444b-a159-8394c944566a\">\n",
              "    <div class=\"colab-df-container\">\n",
              "      <div>\n",
              "<style scoped>\n",
              "    .dataframe tbody tr th:only-of-type {\n",
              "        vertical-align: middle;\n",
              "    }\n",
              "\n",
              "    .dataframe tbody tr th {\n",
              "        vertical-align: top;\n",
              "    }\n",
              "\n",
              "    .dataframe thead th {\n",
              "        text-align: right;\n",
              "    }\n",
              "</style>\n",
              "<table border=\"1\" class=\"dataframe\">\n",
              "  <thead>\n",
              "    <tr style=\"text-align: right;\">\n",
              "      <th></th>\n",
              "      <th>model</th>\n",
              "      <th>auc</th>\n",
              "      <th>data</th>\n",
              "      <th>f1_macro</th>\n",
              "      <th>recall_1</th>\n",
              "      <th>precision_1</th>\n",
              "    </tr>\n",
              "  </thead>\n",
              "  <tbody>\n",
              "    <tr>\n",
              "      <th>0</th>\n",
              "      <td>MultinomialNB</td>\n",
              "      <td>0.86</td>\n",
              "      <td>None</td>\n",
              "      <td>0.59</td>\n",
              "      <td>0.12</td>\n",
              "      <td>1.00</td>\n",
              "    </tr>\n",
              "    <tr>\n",
              "      <th>1</th>\n",
              "      <td>CatBoostClassifier</td>\n",
              "      <td>0.92</td>\n",
              "      <td>None</td>\n",
              "      <td>0.77</td>\n",
              "      <td>0.42</td>\n",
              "      <td>0.86</td>\n",
              "    </tr>\n",
              "    <tr>\n",
              "      <th>2</th>\n",
              "      <td>MultinomialNB</td>\n",
              "      <td>0.94</td>\n",
              "      <td>dropped points</td>\n",
              "      <td>0.81</td>\n",
              "      <td>0.52</td>\n",
              "      <td>0.83</td>\n",
              "    </tr>\n",
              "    <tr>\n",
              "      <th>3</th>\n",
              "      <td>CatBoostClassifier</td>\n",
              "      <td>0.92</td>\n",
              "      <td>dropped points</td>\n",
              "      <td>0.77</td>\n",
              "      <td>0.65</td>\n",
              "      <td>0.52</td>\n",
              "    </tr>\n",
              "    <tr>\n",
              "      <th>4</th>\n",
              "      <td>MultinomialNB</td>\n",
              "      <td>0.86</td>\n",
              "      <td>regex</td>\n",
              "      <td>0.59</td>\n",
              "      <td>0.11</td>\n",
              "      <td>1.00</td>\n",
              "    </tr>\n",
              "    <tr>\n",
              "      <th>5</th>\n",
              "      <td>CatBoostClassifier</td>\n",
              "      <td>0.91</td>\n",
              "      <td>regex</td>\n",
              "      <td>0.76</td>\n",
              "      <td>0.41</td>\n",
              "      <td>0.85</td>\n",
              "    </tr>\n",
              "  </tbody>\n",
              "</table>\n",
              "</div>\n",
              "      <button class=\"colab-df-convert\" onclick=\"convertToInteractive('df-0c68299b-8bd9-444b-a159-8394c944566a')\"\n",
              "              title=\"Convert this dataframe to an interactive table.\"\n",
              "              style=\"display:none;\">\n",
              "        \n",
              "  <svg xmlns=\"http://www.w3.org/2000/svg\" height=\"24px\"viewBox=\"0 0 24 24\"\n",
              "       width=\"24px\">\n",
              "    <path d=\"M0 0h24v24H0V0z\" fill=\"none\"/>\n",
              "    <path d=\"M18.56 5.44l.94 2.06.94-2.06 2.06-.94-2.06-.94-.94-2.06-.94 2.06-2.06.94zm-11 1L8.5 8.5l.94-2.06 2.06-.94-2.06-.94L8.5 2.5l-.94 2.06-2.06.94zm10 10l.94 2.06.94-2.06 2.06-.94-2.06-.94-.94-2.06-.94 2.06-2.06.94z\"/><path d=\"M17.41 7.96l-1.37-1.37c-.4-.4-.92-.59-1.43-.59-.52 0-1.04.2-1.43.59L10.3 9.45l-7.72 7.72c-.78.78-.78 2.05 0 2.83L4 21.41c.39.39.9.59 1.41.59.51 0 1.02-.2 1.41-.59l7.78-7.78 2.81-2.81c.8-.78.8-2.07 0-2.86zM5.41 20L4 18.59l7.72-7.72 1.47 1.35L5.41 20z\"/>\n",
              "  </svg>\n",
              "      </button>\n",
              "      \n",
              "  <style>\n",
              "    .colab-df-container {\n",
              "      display:flex;\n",
              "      flex-wrap:wrap;\n",
              "      gap: 12px;\n",
              "    }\n",
              "\n",
              "    .colab-df-convert {\n",
              "      background-color: #E8F0FE;\n",
              "      border: none;\n",
              "      border-radius: 50%;\n",
              "      cursor: pointer;\n",
              "      display: none;\n",
              "      fill: #1967D2;\n",
              "      height: 32px;\n",
              "      padding: 0 0 0 0;\n",
              "      width: 32px;\n",
              "    }\n",
              "\n",
              "    .colab-df-convert:hover {\n",
              "      background-color: #E2EBFA;\n",
              "      box-shadow: 0px 1px 2px rgba(60, 64, 67, 0.3), 0px 1px 3px 1px rgba(60, 64, 67, 0.15);\n",
              "      fill: #174EA6;\n",
              "    }\n",
              "\n",
              "    [theme=dark] .colab-df-convert {\n",
              "      background-color: #3B4455;\n",
              "      fill: #D2E3FC;\n",
              "    }\n",
              "\n",
              "    [theme=dark] .colab-df-convert:hover {\n",
              "      background-color: #434B5C;\n",
              "      box-shadow: 0px 1px 3px 1px rgba(0, 0, 0, 0.15);\n",
              "      filter: drop-shadow(0px 1px 2px rgba(0, 0, 0, 0.3));\n",
              "      fill: #FFFFFF;\n",
              "    }\n",
              "  </style>\n",
              "\n",
              "      <script>\n",
              "        const buttonEl =\n",
              "          document.querySelector('#df-0c68299b-8bd9-444b-a159-8394c944566a button.colab-df-convert');\n",
              "        buttonEl.style.display =\n",
              "          google.colab.kernel.accessAllowed ? 'block' : 'none';\n",
              "\n",
              "        async function convertToInteractive(key) {\n",
              "          const element = document.querySelector('#df-0c68299b-8bd9-444b-a159-8394c944566a');\n",
              "          const dataTable =\n",
              "            await google.colab.kernel.invokeFunction('convertToInteractive',\n",
              "                                                     [key], {});\n",
              "          if (!dataTable) return;\n",
              "\n",
              "          const docLinkHtml = 'Like what you see? Visit the ' +\n",
              "            '<a target=\"_blank\" href=https://colab.research.google.com/notebooks/data_table.ipynb>data table notebook</a>'\n",
              "            + ' to learn more about interactive tables.';\n",
              "          element.innerHTML = '';\n",
              "          dataTable['output_type'] = 'display_data';\n",
              "          await google.colab.output.renderOutput(dataTable, element);\n",
              "          const docLink = document.createElement('div');\n",
              "          docLink.innerHTML = docLinkHtml;\n",
              "          element.appendChild(docLink);\n",
              "        }\n",
              "      </script>\n",
              "    </div>\n",
              "  </div>\n",
              "  "
            ]
          },
          "metadata": {},
          "execution_count": 81
        }
      ]
    },
    {
      "cell_type": "markdown",
      "source": [
        "# Вывод\n",
        "1) При обработке текста классическими алгоритмами сбалансированность классов играет крайне важную роль;\n",
        "\n",
        "2) На исходных данных CatBoostClassifier даёт результат лучше, чем MultinominalNB, судя по метрике f1_macro_average;\n",
        "\n",
        "3) Прореживание части данных, чтобы сбалансировать классы, существенно улучшает метрику f1_macro MultiNominalNB, увеличивая recall и не сильно снижая precision;\n",
        "\n",
        "4) На метрику f1_macro CatBoostClassifier прореживание данных практически не влияет. Меняется распределение между recall и precision;\n",
        "\n",
        "5) \"Чистка\" текста при помощи регулярных выражений практически не меняет метрику."
      ],
      "metadata": {
        "id": "8dGBUfKoV6zs"
      }
    },
    {
      "cell_type": "markdown",
      "source": [
        "#  --------------"
      ],
      "metadata": {
        "id": "bB-bkgeDdBNl"
      }
    },
    {
      "cell_type": "markdown",
      "source": [
        "# Неудачная попытка ("
      ],
      "metadata": {
        "id": "zKLaPU6fcoVa"
      }
    },
    {
      "cell_type": "markdown",
      "source": [
        "## 4.4 Embendings"
      ],
      "metadata": {
        "id": "8sZXMGQHiK5_"
      }
    },
    {
      "cell_type": "code",
      "source": [
        "!pip install transformers"
      ],
      "metadata": {
        "colab": {
          "base_uri": "https://localhost:8080/"
        },
        "id": "PUa-pibhsZLL",
        "outputId": "23aa3c95-e0f2-406e-a21c-fa254eb7a273"
      },
      "execution_count": null,
      "outputs": [
        {
          "output_type": "stream",
          "name": "stdout",
          "text": [
            "Looking in indexes: https://pypi.org/simple, https://us-python.pkg.dev/colab-wheels/public/simple/\n",
            "Collecting transformers\n",
            "  Downloading transformers-4.27.4-py3-none-any.whl (6.8 MB)\n",
            "\u001b[2K     \u001b[90m━━━━━━━━━━━━━━━━━━━━━━━━━━━━━━━━━━━━━━━━\u001b[0m \u001b[32m6.8/6.8 MB\u001b[0m \u001b[31m48.0 MB/s\u001b[0m eta \u001b[36m0:00:00\u001b[0m\n",
            "\u001b[?25hRequirement already satisfied: requests in /usr/local/lib/python3.9/dist-packages (from transformers) (2.27.1)\n",
            "Requirement already satisfied: numpy>=1.17 in /usr/local/lib/python3.9/dist-packages (from transformers) (1.22.4)\n",
            "Collecting tokenizers!=0.11.3,<0.14,>=0.11.1\n",
            "  Downloading tokenizers-0.13.3-cp39-cp39-manylinux_2_17_x86_64.manylinux2014_x86_64.whl (7.8 MB)\n",
            "\u001b[2K     \u001b[90m━━━━━━━━━━━━━━━━━━━━━━━━━━━━━━━━━━━━━━━━\u001b[0m \u001b[32m7.8/7.8 MB\u001b[0m \u001b[31m80.6 MB/s\u001b[0m eta \u001b[36m0:00:00\u001b[0m\n",
            "\u001b[?25hCollecting huggingface-hub<1.0,>=0.11.0\n",
            "  Downloading huggingface_hub-0.13.4-py3-none-any.whl (200 kB)\n",
            "\u001b[2K     \u001b[90m━━━━━━━━━━━━━━━━━━━━━━━━━━━━━━━━━━━━━━\u001b[0m \u001b[32m200.1/200.1 KB\u001b[0m \u001b[31m20.7 MB/s\u001b[0m eta \u001b[36m0:00:00\u001b[0m\n",
            "\u001b[?25hRequirement already satisfied: tqdm>=4.27 in /usr/local/lib/python3.9/dist-packages (from transformers) (4.65.0)\n",
            "Requirement already satisfied: pyyaml>=5.1 in /usr/local/lib/python3.9/dist-packages (from transformers) (6.0)\n",
            "Requirement already satisfied: regex!=2019.12.17 in /usr/local/lib/python3.9/dist-packages (from transformers) (2022.10.31)\n",
            "Requirement already satisfied: filelock in /usr/local/lib/python3.9/dist-packages (from transformers) (3.10.7)\n",
            "Requirement already satisfied: packaging>=20.0 in /usr/local/lib/python3.9/dist-packages (from transformers) (23.0)\n",
            "Requirement already satisfied: typing-extensions>=3.7.4.3 in /usr/local/lib/python3.9/dist-packages (from huggingface-hub<1.0,>=0.11.0->transformers) (4.5.0)\n",
            "Requirement already satisfied: charset-normalizer~=2.0.0 in /usr/local/lib/python3.9/dist-packages (from requests->transformers) (2.0.12)\n",
            "Requirement already satisfied: urllib3<1.27,>=1.21.1 in /usr/local/lib/python3.9/dist-packages (from requests->transformers) (1.26.15)\n",
            "Requirement already satisfied: certifi>=2017.4.17 in /usr/local/lib/python3.9/dist-packages (from requests->transformers) (2022.12.7)\n",
            "Requirement already satisfied: idna<4,>=2.5 in /usr/local/lib/python3.9/dist-packages (from requests->transformers) (3.4)\n",
            "Installing collected packages: tokenizers, huggingface-hub, transformers\n",
            "Successfully installed huggingface-hub-0.13.4 tokenizers-0.13.3 transformers-4.27.4\n"
          ]
        }
      ]
    },
    {
      "cell_type": "code",
      "source": [
        "len(train_train['tweet'].to_list())"
      ],
      "metadata": {
        "colab": {
          "base_uri": "https://localhost:8080/"
        },
        "id": "xMYV4hKo0j6G",
        "outputId": "32394382-465d-4b31-e246-4ac091502a9c"
      },
      "execution_count": null,
      "outputs": [
        {
          "output_type": "execute_result",
          "data": {
            "text/plain": [
              "25569"
            ]
          },
          "metadata": {},
          "execution_count": 34
        }
      ]
    },
    {
      "cell_type": "code",
      "source": [
        "def get_batches(data, batch_size):\n",
        "\n",
        "    n_samples = len(data)\n",
        "    batch_size  = 1000\n",
        "    indices = np.arange(n_samples)\n",
        "\n",
        "    for start in range(0, n_samples, batch_size):\n",
        "      end = min(start + batch_size, n_samples)\n",
        "      batch_idx = indices[start: end]\n",
        "\n",
        "      yield data[start: end]"
      ],
      "metadata": {
        "id": "yLmXRUw_BViQ"
      },
      "execution_count": null,
      "outputs": []
    },
    {
      "cell_type": "code",
      "source": [
        "from transformers import AutoTokenizer, AutoModel\n",
        "import torch\n",
        "\n",
        "\n",
        "#Mean Pooling - Take attention mask into account for correct averaging\n",
        "def mean_pooling(model_output, attention_mask):\n",
        "    token_embeddings = model_output[0] #First element of model_output contains all token embeddings\n",
        "    input_mask_expanded = attention_mask.unsqueeze(-1).expand(token_embeddings.size()).float()\n",
        "    sum_embeddings = torch.sum(token_embeddings * input_mask_expanded, 1)\n",
        "    sum_mask = torch.clamp(input_mask_expanded.sum(1), min=1e-9)\n",
        "    return sum_embeddings / sum_mask\n",
        "\n",
        "\n",
        "#Load AutoModel from huggingface model repository\n",
        "tokenizer = AutoTokenizer.from_pretrained(\"sberbank-ai/sbert_large_nlu_ru\")\n",
        "model = AutoModel.from_pretrained(\"sberbank-ai/sbert_large_nlu_ru\")\n"
      ],
      "metadata": {
        "id": "kvJnUkTO-apm"
      },
      "execution_count": null,
      "outputs": []
    },
    {
      "cell_type": "code",
      "source": [
        "embs = []\n",
        "x_train_list = train_train['tweet'].to_list()\n",
        "\n",
        "for batch in get_batches(x_train_list, 1000):\n",
        "  #Sentences we want sentence embeddings for\n",
        "  sentences = batch\n",
        "\n",
        "  #Tokenize sentences\n",
        "  encoded_input = tokenizer(sentences,\n",
        "                            padding=True,\n",
        "                            truncation=True,\n",
        "                            max_length=24,\n",
        "                            return_tensors='pt')\n",
        "\n",
        "  #Compute token embeddings\n",
        "  with torch.no_grad():\n",
        "      model_output = model(**encoded_input)\n",
        "\n",
        "  #Perform pooling. In this case, mean pooling\n",
        "  sentence_embeddings = mean_pooling(model_output, encoded_input['attention_mask'])\n",
        "  sentence_embeddings.detach().numpy()\n",
        "  embs.append(sentence_embeddings)\n",
        "\n"
      ],
      "metadata": {
        "id": "EXelRLnos7nX",
        "colab": {
          "base_uri": "https://localhost:8080/",
          "height": 380
        },
        "outputId": "d2206b04-8b7d-4593-f00e-6e4e06320589"
      },
      "execution_count": null,
      "outputs": [
        {
          "output_type": "error",
          "ename": "KeyboardInterrupt",
          "evalue": "ignored",
          "traceback": [
            "\u001b[0;31m---------------------------------------------------------------------------\u001b[0m",
            "\u001b[0;31mKeyboardInterrupt\u001b[0m                         Traceback (most recent call last)",
            "\u001b[0;32m<ipython-input-60-2a5c41482dc8>\u001b[0m in \u001b[0;36m<cell line: 4>\u001b[0;34m()\u001b[0m\n\u001b[1;32m     15\u001b[0m   \u001b[0;31m#Compute token embeddings\u001b[0m\u001b[0;34m\u001b[0m\u001b[0;34m\u001b[0m\u001b[0m\n\u001b[1;32m     16\u001b[0m   \u001b[0;32mwith\u001b[0m \u001b[0mtorch\u001b[0m\u001b[0;34m.\u001b[0m\u001b[0mno_grad\u001b[0m\u001b[0;34m(\u001b[0m\u001b[0;34m)\u001b[0m\u001b[0;34m:\u001b[0m\u001b[0;34m\u001b[0m\u001b[0;34m\u001b[0m\u001b[0m\n\u001b[0;32m---> 17\u001b[0;31m       \u001b[0mmodel_output\u001b[0m \u001b[0;34m=\u001b[0m \u001b[0mmodel\u001b[0m\u001b[0;34m(\u001b[0m\u001b[0;34m**\u001b[0m\u001b[0mencoded_input\u001b[0m\u001b[0;34m)\u001b[0m\u001b[0;34m\u001b[0m\u001b[0;34m\u001b[0m\u001b[0m\n\u001b[0m\u001b[1;32m     18\u001b[0m \u001b[0;34m\u001b[0m\u001b[0m\n\u001b[1;32m     19\u001b[0m   \u001b[0;31m#Perform pooling. In this case, mean pooling\u001b[0m\u001b[0;34m\u001b[0m\u001b[0;34m\u001b[0m\u001b[0m\n",
            "\u001b[0;32m/usr/local/lib/python3.9/dist-packages/torch/nn/modules/module.py\u001b[0m in \u001b[0;36m_call_impl\u001b[0;34m(self, *args, **kwargs)\u001b[0m\n\u001b[1;32m   1499\u001b[0m                 \u001b[0;32mor\u001b[0m \u001b[0m_global_backward_pre_hooks\u001b[0m \u001b[0;32mor\u001b[0m \u001b[0m_global_backward_hooks\u001b[0m\u001b[0;34m\u001b[0m\u001b[0;34m\u001b[0m\u001b[0m\n\u001b[1;32m   1500\u001b[0m                 or _global_forward_hooks or _global_forward_pre_hooks):\n\u001b[0;32m-> 1501\u001b[0;31m             \u001b[0;32mreturn\u001b[0m \u001b[0mforward_call\u001b[0m\u001b[0;34m(\u001b[0m\u001b[0;34m*\u001b[0m\u001b[0margs\u001b[0m\u001b[0;34m,\u001b[0m \u001b[0;34m**\u001b[0m\u001b[0mkwargs\u001b[0m\u001b[0;34m)\u001b[0m\u001b[0;34m\u001b[0m\u001b[0;34m\u001b[0m\u001b[0m\n\u001b[0m\u001b[1;32m   1502\u001b[0m         \u001b[0;31m# Do not call functions when jit is used\u001b[0m\u001b[0;34m\u001b[0m\u001b[0;34m\u001b[0m\u001b[0m\n\u001b[1;32m   1503\u001b[0m         \u001b[0mfull_backward_hooks\u001b[0m\u001b[0;34m,\u001b[0m \u001b[0mnon_full_backward_hooks\u001b[0m \u001b[0;34m=\u001b[0m \u001b[0;34m[\u001b[0m\u001b[0;34m]\u001b[0m\u001b[0;34m,\u001b[0m \u001b[0;34m[\u001b[0m\u001b[0;34m]\u001b[0m\u001b[0;34m\u001b[0m\u001b[0;34m\u001b[0m\u001b[0m\n",
            "\u001b[0;32m/usr/local/lib/python3.9/dist-packages/transformers/models/bert/modeling_bert.py\u001b[0m in \u001b[0;36mforward\u001b[0;34m(self, input_ids, attention_mask, token_type_ids, position_ids, head_mask, inputs_embeds, encoder_hidden_states, encoder_attention_mask, past_key_values, use_cache, output_attentions, output_hidden_states, return_dict)\u001b[0m\n\u001b[1;32m   1018\u001b[0m             \u001b[0mpast_key_values_length\u001b[0m\u001b[0;34m=\u001b[0m\u001b[0mpast_key_values_length\u001b[0m\u001b[0;34m,\u001b[0m\u001b[0;34m\u001b[0m\u001b[0;34m\u001b[0m\u001b[0m\n\u001b[1;32m   1019\u001b[0m         )\n\u001b[0;32m-> 1020\u001b[0;31m         encoder_outputs = self.encoder(\n\u001b[0m\u001b[1;32m   1021\u001b[0m             \u001b[0membedding_output\u001b[0m\u001b[0;34m,\u001b[0m\u001b[0;34m\u001b[0m\u001b[0;34m\u001b[0m\u001b[0m\n\u001b[1;32m   1022\u001b[0m             \u001b[0mattention_mask\u001b[0m\u001b[0;34m=\u001b[0m\u001b[0mextended_attention_mask\u001b[0m\u001b[0;34m,\u001b[0m\u001b[0;34m\u001b[0m\u001b[0;34m\u001b[0m\u001b[0m\n",
            "\u001b[0;32m/usr/local/lib/python3.9/dist-packages/torch/nn/modules/module.py\u001b[0m in \u001b[0;36m_call_impl\u001b[0;34m(self, *args, **kwargs)\u001b[0m\n\u001b[1;32m   1499\u001b[0m                 \u001b[0;32mor\u001b[0m \u001b[0m_global_backward_pre_hooks\u001b[0m \u001b[0;32mor\u001b[0m \u001b[0m_global_backward_hooks\u001b[0m\u001b[0;34m\u001b[0m\u001b[0;34m\u001b[0m\u001b[0m\n\u001b[1;32m   1500\u001b[0m                 or _global_forward_hooks or _global_forward_pre_hooks):\n\u001b[0;32m-> 1501\u001b[0;31m             \u001b[0;32mreturn\u001b[0m \u001b[0mforward_call\u001b[0m\u001b[0;34m(\u001b[0m\u001b[0;34m*\u001b[0m\u001b[0margs\u001b[0m\u001b[0;34m,\u001b[0m \u001b[0;34m**\u001b[0m\u001b[0mkwargs\u001b[0m\u001b[0;34m)\u001b[0m\u001b[0;34m\u001b[0m\u001b[0;34m\u001b[0m\u001b[0m\n\u001b[0m\u001b[1;32m   1502\u001b[0m         \u001b[0;31m# Do not call functions when jit is used\u001b[0m\u001b[0;34m\u001b[0m\u001b[0;34m\u001b[0m\u001b[0m\n\u001b[1;32m   1503\u001b[0m         \u001b[0mfull_backward_hooks\u001b[0m\u001b[0;34m,\u001b[0m \u001b[0mnon_full_backward_hooks\u001b[0m \u001b[0;34m=\u001b[0m \u001b[0;34m[\u001b[0m\u001b[0;34m]\u001b[0m\u001b[0;34m,\u001b[0m \u001b[0;34m[\u001b[0m\u001b[0;34m]\u001b[0m\u001b[0;34m\u001b[0m\u001b[0;34m\u001b[0m\u001b[0m\n",
            "\u001b[0;32m/usr/local/lib/python3.9/dist-packages/transformers/models/bert/modeling_bert.py\u001b[0m in \u001b[0;36mforward\u001b[0;34m(self, hidden_states, attention_mask, head_mask, encoder_hidden_states, encoder_attention_mask, past_key_values, use_cache, output_attentions, output_hidden_states, return_dict)\u001b[0m\n\u001b[1;32m    608\u001b[0m                 )\n\u001b[1;32m    609\u001b[0m             \u001b[0;32melse\u001b[0m\u001b[0;34m:\u001b[0m\u001b[0;34m\u001b[0m\u001b[0;34m\u001b[0m\u001b[0m\n\u001b[0;32m--> 610\u001b[0;31m                 layer_outputs = layer_module(\n\u001b[0m\u001b[1;32m    611\u001b[0m                     \u001b[0mhidden_states\u001b[0m\u001b[0;34m,\u001b[0m\u001b[0;34m\u001b[0m\u001b[0;34m\u001b[0m\u001b[0m\n\u001b[1;32m    612\u001b[0m                     \u001b[0mattention_mask\u001b[0m\u001b[0;34m,\u001b[0m\u001b[0;34m\u001b[0m\u001b[0;34m\u001b[0m\u001b[0m\n",
            "\u001b[0;32m/usr/local/lib/python3.9/dist-packages/torch/nn/modules/module.py\u001b[0m in \u001b[0;36m_call_impl\u001b[0;34m(self, *args, **kwargs)\u001b[0m\n\u001b[1;32m   1499\u001b[0m                 \u001b[0;32mor\u001b[0m \u001b[0m_global_backward_pre_hooks\u001b[0m \u001b[0;32mor\u001b[0m \u001b[0m_global_backward_hooks\u001b[0m\u001b[0;34m\u001b[0m\u001b[0;34m\u001b[0m\u001b[0m\n\u001b[1;32m   1500\u001b[0m                 or _global_forward_hooks or _global_forward_pre_hooks):\n\u001b[0;32m-> 1501\u001b[0;31m             \u001b[0;32mreturn\u001b[0m \u001b[0mforward_call\u001b[0m\u001b[0;34m(\u001b[0m\u001b[0;34m*\u001b[0m\u001b[0margs\u001b[0m\u001b[0;34m,\u001b[0m \u001b[0;34m**\u001b[0m\u001b[0mkwargs\u001b[0m\u001b[0;34m)\u001b[0m\u001b[0;34m\u001b[0m\u001b[0;34m\u001b[0m\u001b[0m\n\u001b[0m\u001b[1;32m   1502\u001b[0m         \u001b[0;31m# Do not call functions when jit is used\u001b[0m\u001b[0;34m\u001b[0m\u001b[0;34m\u001b[0m\u001b[0m\n\u001b[1;32m   1503\u001b[0m         \u001b[0mfull_backward_hooks\u001b[0m\u001b[0;34m,\u001b[0m \u001b[0mnon_full_backward_hooks\u001b[0m \u001b[0;34m=\u001b[0m \u001b[0;34m[\u001b[0m\u001b[0;34m]\u001b[0m\u001b[0;34m,\u001b[0m \u001b[0;34m[\u001b[0m\u001b[0;34m]\u001b[0m\u001b[0;34m\u001b[0m\u001b[0;34m\u001b[0m\u001b[0m\n",
            "\u001b[0;32m/usr/local/lib/python3.9/dist-packages/transformers/models/bert/modeling_bert.py\u001b[0m in \u001b[0;36mforward\u001b[0;34m(self, hidden_states, attention_mask, head_mask, encoder_hidden_states, encoder_attention_mask, past_key_value, output_attentions)\u001b[0m\n\u001b[1;32m    535\u001b[0m             \u001b[0mpresent_key_value\u001b[0m \u001b[0;34m=\u001b[0m \u001b[0mpresent_key_value\u001b[0m \u001b[0;34m+\u001b[0m \u001b[0mcross_attn_present_key_value\u001b[0m\u001b[0;34m\u001b[0m\u001b[0;34m\u001b[0m\u001b[0m\n\u001b[1;32m    536\u001b[0m \u001b[0;34m\u001b[0m\u001b[0m\n\u001b[0;32m--> 537\u001b[0;31m         layer_output = apply_chunking_to_forward(\n\u001b[0m\u001b[1;32m    538\u001b[0m             \u001b[0mself\u001b[0m\u001b[0;34m.\u001b[0m\u001b[0mfeed_forward_chunk\u001b[0m\u001b[0;34m,\u001b[0m \u001b[0mself\u001b[0m\u001b[0;34m.\u001b[0m\u001b[0mchunk_size_feed_forward\u001b[0m\u001b[0;34m,\u001b[0m \u001b[0mself\u001b[0m\u001b[0;34m.\u001b[0m\u001b[0mseq_len_dim\u001b[0m\u001b[0;34m,\u001b[0m \u001b[0mattention_output\u001b[0m\u001b[0;34m\u001b[0m\u001b[0;34m\u001b[0m\u001b[0m\n\u001b[1;32m    539\u001b[0m         )\n",
            "\u001b[0;32m/usr/local/lib/python3.9/dist-packages/transformers/pytorch_utils.py\u001b[0m in \u001b[0;36mapply_chunking_to_forward\u001b[0;34m(forward_fn, chunk_size, chunk_dim, *input_tensors)\u001b[0m\n\u001b[1;32m    246\u001b[0m         \u001b[0;32mreturn\u001b[0m \u001b[0mtorch\u001b[0m\u001b[0;34m.\u001b[0m\u001b[0mcat\u001b[0m\u001b[0;34m(\u001b[0m\u001b[0moutput_chunks\u001b[0m\u001b[0;34m,\u001b[0m \u001b[0mdim\u001b[0m\u001b[0;34m=\u001b[0m\u001b[0mchunk_dim\u001b[0m\u001b[0;34m)\u001b[0m\u001b[0;34m\u001b[0m\u001b[0;34m\u001b[0m\u001b[0m\n\u001b[1;32m    247\u001b[0m \u001b[0;34m\u001b[0m\u001b[0m\n\u001b[0;32m--> 248\u001b[0;31m     \u001b[0;32mreturn\u001b[0m \u001b[0mforward_fn\u001b[0m\u001b[0;34m(\u001b[0m\u001b[0;34m*\u001b[0m\u001b[0minput_tensors\u001b[0m\u001b[0;34m)\u001b[0m\u001b[0;34m\u001b[0m\u001b[0;34m\u001b[0m\u001b[0m\n\u001b[0m\u001b[1;32m    249\u001b[0m \u001b[0;34m\u001b[0m\u001b[0m\n\u001b[1;32m    250\u001b[0m \u001b[0;34m\u001b[0m\u001b[0m\n",
            "\u001b[0;32m/usr/local/lib/python3.9/dist-packages/transformers/models/bert/modeling_bert.py\u001b[0m in \u001b[0;36mfeed_forward_chunk\u001b[0;34m(self, attention_output)\u001b[0m\n\u001b[1;32m    548\u001b[0m     \u001b[0;32mdef\u001b[0m \u001b[0mfeed_forward_chunk\u001b[0m\u001b[0;34m(\u001b[0m\u001b[0mself\u001b[0m\u001b[0;34m,\u001b[0m \u001b[0mattention_output\u001b[0m\u001b[0;34m)\u001b[0m\u001b[0;34m:\u001b[0m\u001b[0;34m\u001b[0m\u001b[0;34m\u001b[0m\u001b[0m\n\u001b[1;32m    549\u001b[0m         \u001b[0mintermediate_output\u001b[0m \u001b[0;34m=\u001b[0m \u001b[0mself\u001b[0m\u001b[0;34m.\u001b[0m\u001b[0mintermediate\u001b[0m\u001b[0;34m(\u001b[0m\u001b[0mattention_output\u001b[0m\u001b[0;34m)\u001b[0m\u001b[0;34m\u001b[0m\u001b[0;34m\u001b[0m\u001b[0m\n\u001b[0;32m--> 550\u001b[0;31m         \u001b[0mlayer_output\u001b[0m \u001b[0;34m=\u001b[0m \u001b[0mself\u001b[0m\u001b[0;34m.\u001b[0m\u001b[0moutput\u001b[0m\u001b[0;34m(\u001b[0m\u001b[0mintermediate_output\u001b[0m\u001b[0;34m,\u001b[0m \u001b[0mattention_output\u001b[0m\u001b[0;34m)\u001b[0m\u001b[0;34m\u001b[0m\u001b[0;34m\u001b[0m\u001b[0m\n\u001b[0m\u001b[1;32m    551\u001b[0m         \u001b[0;32mreturn\u001b[0m \u001b[0mlayer_output\u001b[0m\u001b[0;34m\u001b[0m\u001b[0;34m\u001b[0m\u001b[0m\n\u001b[1;32m    552\u001b[0m \u001b[0;34m\u001b[0m\u001b[0m\n",
            "\u001b[0;32m/usr/local/lib/python3.9/dist-packages/torch/nn/modules/module.py\u001b[0m in \u001b[0;36m_call_impl\u001b[0;34m(self, *args, **kwargs)\u001b[0m\n\u001b[1;32m   1499\u001b[0m                 \u001b[0;32mor\u001b[0m \u001b[0m_global_backward_pre_hooks\u001b[0m \u001b[0;32mor\u001b[0m \u001b[0m_global_backward_hooks\u001b[0m\u001b[0;34m\u001b[0m\u001b[0;34m\u001b[0m\u001b[0m\n\u001b[1;32m   1500\u001b[0m                 or _global_forward_hooks or _global_forward_pre_hooks):\n\u001b[0;32m-> 1501\u001b[0;31m             \u001b[0;32mreturn\u001b[0m \u001b[0mforward_call\u001b[0m\u001b[0;34m(\u001b[0m\u001b[0;34m*\u001b[0m\u001b[0margs\u001b[0m\u001b[0;34m,\u001b[0m \u001b[0;34m**\u001b[0m\u001b[0mkwargs\u001b[0m\u001b[0;34m)\u001b[0m\u001b[0;34m\u001b[0m\u001b[0;34m\u001b[0m\u001b[0m\n\u001b[0m\u001b[1;32m   1502\u001b[0m         \u001b[0;31m# Do not call functions when jit is used\u001b[0m\u001b[0;34m\u001b[0m\u001b[0;34m\u001b[0m\u001b[0m\n\u001b[1;32m   1503\u001b[0m         \u001b[0mfull_backward_hooks\u001b[0m\u001b[0;34m,\u001b[0m \u001b[0mnon_full_backward_hooks\u001b[0m \u001b[0;34m=\u001b[0m \u001b[0;34m[\u001b[0m\u001b[0;34m]\u001b[0m\u001b[0;34m,\u001b[0m \u001b[0;34m[\u001b[0m\u001b[0;34m]\u001b[0m\u001b[0;34m\u001b[0m\u001b[0;34m\u001b[0m\u001b[0m\n",
            "\u001b[0;32m/usr/local/lib/python3.9/dist-packages/transformers/models/bert/modeling_bert.py\u001b[0m in \u001b[0;36mforward\u001b[0;34m(self, hidden_states, input_tensor)\u001b[0m\n\u001b[1;32m    460\u001b[0m \u001b[0;34m\u001b[0m\u001b[0m\n\u001b[1;32m    461\u001b[0m     \u001b[0;32mdef\u001b[0m \u001b[0mforward\u001b[0m\u001b[0;34m(\u001b[0m\u001b[0mself\u001b[0m\u001b[0;34m,\u001b[0m \u001b[0mhidden_states\u001b[0m\u001b[0;34m:\u001b[0m \u001b[0mtorch\u001b[0m\u001b[0;34m.\u001b[0m\u001b[0mTensor\u001b[0m\u001b[0;34m,\u001b[0m \u001b[0minput_tensor\u001b[0m\u001b[0;34m:\u001b[0m \u001b[0mtorch\u001b[0m\u001b[0;34m.\u001b[0m\u001b[0mTensor\u001b[0m\u001b[0;34m)\u001b[0m \u001b[0;34m->\u001b[0m \u001b[0mtorch\u001b[0m\u001b[0;34m.\u001b[0m\u001b[0mTensor\u001b[0m\u001b[0;34m:\u001b[0m\u001b[0;34m\u001b[0m\u001b[0;34m\u001b[0m\u001b[0m\n\u001b[0;32m--> 462\u001b[0;31m         \u001b[0mhidden_states\u001b[0m \u001b[0;34m=\u001b[0m \u001b[0mself\u001b[0m\u001b[0;34m.\u001b[0m\u001b[0mdense\u001b[0m\u001b[0;34m(\u001b[0m\u001b[0mhidden_states\u001b[0m\u001b[0;34m)\u001b[0m\u001b[0;34m\u001b[0m\u001b[0;34m\u001b[0m\u001b[0m\n\u001b[0m\u001b[1;32m    463\u001b[0m         \u001b[0mhidden_states\u001b[0m \u001b[0;34m=\u001b[0m \u001b[0mself\u001b[0m\u001b[0;34m.\u001b[0m\u001b[0mdropout\u001b[0m\u001b[0;34m(\u001b[0m\u001b[0mhidden_states\u001b[0m\u001b[0;34m)\u001b[0m\u001b[0;34m\u001b[0m\u001b[0;34m\u001b[0m\u001b[0m\n\u001b[1;32m    464\u001b[0m         \u001b[0mhidden_states\u001b[0m \u001b[0;34m=\u001b[0m \u001b[0mself\u001b[0m\u001b[0;34m.\u001b[0m\u001b[0mLayerNorm\u001b[0m\u001b[0;34m(\u001b[0m\u001b[0mhidden_states\u001b[0m \u001b[0;34m+\u001b[0m \u001b[0minput_tensor\u001b[0m\u001b[0;34m)\u001b[0m\u001b[0;34m\u001b[0m\u001b[0;34m\u001b[0m\u001b[0m\n",
            "\u001b[0;32m/usr/local/lib/python3.9/dist-packages/torch/nn/modules/module.py\u001b[0m in \u001b[0;36m_call_impl\u001b[0;34m(self, *args, **kwargs)\u001b[0m\n\u001b[1;32m   1499\u001b[0m                 \u001b[0;32mor\u001b[0m \u001b[0m_global_backward_pre_hooks\u001b[0m \u001b[0;32mor\u001b[0m \u001b[0m_global_backward_hooks\u001b[0m\u001b[0;34m\u001b[0m\u001b[0;34m\u001b[0m\u001b[0m\n\u001b[1;32m   1500\u001b[0m                 or _global_forward_hooks or _global_forward_pre_hooks):\n\u001b[0;32m-> 1501\u001b[0;31m             \u001b[0;32mreturn\u001b[0m \u001b[0mforward_call\u001b[0m\u001b[0;34m(\u001b[0m\u001b[0;34m*\u001b[0m\u001b[0margs\u001b[0m\u001b[0;34m,\u001b[0m \u001b[0;34m**\u001b[0m\u001b[0mkwargs\u001b[0m\u001b[0;34m)\u001b[0m\u001b[0;34m\u001b[0m\u001b[0;34m\u001b[0m\u001b[0m\n\u001b[0m\u001b[1;32m   1502\u001b[0m         \u001b[0;31m# Do not call functions when jit is used\u001b[0m\u001b[0;34m\u001b[0m\u001b[0;34m\u001b[0m\u001b[0m\n\u001b[1;32m   1503\u001b[0m         \u001b[0mfull_backward_hooks\u001b[0m\u001b[0;34m,\u001b[0m \u001b[0mnon_full_backward_hooks\u001b[0m \u001b[0;34m=\u001b[0m \u001b[0;34m[\u001b[0m\u001b[0;34m]\u001b[0m\u001b[0;34m,\u001b[0m \u001b[0;34m[\u001b[0m\u001b[0;34m]\u001b[0m\u001b[0;34m\u001b[0m\u001b[0;34m\u001b[0m\u001b[0m\n",
            "\u001b[0;32m/usr/local/lib/python3.9/dist-packages/torch/nn/modules/linear.py\u001b[0m in \u001b[0;36mforward\u001b[0;34m(self, input)\u001b[0m\n\u001b[1;32m    112\u001b[0m \u001b[0;34m\u001b[0m\u001b[0m\n\u001b[1;32m    113\u001b[0m     \u001b[0;32mdef\u001b[0m \u001b[0mforward\u001b[0m\u001b[0;34m(\u001b[0m\u001b[0mself\u001b[0m\u001b[0;34m,\u001b[0m \u001b[0minput\u001b[0m\u001b[0;34m:\u001b[0m \u001b[0mTensor\u001b[0m\u001b[0;34m)\u001b[0m \u001b[0;34m->\u001b[0m \u001b[0mTensor\u001b[0m\u001b[0;34m:\u001b[0m\u001b[0;34m\u001b[0m\u001b[0;34m\u001b[0m\u001b[0m\n\u001b[0;32m--> 114\u001b[0;31m         \u001b[0;32mreturn\u001b[0m \u001b[0mF\u001b[0m\u001b[0;34m.\u001b[0m\u001b[0mlinear\u001b[0m\u001b[0;34m(\u001b[0m\u001b[0minput\u001b[0m\u001b[0;34m,\u001b[0m \u001b[0mself\u001b[0m\u001b[0;34m.\u001b[0m\u001b[0mweight\u001b[0m\u001b[0;34m,\u001b[0m \u001b[0mself\u001b[0m\u001b[0;34m.\u001b[0m\u001b[0mbias\u001b[0m\u001b[0;34m)\u001b[0m\u001b[0;34m\u001b[0m\u001b[0;34m\u001b[0m\u001b[0m\n\u001b[0m\u001b[1;32m    115\u001b[0m \u001b[0;34m\u001b[0m\u001b[0m\n\u001b[1;32m    116\u001b[0m     \u001b[0;32mdef\u001b[0m \u001b[0mextra_repr\u001b[0m\u001b[0;34m(\u001b[0m\u001b[0mself\u001b[0m\u001b[0;34m)\u001b[0m \u001b[0;34m->\u001b[0m \u001b[0mstr\u001b[0m\u001b[0;34m:\u001b[0m\u001b[0;34m\u001b[0m\u001b[0;34m\u001b[0m\u001b[0m\n",
            "\u001b[0;31mKeyboardInterrupt\u001b[0m: "
          ]
        }
      ]
    },
    {
      "cell_type": "code",
      "source": [
        "sentence_embeddings.detach().numpy()"
      ],
      "metadata": {
        "id": "7tjIX75FvlJS",
        "colab": {
          "base_uri": "https://localhost:8080/"
        },
        "outputId": "a81a2e87-89ca-4a03-8a27-65e1cb2943b4"
      },
      "execution_count": null,
      "outputs": [
        {
          "output_type": "execute_result",
          "data": {
            "text/plain": [
              "array([[ 0.26942217,  0.05671582, -0.76393276, ..., -0.05552113,\n",
              "        -0.09106632, -0.08975167],\n",
              "       [ 0.3041831 ,  0.04389743, -0.4291401 , ..., -0.02943943,\n",
              "        -0.322607  , -0.6407962 ],\n",
              "       [ 0.46373138, -0.23817086, -0.4727472 , ..., -0.25749624,\n",
              "         0.08546245, -0.10412464],\n",
              "       ...,\n",
              "       [ 0.26130337, -0.26969957, -0.49505463, ..., -0.2080531 ,\n",
              "         0.29919764, -0.04689659],\n",
              "       [ 0.5749908 ,  0.08973515, -0.7907164 , ...,  0.06156558,\n",
              "        -0.36494836, -0.34849587],\n",
              "       [ 0.5372604 ,  0.20491177, -0.45645976, ...,  0.37935027,\n",
              "        -0.65748304, -0.20064385]], dtype=float32)"
            ]
          },
          "metadata": {},
          "execution_count": 44
        }
      ]
    },
    {
      "cell_type": "code",
      "source": [],
      "metadata": {
        "id": "-KjiE4LL1KYX"
      },
      "execution_count": null,
      "outputs": []
    }
  ]
}